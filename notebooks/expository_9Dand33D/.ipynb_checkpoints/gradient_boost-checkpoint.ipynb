{
 "cells": [
  {
   "cell_type": "code",
   "execution_count": 17,
   "metadata": {},
   "outputs": [],
   "source": [
    "from sklearn.ensemble import GradientBoostingClassifier"
   ]
  },
  {
   "cell_type": "code",
   "execution_count": 167,
   "metadata": {},
   "outputs": [
    {
     "name": "stdout",
     "output_type": "stream",
     "text": [
      "      Iter       Train Loss   Remaining Time \n",
      "         1           0.7722            1.98m\n",
      "         2           0.6870            1.98m\n",
      "         3           0.6529            1.86m\n",
      "         4           0.6389            1.73m\n",
      "         5           0.6321            1.54m\n",
      "         6           0.6247            1.38m\n",
      "         7           0.6181            1.22m\n",
      "         8           0.6153            1.07m\n",
      "         9           0.6123           55.17s\n",
      "        10           0.6081           46.06s\n",
      "Accuracy: 49.91%\n"
     ]
    }
   ],
   "source": [
    "gradboost_init_350Gm = sigbg_model(GradientBoostingClassifier(max_depth=5,\n",
    "                                                             n_estimators=15,\n",
    "                                                             learning_rate=1,\n",
    "                                                             verbose=1), \n",
    "                                   init_350Gm_train, init_350Gm_test);\n",
    "gradboost_init_350Gm.fit()\n",
    "gradboost_init_350Gm.accuracy()"
   ]
  },
  {
   "cell_type": "code",
   "execution_count": 169,
   "metadata": {},
   "outputs": [
    {
     "data": {
      "text/plain": [
       "array([1., 1., 1., 1., 1., 1., 1., 1., 0., 0.])"
      ]
     },
     "execution_count": 169,
     "metadata": {},
     "output_type": "execute_result"
    }
   ],
   "source": [
    "gradboost_init_350Gm.model.predict(init_350Gm_test[:10,:-1])"
   ]
  },
  {
   "cell_type": "code",
   "execution_count": 119,
   "metadata": {},
   "outputs": [
    {
     "name": "stdout",
     "output_type": "stream",
     "text": [
      "      Iter       Train Loss   Remaining Time \n",
      "         1           0.1656            9.27m\n",
      "         2           0.1422            8.38m\n",
      "         3           0.1353            7.59m\n",
      "         4           0.1303            7.05m\n",
      "         5           0.1275            6.42m\n",
      "         6           0.1260            5.72m\n",
      "         7           0.1243            5.07m\n",
      "         8           0.1226            4.42m\n",
      "         9           0.1215            3.79m\n",
      "        10           0.1203            3.13m\n",
      "Accuracy: 84.41%\n"
     ]
    }
   ],
   "source": [
    "gradboost_f350Gm = sigbg_model(GradientBoostingClassifier(max_depth=5,\n",
    "                                                         n_estimators=15,\n",
    "                                                         learning_rate=1,\n",
    "                                                         verbose=1), \n",
    "                               f350Gm_data_train, f350Gm_data_test);\n",
    "gradboost_f350Gm.fit()\n",
    "gradboost_f350Gm.accuracy()"
   ]
  },
  {
   "cell_type": "code",
   "execution_count": 120,
   "metadata": {},
   "outputs": [
    {
     "name": "stdout",
     "output_type": "stream",
     "text": [
      "      Iter       Train Loss   Remaining Time \n",
      "         1           0.0082            8.85m\n",
      "         2           0.0075            8.01m\n",
      "         3           0.0072            7.54m\n",
      "         4           0.0069            6.89m\n",
      "         5           0.0065            6.22m\n",
      "         6           0.0063            5.65m\n",
      "         7           0.0062            5.05m\n",
      "         8           0.0061            4.40m\n",
      "         9           0.0060            3.73m\n",
      "        10           0.0060            3.08m\n",
      "Accuracy: 99.33%\n"
     ]
    }
   ],
   "source": [
    "gradboost_f2Tm = sigbg_model(GradientBoostingClassifier(max_depth=5,\n",
    "                                                       n_estimators=15,\n",
    "                                                       learning_rate=1,\n",
    "                                                       verbose=1), \n",
    "                               f2Tm_data_train, f2Tm_data_test);\n",
    "gradboost_f2Tm.fit()\n",
    "gradboost_f2Tm.accuracy()"
   ]
  },
  {
   "cell_type": "markdown",
   "metadata": {},
   "source": [
    "# ROC RELATED"
   ]
  },
  {
   "cell_type": "code",
   "execution_count": 179,
   "metadata": {
    "collapsed": true,
    "jupyter": {
     "outputs_hidden": true
    }
   },
   "outputs": [
    {
     "ename": "ImportError",
     "evalue": "cannot import name 'plot_roc_curve' from 'sklearn.metrics' (/Users/elijahsheridan/opt/anaconda3/lib/python3.7/site-packages/sklearn/metrics/__init__.py)",
     "output_type": "error",
     "traceback": [
      "\u001b[0;31m---------------------------------------------------------------------------\u001b[0m",
      "\u001b[0;31mImportError\u001b[0m                               Traceback (most recent call last)",
      "\u001b[0;32m<ipython-input-179-badd1ba41ce7>\u001b[0m in \u001b[0;36m<module>\u001b[0;34m\u001b[0m\n\u001b[1;32m      1\u001b[0m \u001b[0;32mfrom\u001b[0m \u001b[0msklearn\u001b[0m\u001b[0;34m.\u001b[0m\u001b[0mmetrics\u001b[0m \u001b[0;32mimport\u001b[0m \u001b[0mroc_curve\u001b[0m\u001b[0;34m\u001b[0m\u001b[0;34m\u001b[0m\u001b[0m\n\u001b[0;32m----> 2\u001b[0;31m \u001b[0;32mfrom\u001b[0m \u001b[0msklearn\u001b[0m\u001b[0;34m.\u001b[0m\u001b[0mmetrics\u001b[0m \u001b[0;32mimport\u001b[0m \u001b[0mplot_roc_curve\u001b[0m\u001b[0;34m\u001b[0m\u001b[0;34m\u001b[0m\u001b[0m\n\u001b[0m",
      "\u001b[0;31mImportError\u001b[0m: cannot import name 'plot_roc_curve' from 'sklearn.metrics' (/Users/elijahsheridan/opt/anaconda3/lib/python3.7/site-packages/sklearn/metrics/__init__.py)"
     ]
    }
   ],
   "source": [
    "from sklearn.metrics import roc_curve\n",
    "from sklearn.metrics import plot_roc_curve"
   ]
  },
  {
   "cell_type": "code",
   "execution_count": 174,
   "metadata": {
    "collapsed": true,
    "jupyter": {
     "outputs_hidden": true
    }
   },
   "outputs": [
    {
     "ename": "NameError",
     "evalue": "name 'RocCurveDisplay' is not defined",
     "output_type": "error",
     "traceback": [
      "\u001b[0;31m---------------------------------------------------------------------------\u001b[0m",
      "\u001b[0;31mNameError\u001b[0m                                 Traceback (most recent call last)",
      "\u001b[0;32m<ipython-input-174-d0b5381f08eb>\u001b[0m in \u001b[0;36m<module>\u001b[0;34m\u001b[0m\n\u001b[1;32m      1\u001b[0m \u001b[0mfpr\u001b[0m\u001b[0;34m,\u001b[0m \u001b[0mtpr\u001b[0m\u001b[0;34m,\u001b[0m \u001b[0m_\u001b[0m \u001b[0;34m=\u001b[0m \u001b[0mroc_curve\u001b[0m\u001b[0;34m(\u001b[0m\u001b[0mgradboost_init_350Gm\u001b[0m\u001b[0;34m.\u001b[0m\u001b[0mmodel\u001b[0m\u001b[0;34m.\u001b[0m\u001b[0mpredict\u001b[0m\u001b[0;34m(\u001b[0m\u001b[0minit_350Gm_test\u001b[0m\u001b[0;34m[\u001b[0m\u001b[0;34m:\u001b[0m\u001b[0;34m,\u001b[0m\u001b[0;34m:\u001b[0m\u001b[0;34m-\u001b[0m\u001b[0;36m1\u001b[0m\u001b[0;34m]\u001b[0m\u001b[0;34m)\u001b[0m\u001b[0;34m,\u001b[0m \u001b[0minit_350Gm_test\u001b[0m\u001b[0;34m[\u001b[0m\u001b[0;34m:\u001b[0m\u001b[0;34m,\u001b[0m\u001b[0;34m-\u001b[0m\u001b[0;36m1\u001b[0m\u001b[0;34m]\u001b[0m\u001b[0;34m)\u001b[0m\u001b[0;34m\u001b[0m\u001b[0;34m\u001b[0m\u001b[0m\n\u001b[0;32m----> 2\u001b[0;31m \u001b[0mRocCurveDisplay\u001b[0m\u001b[0;34m(\u001b[0m\u001b[0mfpr\u001b[0m\u001b[0;34m=\u001b[0m\u001b[0mfpr\u001b[0m\u001b[0;34m,\u001b[0m \u001b[0mtpr\u001b[0m\u001b[0;34m=\u001b[0m\u001b[0mtpr\u001b[0m\u001b[0;34m)\u001b[0m\u001b[0;34m.\u001b[0m\u001b[0mplot\u001b[0m\u001b[0;34m(\u001b[0m\u001b[0;34m)\u001b[0m\u001b[0;34m\u001b[0m\u001b[0;34m\u001b[0m\u001b[0m\n\u001b[0m",
      "\u001b[0;31mNameError\u001b[0m: name 'RocCurveDisplay' is not defined"
     ]
    }
   ],
   "source": [
    "fpr, tpr, _ = roc_curve(gradboost_init_350Gm.model.predict(init_350Gm_test[:,:-1]), init_350Gm_test[:,-1])\n",
    "RocCurveDisplay(fpr=fpr, tpr=tpr).plot()"
   ]
  },
  {
   "cell_type": "markdown",
   "metadata": {},
   "source": [
    "# Grid Search Results"
   ]
  },
  {
   "cell_type": "code",
   "execution_count": 122,
   "metadata": {},
   "outputs": [
    {
     "name": "stdout",
     "output_type": "stream",
     "text": [
      "Commencing fitting: n_estimators = 5, max_depth = 2\n",
      "      Iter       Train Loss   Remaining Time \n",
      "         1           0.1903           40.32s\n",
      "         2           0.1784           30.62s\n",
      "         3           0.1729           20.56s\n",
      "         4           0.1675           10.35s\n",
      "         5           0.1609            0.00s\n",
      "Accuracy: 76.52%\n",
      "Commencing fitting: n_estimators = 5, max_depth = 5\n",
      "      Iter       Train Loss   Remaining Time \n",
      "         1           0.1656            2.54m\n",
      "         2           0.1422            1.91m\n",
      "         3           0.1353            1.27m\n",
      "         4           0.1303           38.62s\n",
      "         5           0.1275            0.00s\n",
      "Accuracy: 82.49%\n",
      "Commencing fitting: n_estimators = 10, max_depth = 2\n",
      "      Iter       Train Loss   Remaining Time \n",
      "         1           0.1903            1.35m\n",
      "         2           0.1784            1.26m\n",
      "         3           0.1729            1.13m\n",
      "         4           0.1675           59.18s\n",
      "         5           0.1609           51.23s\n",
      "         6           0.1571           40.67s\n",
      "         7           0.1550           30.58s\n",
      "         8           0.1538           20.48s\n",
      "         9           0.1516           10.25s\n",
      "        10           0.1500            0.00s\n",
      "Accuracy: 79.41%\n",
      "Commencing fitting: n_estimators = 10, max_depth = 5\n",
      "      Iter       Train Loss   Remaining Time \n",
      "         1           0.1656            5.96m\n",
      "         2           0.1422            5.19m\n",
      "         3           0.1353            4.52m\n",
      "         4           0.1303            3.92m\n",
      "         5           0.1275            3.32m\n",
      "         6           0.1260            2.67m\n",
      "         7           0.1243            2.01m\n",
      "         8           0.1226            1.33m\n",
      "         9           0.1215           40.00s\n",
      "        10           0.1203            0.00s\n",
      "Accuracy: 83.78%\n",
      "Commencing fitting: n_estimators = 15, max_depth = 2\n",
      "      Iter       Train Loss   Remaining Time \n",
      "         1           0.1903            2.49m\n",
      "         2           0.1784            2.34m\n",
      "         3           0.1729            2.17m\n",
      "         4           0.1675            1.98m\n",
      "         5           0.1609            1.77m\n",
      "         6           0.1571            1.57m\n",
      "         7           0.1550            1.40m\n",
      "         8           0.1538            1.22m\n",
      "         9           0.1516            1.04m\n",
      "        10           0.1500           51.95s\n",
      "Accuracy: 80.31%\n",
      "Commencing fitting: n_estimators = 15, max_depth = 5\n",
      "      Iter       Train Loss   Remaining Time \n",
      "         1           0.1656            9.32m\n",
      "         2           0.1422            8.35m\n",
      "         3           0.1353            7.79m\n",
      "         4           0.1303            7.12m\n",
      "         5           0.1275            6.52m\n",
      "         6           0.1260            5.87m\n",
      "         7           0.1243            5.23m\n",
      "         8           0.1226            4.59m\n",
      "         9           0.1215            3.95m\n",
      "        10           0.1203            3.30m\n",
      "Accuracy: 84.41%\n"
     ]
    }
   ],
   "source": [
    "n_estimators = [5, 10, 15]\n",
    "max_depth = [2, 5]\n",
    "\n",
    "model_array = [\n",
    "    [sigbg_model(GradientBoostingClassifier(max_depth=m, n_estimators=n, learning_rate=1, verbose=1), \n",
    "                 f350Gm_data_train, f350Gm_data_test) for m in max_depth] for n in n_estimators]\n",
    "\n",
    "for n, row in zip(n_estimators, model_array):\n",
    "    for m, model in zip(max_depth, row):\n",
    "        print('Commencing fitting: n_estimators = {}, max_depth = {}'.format(n, m))\n",
    "        model.fit_eval()"
   ]
  },
  {
   "cell_type": "code",
   "execution_count": 135,
   "metadata": {},
   "outputs": [
    {
     "data": {
      "image/png": "[encoded data removed]",
      "text/plain": [
       "<Figure size 432x288 with 2 Axes>"
      ]
     },
     "metadata": {
      "needs_background": "light"
     },
     "output_type": "display_data"
    }
   ],
   "source": [
    "accuracy = [[76.52, 82.49],\n",
    "            [79.41, 83.78],\n",
    "            [80.31, 84.41]];\n",
    "accuracy = np.array(accuracy);\n",
    "interp2D(n_estimators, max_depth, (accuracy - 69.52)/100, 'n_estimators', 'max_depth', 'increase in % accuracy',\n",
    "        [0.08, 0.10, 0.12, 0.14], ['8%', '10%', '12%', '14%'], manual=[(6, 2.35), (8, 3), (9, 3.5), (12, 4.5)]);\n",
    "colorbar = plt.gca().images[-1].colorbar\n",
    "colorbar.set_ticks([0.08, 0.10, 0.12, 0.14]);\n",
    "colorbar.ax.set_yticklabels(['8%', '10%', '12%', '14%']);\n",
    "\n",
    "# positive predictive value\n",
    "# sensitivity, specificity, ^\n",
    "# scikit learn functions, confusion matrix\n",
    "# area under the curve, looking at ROC curve\n",
    "# contextualize false positive vs false negative, which is worse\n",
    "# making a relevant, appropriate metric\n",
    "# filezilla \n",
    "\n",
    "# look locally to see memory I'm taking\n",
    "# memory - start with ~8 GB\n",
    "# cores = 4, 8, 20 (do later)\n",
    "\n",
    "# pitching questions during demos"
   ]
  },
  {
   "cell_type": "markdown",
   "metadata": {},
   "source": [
    "# Legacy"
   ]
  },
  {
   "cell_type": "code",
   "execution_count": 120,
   "metadata": {},
   "outputs": [
    {
     "name": "stdout",
     "output_type": "stream",
     "text": [
      "      Iter       Train Loss   Remaining Time \n",
      "         1           0.1432           40.75s\n",
      "         2           0.1347           36.46s\n",
      "         3           0.1280           31.62s\n",
      "         4           0.1231           27.20s\n",
      "         5           0.1195           22.80s\n",
      "         6           0.1158           18.34s\n",
      "         7           0.1144           13.72s\n",
      "         8           0.1137            9.15s\n",
      "         9           0.1118            4.57s\n",
      "        10           0.1108            0.00s\n",
      "Accuracy: 85.72%\n"
     ]
    }
   ],
   "source": [
    "# depth = 2, n = 10\n",
    "gradient_boost = sigbg_gradientboost_reg(train, test)"
   ]
  },
  {
   "cell_type": "code",
   "execution_count": 123,
   "metadata": {},
   "outputs": [
    {
     "name": "stdout",
     "output_type": "stream",
     "text": [
      "      Iter       Train Loss   Remaining Time \n",
      "         1           0.1109            2.71m\n",
      "         2           0.1056            2.51m\n",
      "         3           0.1044            2.31m\n",
      "         4           0.1029            2.11m\n",
      "         5           0.1011            1.90m\n",
      "         6           0.0999            1.72m\n",
      "         7           0.0993            1.52m\n",
      "         8           0.0991            1.33m\n",
      "         9           0.0987            1.14m\n",
      "        10           0.0982           57.20s\n",
      "Accuracy: 87.17%\n"
     ]
    }
   ],
   "source": [
    "# depth = 5, n = 15\n",
    "gradient_boost2 = sigbg_gradientboost_reg(train, test)"
   ]
  },
  {
   "cell_type": "code",
   "execution_count": 18,
   "metadata": {
    "collapsed": true,
    "jupyter": {
     "outputs_hidden": true
    }
   },
   "outputs": [
    {
     "name": "stdout",
     "output_type": "stream",
     "text": [
      "      Iter       Train Loss   Remaining Time \n",
      "         1           0.1658            8.75m\n",
      "         2           0.1428            8.10m\n",
      "         3           0.1361            7.51m\n",
      "         4           0.1311            6.88m\n",
      "         5           0.1268            6.12m\n",
      "         6           0.1241            5.51m\n",
      "         7           0.1228            4.85m\n",
      "         8           0.1210            4.26m\n",
      "         9           0.1197            3.61m\n",
      "        10           0.1188            2.99m\n"
     ]
    },
    {
     "ename": "KeyboardInterrupt",
     "evalue": "",
     "output_type": "error",
     "traceback": [
      "\u001b[0;31m---------------------------------------------------------------------------\u001b[0m",
      "\u001b[0;31mKeyboardInterrupt\u001b[0m                         Traceback (most recent call last)",
      "\u001b[0;32m<ipython-input-18-50dee8912486>\u001b[0m in \u001b[0;36m<module>\u001b[0;34m\u001b[0m\n\u001b[1;32m      1\u001b[0m \u001b[0;31m# depth = 5, n = 15\u001b[0m\u001b[0;34m\u001b[0m\u001b[0;34m\u001b[0m\u001b[0;34m\u001b[0m\u001b[0m\n\u001b[0;32m----> 2\u001b[0;31m \u001b[0mgrad_boost_full_350Gm_more\u001b[0m \u001b[0;34m=\u001b[0m \u001b[0msigbg_gradientboost_reg\u001b[0m\u001b[0;34m(\u001b[0m\u001b[0mtrain_f350Gm\u001b[0m\u001b[0;34m,\u001b[0m \u001b[0mtest_f350Gm\u001b[0m\u001b[0;34m)\u001b[0m\u001b[0;34m\u001b[0m\u001b[0;34m\u001b[0m\u001b[0m\n\u001b[0m",
      "\u001b[0;32m<ipython-input-17-27c137489cb5>\u001b[0m in \u001b[0;36msigbg_gradientboost_reg\u001b[0;34m(train, test)\u001b[0m\n\u001b[1;32m      4\u001b[0m     \u001b[0mpredictors\u001b[0m\u001b[0;34m,\u001b[0m \u001b[0mlabels\u001b[0m \u001b[0;34m=\u001b[0m \u001b[0;34m[\u001b[0m\u001b[0mtrain\u001b[0m\u001b[0;34m[\u001b[0m\u001b[0;34m:\u001b[0m\u001b[0;34m,\u001b[0m\u001b[0;34m:\u001b[0m\u001b[0;34m-\u001b[0m\u001b[0;36m1\u001b[0m\u001b[0;34m]\u001b[0m\u001b[0;34m,\u001b[0m \u001b[0mtrain\u001b[0m\u001b[0;34m[\u001b[0m\u001b[0;34m:\u001b[0m\u001b[0;34m,\u001b[0m\u001b[0;34m-\u001b[0m\u001b[0;36m1\u001b[0m\u001b[0;34m]\u001b[0m\u001b[0;34m]\u001b[0m\u001b[0;34m\u001b[0m\u001b[0;34m\u001b[0m\u001b[0m\n\u001b[1;32m      5\u001b[0m     \u001b[0mgradient_boost\u001b[0m \u001b[0;34m=\u001b[0m \u001b[0mGradientBoostingRegressor\u001b[0m\u001b[0;34m(\u001b[0m\u001b[0mmax_depth\u001b[0m\u001b[0;34m=\u001b[0m\u001b[0;36m5\u001b[0m\u001b[0;34m,\u001b[0m \u001b[0mn_estimators\u001b[0m\u001b[0;34m=\u001b[0m\u001b[0;36m15\u001b[0m\u001b[0;34m,\u001b[0m \u001b[0mlearning_rate\u001b[0m\u001b[0;34m=\u001b[0m\u001b[0;36m1.0\u001b[0m\u001b[0;34m,\u001b[0m \u001b[0mverbose\u001b[0m\u001b[0;34m=\u001b[0m\u001b[0;36m1\u001b[0m\u001b[0;34m)\u001b[0m\u001b[0;34m\u001b[0m\u001b[0;34m\u001b[0m\u001b[0m\n\u001b[0;32m----> 6\u001b[0;31m     \u001b[0mgradient_boost\u001b[0m\u001b[0;34m.\u001b[0m\u001b[0mfit\u001b[0m\u001b[0;34m(\u001b[0m\u001b[0mpredictors\u001b[0m\u001b[0;34m,\u001b[0m \u001b[0mlabels\u001b[0m\u001b[0;34m)\u001b[0m\u001b[0;34m\u001b[0m\u001b[0;34m\u001b[0m\u001b[0m\n\u001b[0m\u001b[1;32m      7\u001b[0m     \u001b[0msigbg_eval\u001b[0m\u001b[0;34m(\u001b[0m\u001b[0mgradient_boost\u001b[0m\u001b[0;34m,\u001b[0m \u001b[0mtest\u001b[0m\u001b[0;34m)\u001b[0m\u001b[0;34m\u001b[0m\u001b[0;34m\u001b[0m\u001b[0m\n\u001b[1;32m      8\u001b[0m     \u001b[0;32mreturn\u001b[0m \u001b[0mgradient_boost\u001b[0m\u001b[0;34m;\u001b[0m\u001b[0;34m\u001b[0m\u001b[0;34m\u001b[0m\u001b[0m\n",
      "\u001b[0;32m~/opt/anaconda3/lib/python3.7/site-packages/sklearn/ensemble/gradient_boosting.py\u001b[0m in \u001b[0;36mfit\u001b[0;34m(self, X, y, sample_weight, monitor)\u001b[0m\n\u001b[1;32m   1544\u001b[0m         n_stages = self._fit_stages(\n\u001b[1;32m   1545\u001b[0m             \u001b[0mX\u001b[0m\u001b[0;34m,\u001b[0m \u001b[0my\u001b[0m\u001b[0;34m,\u001b[0m \u001b[0mraw_predictions\u001b[0m\u001b[0;34m,\u001b[0m \u001b[0msample_weight\u001b[0m\u001b[0;34m,\u001b[0m \u001b[0mself\u001b[0m\u001b[0;34m.\u001b[0m\u001b[0m_rng\u001b[0m\u001b[0;34m,\u001b[0m \u001b[0mX_val\u001b[0m\u001b[0;34m,\u001b[0m \u001b[0my_val\u001b[0m\u001b[0;34m,\u001b[0m\u001b[0;34m\u001b[0m\u001b[0;34m\u001b[0m\u001b[0m\n\u001b[0;32m-> 1546\u001b[0;31m             sample_weight_val, begin_at_stage, monitor, X_idx_sorted)\n\u001b[0m\u001b[1;32m   1547\u001b[0m \u001b[0;34m\u001b[0m\u001b[0m\n\u001b[1;32m   1548\u001b[0m         \u001b[0;31m# change shape of arrays after fit (early-stopping or additional ests)\u001b[0m\u001b[0;34m\u001b[0m\u001b[0;34m\u001b[0m\u001b[0;34m\u001b[0m\u001b[0m\n",
      "\u001b[0;32m~/opt/anaconda3/lib/python3.7/site-packages/sklearn/ensemble/gradient_boosting.py\u001b[0m in \u001b[0;36m_fit_stages\u001b[0;34m(self, X, y, raw_predictions, sample_weight, random_state, X_val, y_val, sample_weight_val, begin_at_stage, monitor, X_idx_sorted)\u001b[0m\n\u001b[1;32m   1608\u001b[0m             raw_predictions = self._fit_stage(\n\u001b[1;32m   1609\u001b[0m                 \u001b[0mi\u001b[0m\u001b[0;34m,\u001b[0m \u001b[0mX\u001b[0m\u001b[0;34m,\u001b[0m \u001b[0my\u001b[0m\u001b[0;34m,\u001b[0m \u001b[0mraw_predictions\u001b[0m\u001b[0;34m,\u001b[0m \u001b[0msample_weight\u001b[0m\u001b[0;34m,\u001b[0m \u001b[0msample_mask\u001b[0m\u001b[0;34m,\u001b[0m\u001b[0;34m\u001b[0m\u001b[0;34m\u001b[0m\u001b[0m\n\u001b[0;32m-> 1610\u001b[0;31m                 random_state, X_idx_sorted, X_csc, X_csr)\n\u001b[0m\u001b[1;32m   1611\u001b[0m \u001b[0;34m\u001b[0m\u001b[0m\n\u001b[1;32m   1612\u001b[0m             \u001b[0;31m# track deviance (= loss)\u001b[0m\u001b[0;34m\u001b[0m\u001b[0;34m\u001b[0m\u001b[0;34m\u001b[0m\u001b[0m\n",
      "\u001b[0;32m~/opt/anaconda3/lib/python3.7/site-packages/sklearn/ensemble/gradient_boosting.py\u001b[0m in \u001b[0;36m_fit_stage\u001b[0;34m(self, i, X, y, raw_predictions, sample_weight, sample_mask, random_state, X_idx_sorted, X_csc, X_csr)\u001b[0m\n\u001b[1;32m   1242\u001b[0m             \u001b[0mX\u001b[0m \u001b[0;34m=\u001b[0m \u001b[0mX_csr\u001b[0m \u001b[0;32mif\u001b[0m \u001b[0mX_csr\u001b[0m \u001b[0;32mis\u001b[0m \u001b[0;32mnot\u001b[0m \u001b[0;32mNone\u001b[0m \u001b[0;32melse\u001b[0m \u001b[0mX\u001b[0m\u001b[0;34m\u001b[0m\u001b[0;34m\u001b[0m\u001b[0m\n\u001b[1;32m   1243\u001b[0m             tree.fit(X, residual, sample_weight=sample_weight,\n\u001b[0;32m-> 1244\u001b[0;31m                      check_input=False, X_idx_sorted=X_idx_sorted)\n\u001b[0m\u001b[1;32m   1245\u001b[0m \u001b[0;34m\u001b[0m\u001b[0m\n\u001b[1;32m   1246\u001b[0m             \u001b[0;31m# update tree leaves\u001b[0m\u001b[0;34m\u001b[0m\u001b[0;34m\u001b[0m\u001b[0;34m\u001b[0m\u001b[0m\n",
      "\u001b[0;32m~/opt/anaconda3/lib/python3.7/site-packages/sklearn/tree/tree.py\u001b[0m in \u001b[0;36mfit\u001b[0;34m(self, X, y, sample_weight, check_input, X_idx_sorted)\u001b[0m\n\u001b[1;32m   1155\u001b[0m             \u001b[0msample_weight\u001b[0m\u001b[0;34m=\u001b[0m\u001b[0msample_weight\u001b[0m\u001b[0;34m,\u001b[0m\u001b[0;34m\u001b[0m\u001b[0;34m\u001b[0m\u001b[0m\n\u001b[1;32m   1156\u001b[0m             \u001b[0mcheck_input\u001b[0m\u001b[0;34m=\u001b[0m\u001b[0mcheck_input\u001b[0m\u001b[0;34m,\u001b[0m\u001b[0;34m\u001b[0m\u001b[0;34m\u001b[0m\u001b[0m\n\u001b[0;32m-> 1157\u001b[0;31m             X_idx_sorted=X_idx_sorted)\n\u001b[0m\u001b[1;32m   1158\u001b[0m         \u001b[0;32mreturn\u001b[0m \u001b[0mself\u001b[0m\u001b[0;34m\u001b[0m\u001b[0;34m\u001b[0m\u001b[0m\n\u001b[1;32m   1159\u001b[0m \u001b[0;34m\u001b[0m\u001b[0m\n",
      "\u001b[0;32m~/opt/anaconda3/lib/python3.7/site-packages/sklearn/tree/tree.py\u001b[0m in \u001b[0;36mfit\u001b[0;34m(self, X, y, sample_weight, check_input, X_idx_sorted)\u001b[0m\n\u001b[1;32m    378\u001b[0m                                            min_impurity_split)\n\u001b[1;32m    379\u001b[0m \u001b[0;34m\u001b[0m\u001b[0m\n\u001b[0;32m--> 380\u001b[0;31m         \u001b[0mbuilder\u001b[0m\u001b[0;34m.\u001b[0m\u001b[0mbuild\u001b[0m\u001b[0;34m(\u001b[0m\u001b[0mself\u001b[0m\u001b[0;34m.\u001b[0m\u001b[0mtree_\u001b[0m\u001b[0;34m,\u001b[0m \u001b[0mX\u001b[0m\u001b[0;34m,\u001b[0m \u001b[0my\u001b[0m\u001b[0;34m,\u001b[0m \u001b[0msample_weight\u001b[0m\u001b[0;34m,\u001b[0m \u001b[0mX_idx_sorted\u001b[0m\u001b[0;34m)\u001b[0m\u001b[0;34m\u001b[0m\u001b[0;34m\u001b[0m\u001b[0m\n\u001b[0m\u001b[1;32m    381\u001b[0m \u001b[0;34m\u001b[0m\u001b[0m\n\u001b[1;32m    382\u001b[0m         \u001b[0;32mif\u001b[0m \u001b[0mself\u001b[0m\u001b[0;34m.\u001b[0m\u001b[0mn_outputs_\u001b[0m \u001b[0;34m==\u001b[0m \u001b[0;36m1\u001b[0m\u001b[0;34m:\u001b[0m\u001b[0;34m\u001b[0m\u001b[0;34m\u001b[0m\u001b[0m\n",
      "\u001b[0;31mKeyboardInterrupt\u001b[0m: "
     ]
    }
   ],
   "source": [
    "# depth = 5, n = 15\n",
    "grad_boost_full_350Gm_more = sigbg_gradientboost_reg(train_f350Gm, test_f350Gm)"
   ]
  },
  {
   "cell_type": "code",
   "execution_count": 20,
   "metadata": {},
   "outputs": [
    {
     "name": "stdout",
     "output_type": "stream",
     "text": [
      "Commencing fitting: learning_rate = 0.1, max_depth = 3, max_features = 0.25\n",
      "2.2636504754880566\n",
      "0.8538510139279996\n",
      "Commencing fitting: learning_rate = 0.1, max_depth = 3, max_features = 0.5\n",
      "2.3733266503608337\n",
      "0.8633274833076632\n",
      "Commencing fitting: learning_rate = 0.1, max_depth = 3, max_features = 1.0\n",
      "2.434044253618128\n",
      "0.8683526723839592\n",
      "Commencing fitting: learning_rate = 0.1, max_depth = 5, max_features = 0.25\n",
      "2.558085889645502\n",
      "0.8785211409871081\n",
      "Commencing fitting: learning_rate = 0.1, max_depth = 5, max_features = 0.5\n",
      "2.6295029405356662\n",
      "0.8835412617927487\n",
      "Commencing fitting: learning_rate = 0.1, max_depth = 5, max_features = 1.0\n",
      "2.674529882379914\n",
      "0.8865533342761331\n",
      "Commencing fitting: learning_rate = 0.1, max_depth = 7, max_features = 0.25\n",
      "2.7274703187427436\n",
      "0.8906760482563938\n",
      "Commencing fitting: learning_rate = 0.1, max_depth = 7, max_features = 0.5\n",
      "2.844496724582684\n",
      "0.8976971432313878\n",
      "Commencing fitting: learning_rate = 0.1, max_depth = 7, max_features = 1.0\n",
      "2.932214688375223\n",
      "0.9021631160805195\n",
      "Commencing fitting: learning_rate = 1, max_depth = 3, max_features = 0.25\n",
      "2.5639329431075484\n",
      "0.8796428990099745\n",
      "Commencing fitting: learning_rate = 1, max_depth = 3, max_features = 0.5\n",
      "2.6653602860674304\n",
      "0.8866639939849685\n",
      "Commencing fitting: learning_rate = 1, max_depth = 3, max_features = 1.0\n",
      "2.746599629325236\n",
      "0.8922333786684122\n",
      "Commencing fitting: learning_rate = 1, max_depth = 5, max_features = 0.25\n",
      "2.7628737129746184\n",
      "0.8932358880826464\n",
      "Commencing fitting: learning_rate = 1, max_depth = 5, max_features = 0.5\n",
      "2.86855577684973\n",
      "0.8998014060230871\n",
      "Commencing fitting: learning_rate = 1, max_depth = 5, max_features = 1.0\n",
      "2.980399739748957\n",
      "0.9058134421435087\n",
      "Commencing fitting: learning_rate = 1, max_depth = 7, max_features = 0.25\n",
      "2.802353702606044\n",
      "0.896345528196439\n",
      "Commencing fitting: learning_rate = 1, max_depth = 7, max_features = 0.5\n",
      "2.945261249836292\n",
      "0.9043575552641167\n",
      "Commencing fitting: learning_rate = 1, max_depth = 7, max_features = 1.0\n",
      "3.02\n",
      "0.9078174541836491\n"
     ]
    }
   ],
   "source": [
    "learning_rates = [0.1, 1]\n",
    "max_depths = [3, 5, 7]\n",
    "max_features = [0.25, 0.5, 1.0]\n",
    "\n",
    "gradboost_model_array_new = [\n",
    "    [[sigbg_model(GradientBoostingClassifier(\n",
    "        learning_rate=l, \n",
    "        max_depth=maxd,\n",
    "        max_features=maxf), f350Gm_data_train, f350Gm_data_test) \n",
    "      for maxf in max_features] \n",
    "     for maxd in max_depths] \n",
    "    for l in learning_rates]\n",
    "\n",
    "for l, grid in zip(learning_rates, gradboost_model_array_new):\n",
    "    for maxd, row in zip(max_depths, grid):\n",
    "        for maxf, model in zip(max_features, row):\n",
    "            print('Commencing fitting: learning_rate = {}, max_depth = {}, max_features = {}'.format(l, maxd, maxf))\n",
    "            model.fit()\n",
    "            print(model.metrica())\n",
    "            print(model.metricb())"
   ]
  },
  {
   "cell_type": "code",
   "execution_count": 24,
   "metadata": {},
   "outputs": [
    {
     "name": "stdout",
     "output_type": "stream",
     "text": [
      "lumi = 1.2e+17\n",
      "Metric for learning_rate = 0.1, max_depth = 3, max_features = 0.25: 3.2672198909137147\n",
      "Metric for learning_rate = 0.1, max_depth = 3, max_features = 0.5: 3.42394821494896\n",
      "Metric for learning_rate = 0.1, max_depth = 3, max_features = 1.0: 3.5106311420631764\n",
      "Metric for learning_rate = 0.1, max_depth = 5, max_features = 0.25: 3.687550562063622\n",
      "Metric for learning_rate = 0.1, max_depth = 5, max_features = 0.5: 3.789258300960402\n",
      "Metric for learning_rate = 0.1, max_depth = 5, max_features = 1.0: 3.853331739678027\n",
      "Metric for learning_rate = 0.1, max_depth = 7, max_features = 0.25: 3.9286663317602044\n",
      "Metric for learning_rate = 0.1, max_depth = 7, max_features = 0.5: 4.0948849783883166\n",
      "Metric for learning_rate = 0.1, max_depth = 7, max_features = 1.0: 4.219255182858314\n",
      "Metric for learning_rate = 1, max_depth = 3, max_features = 0.25: 3.695924536713254\n",
      "Metric for learning_rate = 1, max_depth = 3, max_features = 0.5: 3.8403350992081045\n",
      "Metric for learning_rate = 1, max_depth = 3, max_features = 1.0: 3.9558822774981044\n",
      "Metric for learning_rate = 1, max_depth = 5, max_features = 0.25: 3.9790081503160697\n",
      "Metric for learning_rate = 1, max_depth = 5, max_features = 0.5: 4.129081825403497\n",
      "Metric for learning_rate = 1, max_depth = 5, max_features = 1.0: 4.287619981088665\n",
      "Metric for learning_rate = 1, max_depth = 7, max_features = 0.25: 4.035143419001212\n",
      "Metric for learning_rate = 1, max_depth = 7, max_features = 0.5: 4.237872680614382\n",
      "Metric for learning_rate = 1, max_depth = 7, max_features = 1.0: 4.3436879183629244\n",
      "lumi = 3e+18\n",
      "Metric for learning_rate = 0.1, max_depth = 3, max_features = 0.25: 16.336099454568572\n",
      "Metric for learning_rate = 0.1, max_depth = 3, max_features = 0.5: 17.1197410747448\n",
      "Metric for learning_rate = 0.1, max_depth = 3, max_features = 1.0: 17.55315571031588\n",
      "Metric for learning_rate = 0.1, max_depth = 5, max_features = 0.25: 18.43775281031811\n",
      "Metric for learning_rate = 0.1, max_depth = 5, max_features = 0.5: 18.946291504802012\n",
      "Metric for learning_rate = 0.1, max_depth = 5, max_features = 1.0: 19.266658698390135\n",
      "Metric for learning_rate = 0.1, max_depth = 7, max_features = 0.25: 19.643331658801024\n",
      "Metric for learning_rate = 0.1, max_depth = 7, max_features = 0.5: 20.474424891941585\n",
      "Metric for learning_rate = 0.1, max_depth = 7, max_features = 1.0: 21.096275914291574\n",
      "Metric for learning_rate = 1, max_depth = 3, max_features = 0.25: 18.47962268356627\n",
      "Metric for learning_rate = 1, max_depth = 3, max_features = 0.5: 19.201675496040522\n",
      "Metric for learning_rate = 1, max_depth = 3, max_features = 1.0: 19.779411387490523\n",
      "Metric for learning_rate = 1, max_depth = 5, max_features = 0.25: 19.895040751580343\n",
      "Metric for learning_rate = 1, max_depth = 5, max_features = 0.5: 20.645409127017487\n",
      "Metric for learning_rate = 1, max_depth = 5, max_features = 1.0: 21.43809990544332\n",
      "Metric for learning_rate = 1, max_depth = 7, max_features = 0.25: 20.175717095006064\n",
      "Metric for learning_rate = 1, max_depth = 7, max_features = 0.5: 21.189363403071916\n",
      "Metric for learning_rate = 1, max_depth = 7, max_features = 1.0: 21.71843959181462\n"
     ]
    }
   ],
   "source": [
    "bg_cs = 0.106e-12 + 0.0117e-12 + 5.58e-12\n",
    "sig_cs = 0.009998e-12\n",
    "lumi = 120e15\n",
    "\n",
    "print('lumi = {}'.format(lumi))\n",
    "for l, grid in zip(learning_rates, gradboost_model_array_new):\n",
    "    for maxd, row in zip(max_depths, grid):\n",
    "        for maxf, model in zip(max_features, row):\n",
    "            sig = (model.tpr() * sig_cs * lumi) / np.sqrt(model.tpr() * sig_cs * lumi + model.fpr() * bg_cs * lumi)\n",
    "            print('Metric for learning_rate = {}, max_depth = {}, max_features = {}: {}'.format(l, maxd, maxf, sig))\n",
    "\n",
    "lumi = 3000e15            \n",
    "print('lumi = {}'.format(lumi))\n",
    "for l, grid in zip(learning_rates, gradboost_model_array_new):\n",
    "    for maxd, row in zip(max_depths, grid):\n",
    "        for maxf, model in zip(max_features, row):\n",
    "            sig = (model.tpr() * sig_cs * lumi) / np.sqrt(model.tpr() * sig_cs * lumi + model.fpr() * bg_cs * lumi)\n",
    "            print('Metric for learning_rate = {}, max_depth = {}, max_features = {}: {}'.format(l, maxd, maxf, sig))"
   ]
  },
  {
   "cell_type": "code",
   "execution_count": 26,
   "metadata": {},
   "outputs": [
    {
     "name": "stdout",
     "output_type": "stream",
     "text": [
      "learning_rate = 0.1, max_depth = 3, max_features = 0.25\n",
      "0.85\n",
      "0.141\n",
      "learning_rate = 0.1, max_depth = 3, max_features = 0.5\n",
      "0.859\n",
      "0.131\n",
      "learning_rate = 0.1, max_depth = 3, max_features = 1.0\n",
      "0.864\n",
      "0.126\n",
      "learning_rate = 0.1, max_depth = 5, max_features = 0.25\n",
      "0.875\n",
      "0.117\n",
      "learning_rate = 0.1, max_depth = 5, max_features = 0.5\n",
      "0.88\n",
      "0.112\n",
      "learning_rate = 0.1, max_depth = 5, max_features = 1.0\n",
      "0.883\n",
      "0.109\n",
      "learning_rate = 0.1, max_depth = 7, max_features = 0.25\n",
      "0.888\n",
      "0.106\n",
      "learning_rate = 0.1, max_depth = 7, max_features = 0.5\n",
      "0.895\n",
      "0.099\n",
      "learning_rate = 0.1, max_depth = 7, max_features = 1.0\n",
      "0.899\n",
      "0.094\n",
      "learning_rate = 1, max_depth = 3, max_features = 0.25\n",
      "0.877\n",
      "0.117\n",
      "learning_rate = 1, max_depth = 3, max_features = 0.5\n",
      "0.884\n",
      "0.11\n",
      "learning_rate = 1, max_depth = 3, max_features = 1.0\n",
      "0.89\n",
      "0.105\n",
      "learning_rate = 1, max_depth = 5, max_features = 0.25\n",
      "0.891\n",
      "0.104\n",
      "learning_rate = 1, max_depth = 5, max_features = 0.5\n",
      "0.898\n",
      "0.098\n",
      "learning_rate = 1, max_depth = 5, max_features = 1.0\n",
      "0.904\n",
      "0.092\n",
      "learning_rate = 1, max_depth = 7, max_features = 0.25\n",
      "0.895\n",
      "0.102\n",
      "learning_rate = 1, max_depth = 7, max_features = 0.5\n",
      "0.903\n",
      "0.094\n",
      "learning_rate = 1, max_depth = 7, max_features = 1.0\n",
      "0.906\n",
      "0.09\n"
     ]
    }
   ],
   "source": [
    "for l, grid in zip(learning_rates, gradboost_model_array_new):\n",
    "    for maxd, row in zip(max_depths, grid):\n",
    "        for maxf, model in zip(max_features, row):\n",
    "            print('learning_rate = {}, max_depth = {}, max_features = {}'.format(l, maxd, maxf))\n",
    "            print(model.tpr())\n",
    "            print(model.fpr())"
   ]
  },
  {
   "cell_type": "code",
   "execution_count": 27,
   "metadata": {},
   "outputs": [
    {
     "name": "stdout",
     "output_type": "stream",
     "text": [
      "      Iter       Train Loss   Remaining Time \n",
      "         1           0.4096          103.11m\n",
      "         2           0.2464          101.72m\n",
      "         3           0.1927          100.32m\n",
      "         4           0.1662           99.31m\n",
      "         5           0.1498           98.26m\n",
      "         6           0.1399           96.76m\n",
      "         7           0.1341           96.08m\n",
      "         8           0.1303           95.37m\n",
      "         9           0.1280           94.36m\n",
      "        10           0.1236           93.30m\n",
      "        20           0.0933           83.19m\n",
      "        30           0.0842           73.03m\n",
      "        40           0.0777           62.63m\n",
      "        50           0.0713           52.29m\n",
      "        60           0.0696           42.04m\n",
      "        70           0.0720           31.51m\n",
      "        80           0.1216           21.01m\n",
      "        90           0.1203           10.50m\n",
      "       100           0.1189            0.00s\n",
      "9.429745007638907\n",
      "12.715787575042523\n",
      "63.57893787521262\n",
      "      Iter       Train Loss   Remaining Time \n",
      "         1           0.3122          105.81m\n",
      "         2           0.1564          105.50m\n",
      "         3           0.0993          107.59m\n",
      "         4           0.0789          104.74m\n",
      "         5           0.0687          102.66m\n",
      "         6           0.0594          101.03m\n",
      "         7           0.0538           99.33m\n",
      "         8           0.0497           97.92m\n",
      "         9           0.0483           96.74m\n",
      "        10           0.0456           95.41m\n",
      "        20           0.0468           84.50m\n",
      "        30           0.0439           73.83m\n",
      "        40           0.0455           63.18m\n",
      "        50           0.0495           52.63m\n",
      "        60           0.0493           42.12m\n",
      "        70           0.2284           31.60m\n",
      "        80           0.2295           21.07m\n",
      "        90         229.9571           10.53m\n",
      "       100         229.9559            0.00s\n",
      "12.832484820433908\n",
      "16.388969936154457\n",
      "81.9448496807723\n",
      "      Iter       Train Loss   Remaining Time \n",
      "         1           0.2836          102.36m\n",
      "         2           0.1221          101.46m\n",
      "         3           0.0700          100.55m\n",
      "         4           0.0506           99.44m\n",
      "         5           0.0425           98.45m\n",
      "         6           0.0386           97.25m\n",
      "         7           0.0357           96.24m\n",
      "         8           0.0326           95.12m\n",
      "         9           0.0313           94.13m\n",
      "        10           0.0305           93.07m\n",
      "        20           0.0301           83.24m\n",
      "        30           0.0277           72.98m\n",
      "        40           0.0329           62.70m\n",
      "        50           0.0316           52.88m\n",
      "        60           0.2037           42.28m\n",
      "        70           0.2041           31.71m\n",
      "        80           0.2032           21.13m\n",
      "        90           0.2053           10.56m\n",
      "       100           0.2228            0.00s\n",
      "14.071424945612296\n",
      "17.57740917551572\n",
      "87.88704587757859\n"
     ]
    }
   ],
   "source": [
    "bg_cs = 0.106e-12 + 0.0117e-12 + 5.58e-12\n",
    "sig_cs = 0.009998e-12\n",
    "lumi1 = 120e15\n",
    "lumi2 = 3000e15\n",
    "\n",
    "gradboost_f1Tm = sigbg_model(GradientBoostingClassifier(max_depth=7, learning_rate=1, verbose=1), \n",
    "                             f1Tm_data_train, f1Tm_data_test);\n",
    "gradboost_f1Tm.fit()\n",
    "print(gradboost_f1Tm.metrica())\n",
    "print((gradboost_f1Tm.tpr() * sig_cs * lumi1) / np.sqrt(gradboost_f1Tm.tpr() * sig_cs * lumi1 + gradboost_f1Tm.fpr() * bg_cs * lumi1))\n",
    "print((gradboost_f1Tm.tpr() * sig_cs * lumi2) / np.sqrt(gradboost_f1Tm.tpr() * sig_cs * lumi2 + gradboost_f1Tm.fpr() * bg_cs * lumi2))\n",
    "# gradboost_f1Tm.save_model('gradboost_f1Tm')\n",
    "\n",
    "gradboost_f1p5Tm = sigbg_model(GradientBoostingClassifier(max_depth=7, learning_rate=1, verbose=1), \n",
    "                               f1p5Tm_data_train, f1p5Tm_data_test);\n",
    "gradboost_f1p5Tm.fit()\n",
    "print(gradboost_f1p5Tm.metrica())\n",
    "print((gradboost_f1p5Tm.tpr() * sig_cs * lumi1) / np.sqrt(gradboost_f1p5Tm.tpr() * sig_cs * lumi1 + gradboost_f1p5Tm.fpr() * bg_cs * lumi1))\n",
    "print((gradboost_f1p5Tm.tpr() * sig_cs * lumi2) / np.sqrt(gradboost_f1p5Tm.tpr() * sig_cs * lumi2 + gradboost_f1p5Tm.fpr() * bg_cs * lumi2))\n",
    "# gradboost_f1p5Tm.save_model('gradboost_f1p5Tm')\n",
    "\n",
    "gradboost_f2Tm = sigbg_model(GradientBoostingClassifier(max_depth=7, learning_rate=1, verbose=1), \n",
    "                             f2Tm_data_train, f2Tm_data_test);\n",
    "gradboost_f2Tm.fit()\n",
    "print(gradboost_f2Tm.metrica())\n",
    "print((gradboost_f2Tm.tpr() * sig_cs * lumi1) / np.sqrt(gradboost_f2Tm.tpr() * sig_cs * lumi1 + gradboost_f2Tm.fpr() * bg_cs * lumi1))\n",
    "print((gradboost_f2Tm.tpr() * sig_cs * lumi2) / np.sqrt(gradboost_f2Tm.tpr() * sig_cs * lumi2 + gradboost_f2Tm.fpr() * bg_cs * lumi2))"
   ]
  },
  {
   "cell_type": "code",
   "execution_count": 28,
   "metadata": {},
   "outputs": [
    {
     "name": "stdout",
     "output_type": "stream",
     "text": [
      "      Iter       Train Loss   Remaining Time \n",
      "         1           0.4096           49.78m\n",
      "         2           0.2464           48.92m\n",
      "         3           0.1927           47.91m\n",
      "         4           0.1662           46.93m\n",
      "         5           0.1498           45.85m\n",
      "         6           0.1399           44.85m\n",
      "         7           0.1341           43.81m\n",
      "         8           0.1303           42.78m\n",
      "         9           0.1280           41.84m\n",
      "        10           0.1236           40.83m\n",
      "        20           0.0933           30.82m\n",
      "        30           0.0842           20.61m\n",
      "        40           0.0777           10.32m\n",
      "        50           0.0713            0.00s\n",
      "9.429745007638907\n",
      "12.715787575042523\n",
      "63.57893787521262\n",
      "      Iter       Train Loss   Remaining Time \n",
      "         1           0.3122           50.30m\n",
      "         2           0.1564           49.18m\n",
      "         3           0.0993           48.22m\n",
      "         4           0.0789           47.12m\n",
      "         5           0.0687           46.11m\n",
      "         6           0.0594           45.09m\n",
      "         7           0.0538           44.05m\n",
      "         8           0.0497           43.03m\n",
      "         9           0.0483           42.11m\n",
      "        10           0.0470           41.08m\n",
      "        20           0.0425           30.94m\n",
      "        30           0.0379           20.69m\n",
      "        40           0.0392           10.35m\n",
      "        50           0.0366            0.00s\n",
      "12.832484820433908\n",
      "16.388969936154457\n",
      "81.9448496807723\n",
      "      Iter       Train Loss   Remaining Time \n",
      "         1           0.2836           50.46m\n",
      "         2           0.1221           49.44m\n",
      "         3           0.0700           48.45m\n",
      "         4           0.0506           47.43m\n",
      "         5           0.0425           46.43m\n",
      "         6           0.0386           45.35m\n",
      "         7           0.0357           44.33m\n",
      "         8           0.0326           43.29m\n",
      "         9           0.0313           42.27m\n",
      "        10           0.0305           41.23m\n",
      "        20           0.0301           31.09m\n",
      "        30           0.0277           20.76m\n",
      "        40           0.0329           10.39m\n",
      "        50           0.0316            0.00s\n",
      "15.732331359337689\n",
      "19.04563212308973\n",
      "95.22816061544867\n"
     ]
    }
   ],
   "source": [
    "bg_cs = 0.106e-12 + 0.0117e-12 + 5.58e-12\n",
    "sig_cs = 0.009998e-12\n",
    "lumi1 = 120e15\n",
    "lumi2 = 3000e15\n",
    "\n",
    "gradboost_f1Tm = sigbg_model(GradientBoostingClassifier(n_estimators=50, max_depth=7, learning_rate=1, verbose=1), \n",
    "                             f1Tm_data_train, f1Tm_data_test);\n",
    "gradboost_f1Tm.fit()\n",
    "print(gradboost_f1Tm.metrica())\n",
    "print((gradboost_f1Tm.tpr() * sig_cs * lumi1) / np.sqrt(gradboost_f1Tm.tpr() * sig_cs * lumi1 + gradboost_f1Tm.fpr() * bg_cs * lumi1))\n",
    "print((gradboost_f1Tm.tpr() * sig_cs * lumi2) / np.sqrt(gradboost_f1Tm.tpr() * sig_cs * lumi2 + gradboost_f1Tm.fpr() * bg_cs * lumi2))\n",
    "# gradboost_f1Tm.save_model('gradboost_f1Tm')\n",
    "\n",
    "gradboost_f1p5Tm = sigbg_model(GradientBoostingClassifier(n_estimators=50, max_depth=7, learning_rate=1, verbose=1), \n",
    "                               f1p5Tm_data_train, f1p5Tm_data_test);\n",
    "gradboost_f1p5Tm.fit()\n",
    "print(gradboost_f1p5Tm.metrica())\n",
    "print((gradboost_f1p5Tm.tpr() * sig_cs * lumi1) / np.sqrt(gradboost_f1p5Tm.tpr() * sig_cs * lumi1 + gradboost_f1p5Tm.fpr() * bg_cs * lumi1))\n",
    "print((gradboost_f1p5Tm.tpr() * sig_cs * lumi2) / np.sqrt(gradboost_f1p5Tm.tpr() * sig_cs * lumi2 + gradboost_f1p5Tm.fpr() * bg_cs * lumi2))\n",
    "# gradboost_f1p5Tm.save_model('gradboost_f1p5Tm')\n",
    "\n",
    "gradboost_f2Tm = sigbg_model(GradientBoostingClassifier(n_estimators=50, max_depth=7, learning_rate=1, verbose=1), \n",
    "                             f2Tm_data_train, f2Tm_data_test);\n",
    "gradboost_f2Tm.fit()\n",
    "print(gradboost_f2Tm.metrica())\n",
    "print((gradboost_f2Tm.tpr() * sig_cs * lumi1) / np.sqrt(gradboost_f2Tm.tpr() * sig_cs * lumi1 + gradboost_f2Tm.fpr() * bg_cs * lumi1))\n",
    "print((gradboost_f2Tm.tpr() * sig_cs * lumi2) / np.sqrt(gradboost_f2Tm.tpr() * sig_cs * lumi2 + gradboost_f2Tm.fpr() * bg_cs * lumi2))"
   ]
  },
  {
   "cell_type": "code",
   "execution_count": 29,
   "metadata": {},
   "outputs": [
    {
     "name": "stdout",
     "output_type": "stream",
     "text": [
      "9.429745007638907\n",
      "12.832484820433908\n",
      "15.732331359337689\n"
     ]
    }
   ],
   "source": [
    "models = [gradboost_f1Tm, gradboost_f1p5Tm, gradboost_f2Tm]\n",
    "for model in models:\n",
    "    print(model.tpr() / np.sqrt(model.fpr()))"
   ]
  },
  {
   "cell_type": "code",
   "execution_count": null,
   "metadata": {},
   "outputs": [],
   "source": []
  }
 ],
 "metadata": {
  "kernelspec": {
   "display_name": "Python 3",
   "language": "python",
   "name": "python3"
  },
  "language_info": {
   "codemirror_mode": {
    "name": "ipython",
    "version": 3
   },
   "file_extension": ".py",
   "mimetype": "text/x-python",
   "name": "python",
   "nbconvert_exporter": "python",
   "pygments_lexer": "ipython3",
   "version": "3.7.4"
  }
 },
 "nbformat": 4,
 "nbformat_minor": 5
}
