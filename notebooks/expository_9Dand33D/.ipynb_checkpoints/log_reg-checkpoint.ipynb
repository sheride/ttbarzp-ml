{
 "cells": [
  {
   "cell_type": "markdown",
   "metadata": {},
   "source": [
    "Logistic regression models trained on introductory data in $\\mathbb{R}^9$ and $\\mathbb{R}^{33}$"
   ]
  },
  {
   "cell_type": "code",
   "execution_count": 266,
   "metadata": {},
   "outputs": [],
   "source": [
    "from sklearn.linear_model import LogisticRegression\n",
    "from sklearn.pipeline import make_pipeline\n",
    "from sklearn.preprocessing import StandardScaler"
   ]
  },
  {
   "cell_type": "code",
   "execution_count": 80,
   "metadata": {},
   "outputs": [
    {
     "name": "stdout",
     "output_type": "stream",
     "text": [
      "Accuracy: 82.94%\n"
     ]
    }
   ],
   "source": [
    "log_reg_init_350Gm = sigbg_model(make_pipeline(StandardScaler(), LogisticRegression()), init_350Gm_train, init_350Gm_test);\n",
    "log_reg_init_350Gm.fit()\n",
    "log_reg_init_350Gm.accuracy()"
   ]
  },
  {
   "cell_type": "code",
   "execution_count": 81,
   "metadata": {},
   "outputs": [
    {
     "name": "stdout",
     "output_type": "stream",
     "text": [
      "Accuracy: 96.75%\n"
     ]
    }
   ],
   "source": [
    "log_reg_init_1Tm = sigbg_model(make_pipeline(StandardScaler(), LogisticRegression()), init_1Tm_train, init_1Tm_test);\n",
    "log_reg_init_1Tm.fit()\n",
    "log_reg_init_1Tm.accuracy()"
   ]
  },
  {
   "cell_type": "code",
   "execution_count": 82,
   "metadata": {},
   "outputs": [
    {
     "name": "stdout",
     "output_type": "stream",
     "text": [
      "Accuracy: 70.39%\n"
     ]
    }
   ],
   "source": [
    "log_reg_f350Gm = sigbg_model(make_pipeline(StandardScaler(), LogisticRegression()), f350Gm_data_train, f350Gm_data_test);\n",
    "log_reg_f350Gm.fit()\n",
    "log_reg_f350Gm.accuracy()"
   ]
  },
  {
   "cell_type": "code",
   "execution_count": 83,
   "metadata": {},
   "outputs": [
    {
     "name": "stdout",
     "output_type": "stream",
     "text": [
      "Accuracy: 94.54%\n"
     ]
    }
   ],
   "source": [
    "log_reg_f1Tm = sigbg_model(make_pipeline(StandardScaler(), LogisticRegression()), f1Tm_data_train, f1Tm_data_test);\n",
    "log_reg_f1Tm.fit()\n",
    "log_reg_f1Tm.accuracy()"
   ]
  },
  {
   "cell_type": "code",
   "execution_count": 84,
   "metadata": {},
   "outputs": [
    {
     "name": "stdout",
     "output_type": "stream",
     "text": [
      "Accuracy: 98.05%\n"
     ]
    }
   ],
   "source": [
    "log_reg_f1p5Tm = sigbg_model(make_pipeline(StandardScaler(), LogisticRegression()), f1p5Tm_data_train, f1p5Tm_data_test);\n",
    "log_reg_f1p5Tm.fit()\n",
    "log_reg_f1p5Tm.accuracy()"
   ]
  },
  {
   "cell_type": "code",
   "execution_count": 85,
   "metadata": {},
   "outputs": [
    {
     "name": "stdout",
     "output_type": "stream",
     "text": [
      "Accuracy: 99.11%\n"
     ]
    }
   ],
   "source": [
    "log_reg_f2Tm = sigbg_model(make_pipeline(StandardScaler(), LogisticRegression()), f2Tm_data_train, f2Tm_data_test);\n",
    "log_reg_f2Tm.fit()\n",
    "log_reg_f2Tm.accuracy()"
   ]
  },
  {
   "cell_type": "code",
   "execution_count": 70,
   "metadata": {},
   "outputs": [],
   "source": [
    "log_reg_init_350Gm = refresh_model(log_reg_init_350Gm)\n",
    "log_reg_init_1Tm = refresh_model(log_reg_init_1Tm)\n",
    "log_reg_f350Gm = refresh_model(log_reg_f350Gm)\n",
    "log_reg_f1Tm = refresh_model(log_reg_f1Tm)\n",
    "log_reg_f1p5Tm = refresh_model(log_reg_f1p5Tm)\n",
    "log_reg_f2Tm = refresh_model(log_reg_f2Tm)"
   ]
  },
  {
   "cell_type": "code",
   "execution_count": 154,
   "metadata": {
    "collapsed": true,
    "jupyter": {
     "outputs_hidden": true
    }
   },
   "outputs": [
    {
     "name": "stdout",
     "output_type": "stream",
     "text": [
      "[[41.3976  8.5444]\n",
      " [ 8.5204 41.5376]]\n",
      "[[48.5582  1.8916]\n",
      " [ 1.3598 48.1904]]\n",
      "[[37.6792 17.374 ]\n",
      " [12.2388 32.708 ]]\n",
      "[[46.1394  1.6764]\n",
      " [ 3.7786 48.4056]]\n",
      "[[48.5644  0.5924]\n",
      " [ 1.3536 49.4896]]\n",
      "[[49.3748  0.3458]\n",
      " [ 0.5432 49.7362]]\n"
     ]
    }
   ],
   "source": [
    "for model in [log_reg_init_350Gm, \n",
    "              log_reg_init_1Tm,\n",
    "              log_reg_f350Gm,\n",
    "              log_reg_f1Tm,\n",
    "              log_reg_f1p5Tm,\n",
    "              log_reg_f2Tm]:\n",
    "    print(model.confusion_matrix())"
   ]
  },
  {
   "cell_type": "code",
   "execution_count": 135,
   "metadata": {},
   "outputs": [],
   "source": [
    "path = '../saved_models/log_reg/log_reg_'\n",
    "for name, model in zip([path + name for name in names],\n",
    "                       [log_reg_init_350Gm, \n",
    "                        log_reg_init_1Tm,\n",
    "                        log_reg_f350Gm,\n",
    "                        log_reg_f1Tm,\n",
    "                        log_reg_f1p5Tm,\n",
    "                        log_reg_f2Tm]):\n",
    "    model.save_model(name)"
   ]
  },
  {
   "cell_type": "code",
   "execution_count": 23,
   "metadata": {},
   "outputs": [],
   "source": [
    "path = '../saved_models/log_reg/log_reg_'\n",
    "log_reg_init_350Gm, log_reg_init_1Tm, log_reg_f350Gm, \\\n",
    "    log_reg_f1Tm, log_reg_f1p5Tm, log_reg_f2Tm = \\\n",
    "    [sigbg_model(joblib.load(path + name + '.joblib'), train, test) for name, train, test in zip(names, trains, tests)]"
   ]
  },
  {
   "cell_type": "code",
   "execution_count": 29,
   "metadata": {},
   "outputs": [
    {
     "name": "stdout",
     "output_type": "stream",
     "text": [
      "0.829 0.829 0.6872409999999999\n",
      "0.973 0.963 0.9369989999999999\n",
      "0.755 0.684 0.51642\n",
      "0.924 0.965 0.89166\n",
      "0.973 0.988 0.961324\n",
      "0.989 0.993 0.982077\n"
     ]
    }
   ],
   "source": [
    "for model in [log_reg_init_350Gm, log_reg_init_1Tm, log_reg_f350Gm, log_reg_f1Tm, log_reg_f1p5Tm, log_reg_f2Tm]:\n",
    "    print(model.ppv(), model.tpr(), model.ppv()*model.tpr())"
   ]
  },
  {
   "cell_type": "code",
   "execution_count": 58,
   "metadata": {},
   "outputs": [
    {
     "name": "stdout",
     "output_type": "stream",
     "text": [
      "Require 3021.224687021261 fb^-1 lumi for 5 sigma discovery potential\n",
      "Require 483.3959499234018 fb^-1 lumi for 2 sigma discovery potential\n",
      "For 120 fb^-1 lumi we have significance of 0.9964812124846995\n",
      "For 3000 fb^-1 lumi we have significance of 4.982406062423498\n",
      "Require 1045198.8414033154 fb^-1 lumi for 5 sigma discovery potential\n",
      "Require 167231.81462453047 fb^-1 lumi for 2 sigma discovery potential\n",
      "For 120 fb^-1 lumi we have significance of 0.05357487513718085\n",
      "For 3000 fb^-1 lumi we have significance of 0.2678743756859042\n",
      "Require 5350.508277231899 fb^-1 lumi for 5 sigma discovery potential\n",
      "Require 856.0813243571039 fb^-1 lumi for 2 sigma discovery potential\n",
      "For 120 fb^-1 lumi we have significance of 0.7487952956115083\n",
      "For 3000 fb^-1 lumi we have significance of 3.7439764780575415\n",
      "Require 1154193.449798647 fb^-1 lumi for 5 sigma discovery potential\n",
      "Require 184670.9519677836 fb^-1 lumi for 2 sigma discovery potential\n",
      "For 120 fb^-1 lumi we have significance of 0.05098252310281941\n",
      "For 3000 fb^-1 lumi we have significance of 0.254912615514097\n"
     ]
    }
   ],
   "source": [
    "lumis = np.array([120e15, 3000e15]) # barn^{-1}\n",
    "sig350Gm_cs = 0.01e-12 # barn\n",
    "sig1Tm_cs = 0.000394e-12 # barn\n",
    "bg_cs = 0.106e-12 + 0.0117e-12 + 5.58e-12\n",
    "\n",
    "for model, s_cs, b_cs in zip(\n",
    "    [log_reg_init_350Gm, log_reg_init_1Tm, log_reg_f350Gm, log_reg_f1Tm, log_reg_f1p5Tm, log_reg_f2Tm],\n",
    "    [sig350Gm_cs, sig1Tm_cs, sig350Gm_cs, sig1Tm_cs],\n",
    "    [bg_cs] * 4):\n",
    "    print('Require {} fb^-1 lumi for 5 sigma discovery potential'.format(model.lumi_req(s_cs, b_cs)))\n",
    "    print('Require {} fb^-1 lumi for 2 sigma discovery potential'.format(model.lumi_req(s_cs, b_cs, significance=2)))\n",
    "    print('For 120 fb^-1 lumi we have significance of {}'.format(model.significance(lumis[0], s_cs, b_cs)))\n",
    "    print('For 3000 fb^-1 lumi we have significance of {}'.format(model.significance(lumis[1], s_cs, b_cs)))"
   ]
  },
  {
   "cell_type": "code",
   "execution_count": 60,
   "metadata": {},
   "outputs": [
    {
     "name": "stdout",
     "output_type": "stream",
     "text": [
      "0.6896677944247264\n",
      "17.489522795914546\n"
     ]
    }
   ],
   "source": [
    "print((5 / sig350Gm_cs) * np.sqrt((sig350Gm_cs + bg_cs) / lumis[1]))\n",
    "print((5 / sig1Tm_cs) * np.sqrt((sig1Tm_cs + bg_cs) / lumis[1]))"
   ]
  },
  {
   "cell_type": "code",
   "execution_count": 71,
   "metadata": {},
   "outputs": [
    {
     "name": "stdout",
     "output_type": "stream",
     "text": [
      "14.54679482490263\n",
      "1.4123474451544829\n",
      "8.425626480420016\n",
      "1.5187189196145958\n"
     ]
    }
   ],
   "source": [
    "for model, signal in zip(\n",
    "    [log_reg_init_350Gm, log_reg_init_1Tm, log_reg_f350Gm, log_reg_f1Tm],\n",
    "    [cross_sec * 3000e15 for cross_sec in [sig350Gm_cs, sig1Tm_cs, sig350Gm_cs, sig1Tm_cs]]):\n",
    "#     print(signal, bg_cs * 3000e-15)\n",
    "    print(model.ams(signal, bg_cs * 3000e15))"
   ]
  },
  {
   "cell_type": "code",
   "execution_count": null,
   "metadata": {},
   "outputs": [],
   "source": []
  }
 ],
 "metadata": {
  "kernelspec": {
   "display_name": "Python 3",
   "language": "python",
   "name": "python3"
  },
  "language_info": {
   "codemirror_mode": {
    "name": "ipython",
    "version": 3
   },
   "file_extension": ".py",
   "mimetype": "text/x-python",
   "name": "python",
   "nbconvert_exporter": "python",
   "pygments_lexer": "ipython3",
   "version": "3.7.4"
  }
 },
 "nbformat": 4,
 "nbformat_minor": 5
}
