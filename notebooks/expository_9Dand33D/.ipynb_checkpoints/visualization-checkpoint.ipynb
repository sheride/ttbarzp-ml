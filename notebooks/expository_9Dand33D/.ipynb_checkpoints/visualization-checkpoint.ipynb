{
 "cells": [
  {
   "cell_type": "code",
   "execution_count": 76,
   "metadata": {},
   "outputs": [],
   "source": [
    "import scipy.interpolate\n",
    "import matplotlib.pyplot as plt\n",
    "import numpy as np"
   ]
  },
  {
   "cell_type": "code",
   "execution_count": 299,
   "metadata": {},
   "outputs": [],
   "source": [
    "def interp1D(xs, ys, xlabel='x', ylabel='y', res=100, label=None, plot=True):\n",
    "    pts = np.linspace(xs[0], xs[-1], res)\n",
    "    f = scipy.interpolate.interp1d(xs, ys, kind='cubic')\n",
    "    interp = [f(pt) for pt in pts]\n",
    "    if plot:\n",
    "        plt.plot(pts, interp, label=label)\n",
    "    plt.ylabel(ylabel);\n",
    "    plt.xlabel(xlabel);\n",
    "    return [pts, interp]"
   ]
  },
  {
   "cell_type": "code",
   "execution_count": 78,
   "metadata": {},
   "outputs": [],
   "source": [
    "def interp2D(xs, ys, data, xlabel, ylabel, blabel, cvalues=None, clabels=None, manual=None, res=1000, ext=None, \n",
    "             save_file=None, minsig=None, maxsig=None):\n",
    "    ext = ext or [xs[0], xs[-1], ys[0], ys[-1]]\n",
    "    pts = np.array([[x,y] for x in xs for y in ys])\n",
    "    data = np.array(data).flatten()\n",
    "    grid = np.array(\n",
    "            [[[x,y] for x in np.linspace(ext[0], ext[1], res)]\n",
    "            for y in np.linspace(ext[2], ext[3], res)])\n",
    "    interp = scipy.interpolate.griddata(pts, data, grid)\n",
    "    \n",
    "    if minsig and maxsig:\n",
    "        plt.imshow(interp, origin='lower', aspect='auto', extent=ext,\n",
    "                   vmin=minsig, vmax=maxsig)\n",
    "    else:\n",
    "        plt.imshow(interp, origin='lower', aspect='auto', extent=ext)\n",
    "    cbar = plt.colorbar()\n",
    "    plt.xlabel(r'{}'.format(xlabel))\n",
    "    plt.ylabel(r'{}'.format(ylabel))\n",
    "    cbar.set_label(r'{}'.format(blabel), rotation=90)\n",
    "    if cvalues:\n",
    "        result = plt.contour(grid[:,:,0], grid[:,:,1], interp, cvalues, colors='white',\n",
    "                             linewidths=3, linestyles='dashed')\n",
    "        fmt = {lev:lab for lev, lab in zip(result.levels, clabels)}\n",
    "        plt.clabel(result, result.levels, inline=True, fmt=fmt, fontsize=15,\n",
    "                   manual=manual)\n",
    "    if save_file:\n",
    "        plt.savefig(save_file, dpi=300, bbox_inches='tight')\n",
    "    return [grid, interp]"
   ]
  },
  {
   "cell_type": "code",
   "execution_count": null,
   "metadata": {},
   "outputs": [],
   "source": []
  }
 ],
 "metadata": {
  "kernelspec": {
   "display_name": "Python 3",
   "language": "python",
   "name": "python3"
  },
  "language_info": {
   "codemirror_mode": {
    "name": "ipython",
    "version": 3
   },
   "file_extension": ".py",
   "mimetype": "text/x-python",
   "name": "python",
   "nbconvert_exporter": "python",
   "pygments_lexer": "ipython3",
   "version": "3.7.4"
  }
 },
 "nbformat": 4,
 "nbformat_minor": 4
}
