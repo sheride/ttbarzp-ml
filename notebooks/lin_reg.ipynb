{
 "cells": [
  {
   "cell_type": "code",
   "execution_count": 47,
   "metadata": {},
   "outputs": [],
   "source": [
    "from sklearn.linear_model import LinearRegression"
   ]
  },
  {
   "cell_type": "markdown",
   "metadata": {},
   "source": [
    "# Initial 9D Data"
   ]
  },
  {
   "cell_type": "code",
   "execution_count": 48,
   "metadata": {},
   "outputs": [
    {
     "name": "stdout",
     "output_type": "stream",
     "text": [
      "Accuracy: 82.23%\n"
     ]
    }
   ],
   "source": [
    "lin_reg_init_350Gm = sigbg_model(LinearRegression(), init_350Gm_train, init_350Gm_test);\n",
    "lin_reg_init_350Gm.fit()\n",
    "lin_reg_init_350Gm.evaluate()"
   ]
  },
  {
   "cell_type": "code",
   "execution_count": 49,
   "metadata": {},
   "outputs": [
    {
     "name": "stdout",
     "output_type": "stream",
     "text": [
      "Accuracy: 96.37%\n"
     ]
    }
   ],
   "source": [
    "lin_reg_init_1Tm = sigbg_model(LinearRegression(), init_1Tm_train, init_1Tm_test);\n",
    "lin_reg_init_1Tm.fit()\n",
    "lin_reg_init_1Tm.evaluate()"
   ]
  },
  {
   "cell_type": "markdown",
   "metadata": {},
   "source": [
    "# Full 33D Data"
   ]
  },
  {
   "cell_type": "code",
   "execution_count": 142,
   "metadata": {},
   "outputs": [
    {
     "name": "stdout",
     "output_type": "stream",
     "text": [
      "Accuracy: 69.52000000000001%\n"
     ]
    }
   ],
   "source": [
    "lin_reg_f350Gm = sigbg_model(LinearRegression(), f350Gm_data_train, f350Gm_data_test);\n",
    "lin_reg_f350Gm.fit()\n",
    "lin_reg_f350Gm.evaluate()"
   ]
  },
  {
   "cell_type": "code",
   "execution_count": 143,
   "metadata": {},
   "outputs": [
    {
     "name": "stdout",
     "output_type": "stream",
     "text": [
      "Accuracy: 94.41000000000001%\n"
     ]
    }
   ],
   "source": [
    "lin_reg_f1Tm = sigbg_model(LinearRegression(), f1Tm_data_train, f1Tm_data_test);\n",
    "lin_reg_f1Tm.fit()\n",
    "lin_reg_f1Tm.evaluate()"
   ]
  },
  {
   "cell_type": "code",
   "execution_count": 144,
   "metadata": {},
   "outputs": [
    {
     "name": "stdout",
     "output_type": "stream",
     "text": [
      "Accuracy: 97.89999999999999%\n"
     ]
    }
   ],
   "source": [
    "lin_reg_f1p5Tm = sigbg_model(LinearRegression(), f1p5Tm_data_train, f1p5Tm_data_test);\n",
    "lin_reg_f1p5Tm.fit()\n",
    "lin_reg_f1p5Tm.evaluate()"
   ]
  },
  {
   "cell_type": "code",
   "execution_count": 145,
   "metadata": {},
   "outputs": [
    {
     "name": "stdout",
     "output_type": "stream",
     "text": [
      "Accuracy: 98.92999999999999%\n"
     ]
    }
   ],
   "source": [
    "lin_reg_f2Tm = sigbg_model(LinearRegression(), f2Tm_data_train, f2Tm_data_test);\n",
    "lin_reg_f2Tm.fit()\n",
    "lin_reg_f2Tm.evaluate()"
   ]
  },
  {
   "cell_type": "code",
   "execution_count": 154,
   "metadata": {},
   "outputs": [
    {
     "data": {
      "image/png": "[encoded data removed]",
      "text/plain": [
       "<Figure size 432x288 with 1 Axes>"
      ]
     },
     "metadata": {
      "needs_background": "light"
     },
     "output_type": "display_data"
    }
   ],
   "source": [
    "accs = [model.accuracy for model in [lin_reg_f350Gm, lin_reg_f1Tm, lin_reg_f1p5Tm, lin_reg_f2Tm]]\n",
    "interp1D([350, 1000, 1500, 2000], accs, xlabel=\"m(Z')\", ylabel=\"% Accuracy of Linear Regression\", res=100)\n",
    "plt.scatter([350, 1000], [82.83, 96.37], color='red');"
   ]
  },
  {
   "cell_type": "code",
   "execution_count": null,
   "metadata": {},
   "outputs": [],
   "source": []
  }
 ],
 "metadata": {
  "kernelspec": {
   "display_name": "Python 3",
   "language": "python",
   "name": "python3"
  },
  "language_info": {
   "codemirror_mode": {
    "name": "ipython",
    "version": 3
   },
   "file_extension": ".py",
   "mimetype": "text/x-python",
   "name": "python",
   "nbconvert_exporter": "python",
   "pygments_lexer": "ipython3",
   "version": "3.7.4"
  }
 },
 "nbformat": 4,
 "nbformat_minor": 5
}
