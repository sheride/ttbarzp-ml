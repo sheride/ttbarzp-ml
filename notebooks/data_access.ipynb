{
 "cells": [
  {
   "cell_type": "code",
   "execution_count": 29,
   "metadata": {},
   "outputs": [],
   "source": [
    "import numpy as np"
   ]
  },
  {
   "cell_type": "code",
   "execution_count": 30,
   "metadata": {},
   "outputs": [],
   "source": [
    "class InitialData:\n",
    "    \"\"\"\n",
    "    9D data [b1 pt, b2 pt, j1 pt, j2 pt, delta R b1-b2, delta R(j1, j2), m(b1, b2), MET, merged status]\n",
    "    for signal @ m = 350 GeV, 1 TeV and three backgrounds (h, 4 tops, no h) each with 1 million points\n",
    "    (background is grouped into one file, 3 million points).\n",
    "    \"\"\"\n",
    "    \n",
    "    dat_path = '../data/dat/'\n",
    "    names = ['sig_m350GeV', 'sig_m1TeV', 'bg']\n",
    "    cols = ['$p_T(b_1)$', '$p_T(b_2)$', '$p_T(j_1)$', '$p_T(j_2)$', '$\\Delta R(b_1, b_2)$', '$\\Delta R(j_1, j_2)$',\n",
    "       'm_{b_1 b_2}', 'MET', 'merged status']\n",
    "    npy_path = '../data/npy/initial_9/'\n",
    "    \n",
    "    def __init__(self):\n",
    "        return\n",
    "    \n",
    "    def import_dat(self):\n",
    "        self.sig350G, self.sig1TeV, self.bg = [\n",
    "            np.loadtxt(InitialData.dat_path + name + '.dat') for name in InitialData.names]\n",
    "        \n",
    "    def save_npys():\n",
    "        self.import_dat()\n",
    "        for name, data in zip(InitialData.names, [self.sig350G, self.sig1TeV, self.bg]):\n",
    "            np.save(InitialData.npy_path + InitialData.name, data)\n",
    "            \n",
    "    def import_npy(self, index):\n",
    "        return np.load(InitialData.npy_path + InitialData.names[index] + '.npy')"
   ]
  },
  {
   "cell_type": "code",
   "execution_count": 31,
   "metadata": {},
   "outputs": [],
   "source": [
    "class FullData:\n",
    "    \"\"\"\n",
    "    33D data [Lorentz vector for all 8 outgoing partices (momentum ordering if more than 8) + merged status]\n",
    "    for signal @ m = 350 GeV, 1 TeV, 1.5 TeV, 2 TeV and three backgrounds (h, 4 tops, no h) each with 1 million points\n",
    "    \"\"\"\n",
    "    \n",
    "    dat_path = '../data/dat/full_33_data.dat'\n",
    "    names = ['sig350Gm', 'sig1Tm', 'sig1p5Tm', 'sig2TeVm', 'bgh', 'bg4t', 'bgnoh']\n",
    "    npy_path = '../data/npy/full_33/'\n",
    "    \n",
    "    def __init__(self):\n",
    "        return\n",
    "    \n",
    "    def import_dat(self):\n",
    "        self.whole_data = np.loadtxt(FullData.dat_path)\n",
    "        \n",
    "    def save_whole_npy(self):\n",
    "        self.import_dat()\n",
    "        np.save(FullData.npy_path + 'full_33_data.npy', self.whole_data)\n",
    "\n",
    "    def import_whole_npy(self):\n",
    "        self.whole_data = np.load(FullData.npy_path + 'full_33_data.npy')\n",
    "\n",
    "    def save_npys(self):\n",
    "        mil = 1000000\n",
    "        self.import_whole_npy()\n",
    "        data_list = [self.whole_data[i*mil:(i+1)*mil] for i in range(7)]\n",
    "        for name, data in zip(FullData.names, data_list):\n",
    "            np.save(FullData.npy_path + name, data)\n",
    "\n",
    "    def import_npy(self, index):\n",
    "        return np.load(FullData.npy_path + FullData.names[index] + '.npy')"
   ]
  },
  {
   "cell_type": "code",
   "execution_count": 32,
   "metadata": {},
   "outputs": [],
   "source": [
    "from sklearn.model_selection import train_test_split"
   ]
  },
  {
   "cell_type": "code",
   "execution_count": 33,
   "metadata": {},
   "outputs": [],
   "source": [
    "data_obj = InitialData()\n",
    "initial_350Gm_signal, initial_1Tm_signal, initial_bg = [data_obj.import_npy(i) for i in range(3)]"
   ]
  },
  {
   "cell_type": "code",
   "execution_count": 34,
   "metadata": {},
   "outputs": [],
   "source": [
    "amt = int(len(initial_350Gm_signal)/3)\n",
    "mil = 1000000\n",
    "initial_350Gm_data = np.concatenate((\n",
    "    binary_append(initial_350Gm_signal, True),\n",
    "    binary_append(initial_bg[:amt], False),\n",
    "    binary_append(initial_bg[mil:mil+amt], False),\n",
    "    binary_append(initial_bg[2*mil:2*mil+amt], False))\n",
    ")\n",
    "# initial_350Gm_data = np.concatenate((\n",
    "#     binary_append(initial_350Gm_signal, True),\n",
    "#     binary_append(initial_bg, False))\n",
    "# )\n",
    "init_350Gm_train, init_350Gm_test = train_test_split(initial_350Gm_data)"
   ]
  },
  {
   "cell_type": "code",
   "execution_count": 35,
   "metadata": {},
   "outputs": [],
   "source": [
    "amt = int(len(initial_1Tm_signal)/3)\n",
    "mil = 1000000\n",
    "initial_1Tm_data = np.concatenate((\n",
    "    binary_append(initial_1Tm_signal, True),\n",
    "    binary_append(initial_bg[:amt], False),\n",
    "    binary_append(initial_bg[mil:mil+amt], False),\n",
    "    binary_append(initial_bg[2*mil:2*mil+amt], False))\n",
    ")\n",
    "# initial_1Tm_data = np.concatenate((\n",
    "#     binary_append(initial_1Tm_signal, True),\n",
    "#     binary_append(initial_bg, False))\n",
    "# )\n",
    "init_1Tm_train, init_1Tm_test = train_test_split(initial_1Tm_data)"
   ]
  },
  {
   "cell_type": "code",
   "execution_count": 36,
   "metadata": {},
   "outputs": [],
   "source": [
    "data_obj = FullData()\n",
    "fsig350Gm, fsig1Tm, fsig1p5Tm, fsig2Tm, fbgh, fbg4t, fbgnoh = [data_obj.import_npy(i) for i in range(7)]"
   ]
  },
  {
   "cell_type": "code",
   "execution_count": 38,
   "metadata": {},
   "outputs": [],
   "source": [
    "amt = int(len(fsig350Gm)/3)\n",
    "f350Gm_data = np.concatenate((\n",
    "    binary_append(fsig350Gm, True),\n",
    "    binary_append(fbgh[:amt], False),\n",
    "    binary_append(fbg4t[:amt], False),\n",
    "    binary_append(fbgnoh[:amt], False))\n",
    ")\n",
    "f350Gm_data_train, f350Gm_data_test = train_test_split(f350Gm_data)"
   ]
  },
  {
   "cell_type": "code",
   "execution_count": 39,
   "metadata": {},
   "outputs": [],
   "source": [
    "amt = int(len(fsig1Tm)/3)\n",
    "f1Tm_data = np.concatenate((\n",
    "    binary_append(fsig1Tm, True),\n",
    "    binary_append(fbgh[:amt], False),\n",
    "    binary_append(fbg4t[:amt], False),\n",
    "    binary_append(fbgnoh[:amt], False))\n",
    ")\n",
    "f1Tm_data_train, f1Tm_data_test = train_test_split(f1Tm_data)"
   ]
  },
  {
   "cell_type": "code",
   "execution_count": 40,
   "metadata": {},
   "outputs": [],
   "source": [
    "amt = int(len(fsig1p5Tm)/3)\n",
    "f1p5Tm_data = np.concatenate((\n",
    "    binary_append(fsig1p5Tm, True),\n",
    "    binary_append(fbgh[:amt], False),\n",
    "    binary_append(fbg4t[:amt], False),\n",
    "    binary_append(fbgnoh[:amt], False))\n",
    ")\n",
    "f1p5Tm_data_train, f1p5Tm_data_test = train_test_split(f1p5Tm_data)"
   ]
  },
  {
   "cell_type": "code",
   "execution_count": 41,
   "metadata": {},
   "outputs": [],
   "source": [
    "amt = int(len(fsig2Tm)/3)\n",
    "f2Tm_data = np.concatenate((\n",
    "    binary_append(fsig2Tm, True),\n",
    "    binary_append(fbgh[:amt], False),\n",
    "    binary_append(fbg4t[:amt], False),\n",
    "    binary_append(fbgnoh[:amt], False))\n",
    ")\n",
    "f2Tm_data_train, f2Tm_data_test = train_test_split(f2Tm_data)"
   ]
  }
 ],
 "metadata": {
  "kernelspec": {
   "display_name": "Python 3",
   "language": "python",
   "name": "python3"
  },
  "language_info": {
   "codemirror_mode": {
    "name": "ipython",
    "version": 3
   },
   "file_extension": ".py",
   "mimetype": "text/x-python",
   "name": "python",
   "nbconvert_exporter": "python",
   "pygments_lexer": "ipython3",
   "version": "3.7.4"
  }
 },
 "nbformat": 4,
 "nbformat_minor": 4
}
