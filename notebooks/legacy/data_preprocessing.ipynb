{
 "cells": [
  {
   "cell_type": "code",
   "execution_count": 2,
   "metadata": {},
   "outputs": [],
   "source": [
    "import numpy as np"
   ]
  },
  {
   "cell_type": "code",
   "execution_count": 1,
   "metadata": {},
   "outputs": [],
   "source": [
    "names = ['sig_m350GeV', 'sig_m1TeV', 'bg']\n",
    "data = [np.load('../raw_data/' + name + '.npy') for name in names]\n",
    "sig350G, sig1T, bg = data\n",
    "bg1, bg2, bg3 = [bg[0:1000000], bg[1000000:2000000], bg[2000000:3000000]]"
   ]
  },
  {
   "cell_type": "code",
   "execution_count": 2,
   "metadata": {},
   "outputs": [],
   "source": [
    "import sklearn\n",
    "assert sklearn.__version__ >= \"0.20\""
   ]
  },
  {
   "cell_type": "code",
   "execution_count": 92,
   "metadata": {},
   "outputs": [],
   "source": [
    "sig350G_labelled = np.concatenate((sig350G, np.ones((len(sig350G),1))), axis=1)\n",
    "\n",
    "bg_shuffle = bg\n",
    "np.random.shuffle(bg_shuffle)\n",
    "bg_shuffle_labelled = np.concatenate((bg_shuffle, np.zeros((len(bg_shuffle),1))), axis=1)\n",
    "\n",
    "m350G_data = np.concatenate((sig350G_labelled, bg_shuffle_labelled[:len(sig350G)]), axis=0)"
   ]
  },
  {
   "cell_type": "code",
   "execution_count": 22,
   "metadata": {},
   "outputs": [],
   "source": [
    "from sklearn.pipeline import Pipeline\n",
    "from sklearn.preprocessing import StandardScaler, MinMaxScaler\n",
    "\n",
    "stand_pipe = Pipeline([('std_scaler', StandardScaler())])\n",
    "minmax_pipe = Pipeline([('minmax_scaler', MinMaxScaler())])"
   ]
  },
  {
   "cell_type": "code",
   "execution_count": 13,
   "metadata": {},
   "outputs": [],
   "source": [
    "from sklearn.model_selection import train_test_split\n",
    "\n",
    "train, test = train_test_split(m350G_data, test_size=0.2, random_state=42)\n",
    "train_stand, test_stand = train_test_split(stand_pipe.fit_transform(m350G_data), test_size=0.2, random_state=42)\n",
    "train_minmax, test_minmax = train_test_split(minmax_pipe.fit_transform(m350G_data), test_size=0.2, random_state=42)"
   ]
  },
  {
   "cell_type": "code",
   "execution_count": 3,
   "metadata": {},
   "outputs": [],
   "source": [
    "# above data had been imported outside of this notebook, but below data was initially\n",
    "# imported here first\n",
    "\n",
    "path = '/Users/elijahsheridan/MG5_aMC_v2_6_5/b_meson_pheno/ttbarzp-ml/raw_data/full_33_data.dat'\n",
    "data = np.loadtxt(path)\n",
    "save_path = '/Users/elijahsheridan/MG5_aMC_v2_6_5/b_meson_pheno/ttbarzp-ml/train_data/full_33/full_33_data'\n",
    "np.save(save_path, data)"
   ]
  },
  {
   "cell_type": "code",
   "execution_count": 6,
   "metadata": {},
   "outputs": [],
   "source": [
    "fdata = np.load('../train_data/full_33/full_33_data.npy')"
   ]
  },
  {
   "cell_type": "code",
   "execution_count": 7,
   "metadata": {},
   "outputs": [],
   "source": [
    "mil = 1000000\n",
    "save_path = '../train_data/full_33/'\n",
    "names = ['sig350Gm', 'sig1Tm', 'sig1p5Tm', 'sig2TeVm', 'bgh', 'bg4t', 'bgnoh']\n",
    "fdatas = [fdata[i*mil:(i+1)*mil] for i in range(7)]\n",
    "for name, data in zip(names, fdatas):\n",
    "    np.save(save_path + name, data)"
   ]
  },
  {
   "cell_type": "code",
   "execution_count": 10,
   "metadata": {},
   "outputs": [],
   "source": [
    "# f for full, as in 33 component\n",
    "fsig350Gm, fsig1Tm, fsig1p5Tm, fsig2TeVm, fbgh, fbg4t, fbgnoh = fdatas"
   ]
  },
  {
   "cell_type": "code",
   "execution_count": 1,
   "metadata": {},
   "outputs": [],
   "source": [
    "\"\"\" START HERE \"\"\"\n",
    "\n",
    "import numpy as np \n",
    "path = '../train_data/full_33/'\n",
    "names = ['sig350Gm', 'sig1Tm', 'sig1p5Tm', 'sig2TeVm', 'bgh', 'bg4t', 'bgnoh']\n",
    "fsig350Gm, fsig1Tm, fsig1p5Tm, fsig2TeVm, fbgh, fbg4t, fbgnoh = [np.load(path + name + '.npy') for name in names]"
   ]
  },
  {
   "cell_type": "code",
   "execution_count": 2,
   "metadata": {},
   "outputs": [],
   "source": [
    "fsig350Gm_labelled = np.concatenate((fsig350Gm, np.ones((len(fsig350Gm),1))), axis=1)\n",
    "fsig1Tm_labelled   = np.concatenate((fsig1Tm,   np.ones((len(fsig1Tm),  1))), axis=1)\n",
    "fsig1p5Tm_labelled = np.concatenate((fsig1p5Tm, np.ones((len(fsig1p5Tm),1))), axis=1)\n",
    "fsig2Tm_labelled   = np.concatenate((fsig2TeVm, np.ones((len(fsig2TeVm),1))), axis=1)\n",
    "\n",
    "fbg_shuffle = np.concatenate((fbgh, fbg4t, fbgnoh))\n",
    "np.random.shuffle(fbg_shuffle)\n",
    "fbg_shuffle_labelled = np.concatenate((fbg_shuffle, np.zeros((len(fbg_shuffle),1))), axis=1)\n",
    "\n",
    "f350Gm_data = np.concatenate((fsig350Gm_labelled, fbg_shuffle_labelled[:len(fsig350Gm_labelled)]), axis=0)\n",
    "f1Tm_data   = np.concatenate((fsig1Tm_labelled,   fbg_shuffle_labelled[:len(fsig1Tm_labelled)]),   axis=0)\n",
    "f1p5Tm_data = np.concatenate((fsig1p5Tm_labelled, fbg_shuffle_labelled[:len(fsig1p5Tm_labelled)]), axis=0)\n",
    "f2Tm_data   = np.concatenate((fsig2Tm_labelled,   fbg_shuffle_labelled[:len(fsig2Tm_labelled)]),   axis=0)"
   ]
  },
  {
   "cell_type": "code",
   "execution_count": 3,
   "metadata": {},
   "outputs": [],
   "source": [
    "from sklearn.model_selection import train_test_split\n",
    "\n",
    "train_f350Gm, test_f350Gm = train_test_split(f350Gm_data, test_size=0.2, random_state=43)\n",
    "train_f1Tm, test_f1Tm     = train_test_split(f1Tm_data,   test_size=0.2, random_state=43)\n",
    "train_f1p5Tm, test_f1p5Tm = train_test_split(f1p5Tm_data, test_size=0.2, random_state=43)\n",
    "train_f2Tm, test_f2Tm     = train_test_split(f2Tm_data,   test_size=0.2, random_state=43)"
   ]
  },
  {
   "cell_type": "code",
   "execution_count": 23,
   "metadata": {},
   "outputs": [],
   "source": [
    "train_f350Gm_minmax, test_f350Gm_minmax = train_test_split(minmax_pipe.fit_transform(f350Gm_data), test_size=0.2, random_state=42)"
   ]
  },
  {
   "cell_type": "code",
   "execution_count": 29,
   "metadata": {},
   "outputs": [],
   "source": [
    "train_f2tm_minmax, test_f2Tm_minmax = train_test_split(minmax_pipe.fit_transform(f2Tm_data), test_size=0.2, random_state=42)"
   ]
  },
  {
   "cell_type": "code",
   "execution_count": 16,
   "metadata": {},
   "outputs": [
    {
     "name": "stdout",
     "output_type": "stream",
     "text": [
      "2000000\n",
      "2000000\n"
     ]
    }
   ],
   "source": [
    "print(len(f350Gm_data))\n",
    "print(len(f2Tm_data))"
   ]
  },
  {
   "cell_type": "code",
   "execution_count": null,
   "metadata": {},
   "outputs": [],
   "source": []
  }
 ],
 "metadata": {
  "kernelspec": {
   "display_name": "Python 3",
   "language": "python",
   "name": "python3"
  },
  "language_info": {
   "codemirror_mode": {
    "name": "ipython",
    "version": 3
   },
   "file_extension": ".py",
   "mimetype": "text/x-python",
   "name": "python",
   "nbconvert_exporter": "python",
   "pygments_lexer": "ipython3",
   "version": "3.7.4"
  }
 },
 "nbformat": 4,
 "nbformat_minor": 4
}
