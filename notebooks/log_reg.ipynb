{
 "cells": [
  {
   "cell_type": "markdown",
   "metadata": {},
   "source": [
    "# Logistic Regression"
   ]
  },
  {
   "cell_type": "code",
   "execution_count": 17,
   "metadata": {},
   "outputs": [],
   "source": [
    "from sklearn.linear_model import LogisticRegression\n",
    "from sklearn.pipeline import make_pipeline\n",
    "from sklearn.preprocessing import StandardScaler"
   ]
  },
  {
   "cell_type": "code",
   "execution_count": 18,
   "metadata": {},
   "outputs": [],
   "source": [
    "DA = DataAccess()\n",
    "PI = PhysicsInfo()\n",
    "lumi = 3000"
   ]
  },
  {
   "cell_type": "code",
   "execution_count": 19,
   "metadata": {},
   "outputs": [
    {
     "name": "stdout",
     "output_type": "stream",
     "text": [
      "47.0\n"
     ]
    }
   ],
   "source": [
    "print(DA.getnpy(0).size/1000000)"
   ]
  },
  {
   "cell_type": "markdown",
   "metadata": {},
   "source": [
    "# Ad hoc helper function for model evaluation"
   ]
  },
  {
   "cell_type": "code",
   "execution_count": 877,
   "metadata": {},
   "outputs": [],
   "source": [
    "def results(model, mass, lumi=3000):\n",
    "    print('TPR: {}; FPR: {}'.format(round(model.tpr(),3), round(model.fpr(),7)))\n",
    "    print('Signal Significance @ L = {} fb^-1: {}'.format(\n",
    "        lumi, round(model.metric(PI.sig_cs(mass) * lumi * PI.conv, PI.bg_cs() * lumi * PI.conv),3)))\n",
    "    print('Mass sensitivity maximum @ L = {} fb^-1: {} GeV'.format(\n",
    "        lumi, \n",
    "        np.round(PI.Zp_mass(model.req_sig_cs(lumi, PI.bg_cs(), model.tpr(), model.fpr())),2)))\n",
    "    threshold, significance, tpr, fpr, _, _ = model.best_threshold(\n",
    "        PI.sig_cs(mass) * lumi * PI.conv, PI.bg_cs() * lumi * PI.conv)\n",
    "    print(fpr)\n",
    "    print('Maximal significance of {} @ threshold = {}'.format(round(significance,3), threshold,4))\n",
    "    print('(sig. maximized with tpr = {}, fpr = {})'.format(round(tpr,3), round(fpr,7)))\n",
    "    print('(new mass sensitivity of {} GeV)'.format(\n",
    "        np.round(PI.Zp_mass(model.req_sig_cs(lumi, PI.bg_cs(), tpr, fpr)),2)))"
   ]
  },
  {
   "cell_type": "code",
   "execution_count": 889,
   "metadata": {},
   "outputs": [],
   "source": [
    "log_reg_350Gm = refresh_model(log_reg_350Gm)\n",
    "log_reg_500Gm = refresh_model(log_reg_500Gm)\n",
    "log_reg_1Tm = refresh_model(log_reg_1Tm)\n",
    "log_reg_2Tm = refresh_model(log_reg_2Tm)\n",
    "log_reg_4Tm = refresh_model(log_reg_4Tm)\n",
    "logreg_models = [log_reg_350Gm, log_reg_500Gm, log_reg_1Tm, log_reg_2Tm, log_reg_4Tm]"
   ]
  },
  {
   "cell_type": "markdown",
   "metadata": {},
   "source": [
    "# Unedited 47-dim data \n",
    "\n",
    "(referred to as 50 dim)"
   ]
  },
  {
   "cell_type": "markdown",
   "metadata": {},
   "source": [
    "## $m_{Z'} = 350$ GeV"
   ]
  },
  {
   "cell_type": "code",
   "execution_count": 20,
   "metadata": {},
   "outputs": [],
   "source": [
    "data50_350Gm_train, data50_350Gm_test = DA.gettraintest(0)\n",
    "log_reg_350Gm = sigbg_model(\n",
    "    make_pipeline(StandardScaler(), LogisticRegression()), data50_350Gm_train, data50_350Gm_test);\n",
    "log_reg_350Gm.fit()"
   ]
  },
  {
   "cell_type": "code",
   "execution_count": 885,
   "metadata": {},
   "outputs": [
    {
     "name": "stdout",
     "output_type": "stream",
     "text": [
      "TPR: 0.863; FPR: 0.1496614\n",
      "Signal Significance @ L = 3000 fb^-1: 16.098\n",
      "3000 5.6977 0.8627650652929196 0.14966144476942184\n",
      "Mass sensitivity maximum @ L = 3000 fb^-1: 536.39 GeV\n",
      "0.06685363996955006\n",
      "Maximal significance of 17.624 @ threshold = 0.762392142482093\n",
      "(sig. maximized with tpr = 0.633, fpr = 0.0668536)\n",
      "3000 5.6977 0.6333293398825925 0.06685363996955006\n",
      "(new mass sensitivity of 553.37 GeV)\n"
     ]
    }
   ],
   "source": [
    "results(log_reg_350Gm, 350)"
   ]
  },
  {
   "cell_type": "code",
   "execution_count": 248,
   "metadata": {
    "collapsed": true,
    "jupyter": {
     "outputs_hidden": true
    }
   },
   "outputs": [
    {
     "name": "stdout",
     "output_type": "stream",
     "text": [
      "M j1 j2:       -4.0312\n",
      "pT b1:         +1.3697\n",
      "M b1 b2:       -0.5617\n",
      "MT b1 l MET:   +0.5535\n",
      "pT j2:         -0.5340\n",
      "M b1 b4:       +0.4948\n",
      "pT b3:         +0.4510\n",
      "dR b1 b2:      +0.4217\n",
      "pT l:          -0.4095\n",
      "MET:           -0.3725\n",
      "pT b2:         +0.3644\n",
      "pT b4:         +0.3605\n",
      "MT b2 l MET:   +0.3421\n",
      "MT b4 l MET:   -0.2827\n",
      "M b2 b4:       +0.2605\n",
      "dR b1 b4:      -0.2076\n",
      "MT l MET:      -0.2063\n",
      "dR j1 j2:      -0.1503\n",
      "M b2 b3:       +0.1411\n",
      "dR b1 b3:      +0.1409\n",
      "dR b3 b4:      +0.1281\n",
      "dR b2 b4:      -0.1124\n",
      "dR b2 l:       -0.0760\n",
      "dR b3 l:       -0.0549\n",
      "dR b2 b3:      +0.0499\n",
      "M b3 b4:       +0.0488\n",
      "M b1 b3:       +0.0436\n",
      "dR b4 l:       +0.0248\n",
      "pT j1:         -0.0237\n",
      "MT b3 l MET:   -0.0130\n",
      "dR b1 l:       +0.0027\n",
      "sdPhi b2 l:    -0.0019\n",
      "sdPhi b2 b4:   -0.0016\n",
      "sdPhi b1 b2:   +0.0015\n",
      "sdEta b2 b3:   +0.0014\n",
      "sdPhi b2 b3:   -0.0013\n",
      "sdEta b1 b3:   +0.0012\n",
      "sdEta b2 b4:   +0.0011\n",
      "sdEta b1 b4:   +0.0008\n",
      "sdPhi b3 l:    -0.0006\n",
      "sdPhi b4 l:    -0.0004\n",
      "sdEta b1 b2:   -0.0004\n",
      "sdPhi b1 b3:   +0.0003\n",
      "sdPhi b1 l:    -0.0003\n",
      "sdPhi b3 b4:   -0.0002\n",
      "sdEta b3 b4:   -0.0001\n",
      "sdPhi b1 b4:   +0.0001\n"
     ]
    }
   ],
   "source": [
    "indices = np.argsort(-np.abs(log_reg_350Gm.model[1].coef_[0]))\n",
    "coef_sort = [[DA.cols[i], log_reg_350Gm.model[1].coef_[0,i]] for i in indices]\n",
    "max_col = max([len(name) for name in DA.cols])\n",
    "for name, val in coef_sort:\n",
    "    sign = '+' if val >= 0 else '-'\n",
    "    print('{0:{1}} {3}{2:.4f}'.format(name + ':', max_col + 3, np.abs(val), sign))"
   ]
  },
  {
   "cell_type": "markdown",
   "metadata": {},
   "source": [
    "## $m_{Z'} = 500$ GeV"
   ]
  },
  {
   "cell_type": "code",
   "execution_count": 21,
   "metadata": {},
   "outputs": [],
   "source": [
    "data50_500Gm_train, data50_500Gm_test = DA.gettraintest(1)\n",
    "log_reg_500Gm = sigbg_model(\n",
    "    make_pipeline(StandardScaler(), LogisticRegression()), data50_500Gm_train, data50_500Gm_test);\n",
    "log_reg_500Gm.fit()"
   ]
  },
  {
   "cell_type": "code",
   "execution_count": 883,
   "metadata": {},
   "outputs": [
    {
     "name": "stdout",
     "output_type": "stream",
     "text": [
      "TPR: 0.927; FPR: 0.0919067\n",
      "Signal Significance @ L = 3000 fb^-1: 8.407\n",
      "3000 5.6977 0.9269118645421508 0.09190672703233302\n",
      "Mass sensitivity maximum @ L = 3000 fb^-1: 595.31 GeV\n",
      "0.037593653591890694\n",
      "Maximal significance of 10.144 @ threshold = 0.8502001374392226\n",
      "(sig. maximized with tpr = 0.717, fpr = 0.0375937)\n",
      "3000 5.6977 0.7174753404416756 0.037593653591890694\n",
      "(new mass sensitivity of 632.74 GeV)\n"
     ]
    }
   ],
   "source": [
    "results(log_reg_500Gm, 500)"
   ]
  },
  {
   "cell_type": "code",
   "execution_count": 249,
   "metadata": {
    "collapsed": true,
    "jupyter": {
     "outputs_hidden": true
    }
   },
   "outputs": [
    {
     "name": "stdout",
     "output_type": "stream",
     "text": [
      "M j1 j2:       -4.4908\n",
      "pT b1:         +1.4705\n",
      "M b1 b4:       +0.6756\n",
      "pT b2:         +0.6446\n",
      "M b1 b2:       +0.6063\n",
      "pT j2:         -0.5356\n",
      "M b1 b3:       +0.4427\n",
      "MT b1 l MET:   +0.4011\n",
      "MT b4 l MET:   -0.3388\n",
      "pT l:          -0.3344\n",
      "MET:           -0.3143\n",
      "M b2 b4:       +0.2825\n",
      "MT b2 l MET:   +0.2739\n",
      "dR b1 b4:      -0.2739\n",
      "MT l MET:      -0.2179\n",
      "pT b4:         +0.1906\n",
      "M b2 b3:       +0.1831\n",
      "dR b1 b2:      +0.1721\n",
      "M b3 b4:       +0.1378\n",
      "dR b2 b3:      +0.1294\n",
      "dR b2 b4:      -0.0976\n",
      "dR b3 b4:      +0.0891\n",
      "dR j1 j2:      -0.0831\n",
      "MT b3 l MET:   -0.0782\n",
      "pT j1:         -0.0704\n",
      "dR b3 l:       -0.0509\n",
      "dR b1 l:       +0.0425\n",
      "dR b1 b3:      +0.0421\n",
      "pT b3:         +0.0262\n",
      "dR b2 l:       -0.0210\n",
      "dR b4 l:       -0.0184\n",
      "sdEta b2 b3:   +0.0028\n",
      "sdPhi b1 b3:   +0.0020\n",
      "sdPhi b1 b2:   +0.0019\n",
      "sdEta b1 b2:   -0.0018\n",
      "sdEta b3 b4:   -0.0018\n",
      "sdPhi b1 b4:   +0.0017\n",
      "sdPhi b3 l:    -0.0014\n",
      "sdPhi b2 l:    -0.0014\n",
      "sdEta b1 b3:   +0.0013\n",
      "sdPhi b4 l:    -0.0010\n",
      "sdEta b1 b4:   -0.0007\n",
      "sdPhi b1 l:    +0.0007\n",
      "sdEta b2 b4:   +0.0006\n",
      "sdPhi b3 b4:   -0.0004\n",
      "sdPhi b2 b4:   -0.0004\n",
      "sdPhi b2 b3:   +0.0000\n"
     ]
    }
   ],
   "source": [
    "indices = np.argsort(-np.abs(log_reg_500Gm.model[1].coef_[0]))\n",
    "coef_sort = [[DA.cols[i], log_reg_500Gm.model[1].coef_[0,i]] for i in indices]\n",
    "max_col = max([len(name) for name in DA.cols])\n",
    "for name, val in coef_sort:\n",
    "    sign = '+' if val >= 0 else '-'\n",
    "    print('{0:{1}} {3}{2:.4f}'.format(name + ':', max_col + 3, np.abs(val), sign))"
   ]
  },
  {
   "cell_type": "markdown",
   "metadata": {},
   "source": [
    "## $m_{Z'} = 1$ TeV"
   ]
  },
  {
   "cell_type": "code",
   "execution_count": 22,
   "metadata": {},
   "outputs": [],
   "source": [
    "data50_1Tm_train, data50_1Tm_test = DA.gettraintest(2)\n",
    "log_reg_1Tm = sigbg_model(\n",
    "    make_pipeline(StandardScaler(), LogisticRegression()), data50_1Tm_train, data50_1Tm_test);\n",
    "log_reg_1Tm.fit()"
   ]
  },
  {
   "cell_type": "code",
   "execution_count": 881,
   "metadata": {},
   "outputs": [
    {
     "name": "stdout",
     "output_type": "stream",
     "text": [
      "TPR: 0.987; FPR: 0.0189631\n",
      "Signal Significance @ L = 3000 fb^-1: 2.044\n",
      "3000 5.6977 0.9872888462920809 0.01896309948315237\n",
      "Mass sensitivity maximum @ L = 3000 fb^-1: 774.91 GeV\n",
      "0.0036700188308826476\n",
      "Maximal significance of 3.576 @ threshold = 0.9871384593618832\n",
      "(sig. maximized with tpr = 0.764, fpr = 0.00367)\n",
      "3000 5.6977 0.763871251148117 0.0036700188308826476\n",
      "(new mass sensitivity of 910.65 GeV)\n"
     ]
    }
   ],
   "source": [
    "results(log_reg_1Tm, 1000)"
   ]
  },
  {
   "cell_type": "code",
   "execution_count": 250,
   "metadata": {
    "collapsed": true,
    "jupyter": {
     "outputs_hidden": true
    }
   },
   "outputs": [
    {
     "name": "stdout",
     "output_type": "stream",
     "text": [
      "M j1 j2:       -5.1142\n",
      "M b1 b2:       +4.2566\n",
      "M b1 b3:       +1.9642\n",
      "M b1 b4:       +1.5152\n",
      "pT b3:         -1.1155\n",
      "dR b1 b2:      -0.8560\n",
      "pT b1:         +0.7047\n",
      "M b2 b3:       +0.6890\n",
      "dR b1 b4:      -0.5530\n",
      "M b2 b4:       +0.4489\n",
      "pT j2:         -0.4179\n",
      "pT b4:         -0.4131\n",
      "MT b4 l MET:   -0.3616\n",
      "M b3 b4:       +0.3613\n",
      "dR b1 b3:      -0.3395\n",
      "MT l MET:      -0.2765\n",
      "dR j1 j2:      +0.1919\n",
      "MT b3 l MET:   -0.1690\n",
      "dR b4 l:       -0.1568\n",
      "MT b1 l MET:   -0.1125\n",
      "dR b2 b4:      -0.1065\n",
      "dR b3 l:       -0.0967\n",
      "dR b2 b3:      +0.0835\n",
      "pT j1:         -0.0793\n",
      "MET:           -0.0740\n",
      "dR b1 l:       +0.0244\n",
      "pT l:          -0.0169\n",
      "dR b3 b4:      +0.0152\n",
      "MT b2 l MET:   +0.0088\n",
      "sdPhi b2 b4:   -0.0045\n",
      "sdPhi b3 b4:   -0.0044\n",
      "sdPhi b1 b3:   +0.0044\n",
      "sdPhi b1 b2:   +0.0042\n",
      "sdPhi b2 l:    -0.0042\n",
      "sdPhi b3 l:    -0.0041\n",
      "sdEta b1 b2:   -0.0025\n",
      "dR b2 l:       +0.0024\n",
      "sdEta b2 b3:   +0.0013\n",
      "sdEta b1 b4:   -0.0012\n",
      "sdEta b1 b3:   -0.0010\n",
      "sdEta b2 b4:   +0.0008\n",
      "sdPhi b1 l:    +0.0006\n",
      "sdPhi b1 b4:   +0.0003\n",
      "sdPhi b4 l:    +0.0003\n",
      "sdEta b3 b4:   -0.0003\n",
      "pT b2:         -0.0003\n",
      "sdPhi b2 b3:   -0.0001\n"
     ]
    }
   ],
   "source": [
    "indices = np.argsort(-np.abs(log_reg_1Tm.model[1].coef_[0]))\n",
    "coef_sort = [[DA.cols[i], log_reg_1Tm.model[1].coef_[0,i]] for i in indices]\n",
    "max_col = max([len(name) for name in DA.cols])\n",
    "for name, val in coef_sort:\n",
    "    sign = '+' if val >= 0 else '-'\n",
    "    print('{0:{1}} {3}{2:.4f}'.format(name + ':', max_col + 3, np.abs(val), sign))"
   ]
  },
  {
   "cell_type": "markdown",
   "metadata": {},
   "source": [
    "## $m_{Z'} = 2$ TeV"
   ]
  },
  {
   "cell_type": "code",
   "execution_count": 23,
   "metadata": {},
   "outputs": [],
   "source": [
    "data50_2Tm_train, data50_2Tm_test = DA.gettraintest(3)\n",
    "log_reg_2Tm = sigbg_model(\n",
    "    make_pipeline(StandardScaler(), LogisticRegression()), data50_2Tm_train, data50_2Tm_test);\n",
    "log_reg_2Tm.fit()"
   ]
  },
  {
   "cell_type": "code",
   "execution_count": 880,
   "metadata": {},
   "outputs": [
    {
     "name": "stdout",
     "output_type": "stream",
     "text": [
      "TPR: 0.996; FPR: 0.0027364\n",
      "Signal Significance @ L = 3000 fb^-1: 0.281\n",
      "3000 5.6977 0.9955381425744759 0.002736378205128205\n",
      "Mass sensitivity maximum @ L = 3000 fb^-1: 1019.74 GeV\n",
      "0.0\n",
      "Maximal significance of 2.839 @ threshold = 0.9999978157577915\n",
      "(sig. maximized with tpr = 0.132, fpr = 0.0)\n",
      "3000 5.6977 0.132089899332298 0.0\n",
      "(new mass sensitivity of 1576.37 GeV)\n"
     ]
    }
   ],
   "source": [
    "results(log_reg_2Tm, 2000)"
   ]
  },
  {
   "cell_type": "code",
   "execution_count": 251,
   "metadata": {
    "collapsed": true,
    "jupyter": {
     "outputs_hidden": true
    }
   },
   "outputs": [
    {
     "name": "stdout",
     "output_type": "stream",
     "text": [
      "M b1 b2:       +5.8411\n",
      "M j1 j2:       -3.6355\n",
      "M b1 b3:       +2.3340\n",
      "M b1 b4:       +1.6473\n",
      "pT b3:         -1.4506\n",
      "pT b1:         +1.2551\n",
      "M b2 b3:       +1.0994\n",
      "dR b1 b2:      -0.8530\n",
      "M b2 b4:       +0.6779\n",
      "dR b1 b4:      -0.5674\n",
      "pT b2:         -0.5453\n",
      "pT b4:         -0.4746\n",
      "pT j2:         -0.4196\n",
      "dR b1 b3:      -0.4094\n",
      "M b3 b4:       +0.2987\n",
      "MT b4 l MET:   -0.2783\n",
      "dR b2 b4:      -0.2769\n",
      "MT b1 l MET:   -0.2403\n",
      "MT l MET:      -0.2299\n",
      "dR j1 j2:      +0.2085\n",
      "dR b4 l:       -0.1826\n",
      "dR b2 b3:      -0.1806\n",
      "MT b3 l MET:   -0.1726\n",
      "pT j1:         -0.1542\n",
      "dR b3 l:       -0.1305\n",
      "MET:           -0.0690\n",
      "pT l:          -0.0352\n",
      "dR b3 b4:      -0.0197\n",
      "sdPhi b2 b4:   -0.0141\n",
      "sdEta b3 b4:   +0.0131\n",
      "dR b2 l:       -0.0124\n",
      "sdEta b2 b4:   +0.0120\n",
      "sdPhi b2 b3:   -0.0118\n",
      "sdPhi b2 l:    -0.0117\n",
      "sdPhi b1 b2:   +0.0102\n",
      "sdEta b1 b4:   +0.0102\n",
      "dR b1 l:       +0.0032\n",
      "sdEta b1 b3:   -0.0029\n",
      "sdPhi b3 b4:   -0.0025\n",
      "sdPhi b4 l:    +0.0025\n",
      "sdEta b1 b2:   -0.0025\n",
      "sdPhi b1 b4:   -0.0021\n",
      "MT b2 l MET:   -0.0011\n",
      "sdEta b2 b3:   -0.0004\n",
      "sdPhi b1 b3:   +0.0003\n",
      "sdPhi b1 l:    +0.0003\n",
      "sdPhi b3 l:    -0.0000\n"
     ]
    }
   ],
   "source": [
    "indices = np.argsort(-np.abs(log_reg_2Tm.model[1].coef_[0]))\n",
    "coef_sort = [[DA.cols[i], log_reg_2Tm.model[1].coef_[0,i]] for i in indices]\n",
    "max_col = max([len(name) for name in DA.cols])\n",
    "for name, val in coef_sort:\n",
    "    sign = '+' if val >= 0 else '-'\n",
    "    print('{0:{1}} {3}{2:.4f}'.format(name + ':', max_col + 3, np.abs(val), sign))"
   ]
  },
  {
   "cell_type": "markdown",
   "metadata": {},
   "source": [
    "## $m_{Z'} = 4$ TeV"
   ]
  },
  {
   "cell_type": "code",
   "execution_count": 24,
   "metadata": {},
   "outputs": [],
   "source": [
    "data50_4Tm_train, data50_4Tm_test = DA.gettraintest(4)\n",
    "log_reg_4Tm = sigbg_model(\n",
    "    make_pipeline(StandardScaler(), LogisticRegression(max_iter=5000)), data50_4Tm_train, data50_4Tm_test);\n",
    "log_reg_4Tm.fit()"
   ]
  },
  {
   "cell_type": "code",
   "execution_count": 879,
   "metadata": {},
   "outputs": [
    {
     "name": "stdout",
     "output_type": "stream",
     "text": [
      "TPR: 0.992; FPR: 0.0020994\n",
      "Signal Significance @ L = 3000 fb^-1: 0.006\n",
      "3000 5.6977 0.9919132622499102 0.002099443086662126\n",
      "Mass sensitivity maximum @ L = 3000 fb^-1: 1055.26 GeV\n",
      "2.8045995432509316e-05\n",
      "Maximal significance of 0.048 @ threshold = 0.9990697002706163\n",
      "(sig. maximized with tpr = 0.977, fpr = 2.8e-05)\n",
      "3000 5.6977 0.9773012259893774 2.8045995432509316e-05\n",
      "(new mass sensitivity of 1724.76 GeV)\n"
     ]
    }
   ],
   "source": [
    "results(log_reg_4Tm, 4000)"
   ]
  },
  {
   "cell_type": "code",
   "execution_count": 252,
   "metadata": {
    "collapsed": true,
    "jupyter": {
     "outputs_hidden": true
    }
   },
   "outputs": [
    {
     "name": "stdout",
     "output_type": "stream",
     "text": [
      "pT b1:         +5.5237\n",
      "M b1 b2:       +4.9441\n",
      "M j1 j2:       -2.8888\n",
      "M b1 b3:       +1.4205\n",
      "pT b2:         +1.2497\n",
      "M b1 b4:       +1.0606\n",
      "M b2 b3:       +0.8097\n",
      "pT j2:         -0.5625\n",
      "MT b1 l MET:   +0.5530\n",
      "MT b2 l MET:   +0.5484\n",
      "pT b3:         -0.5288\n",
      "pT l:          -0.4691\n",
      "M b2 b4:       +0.4610\n",
      "MET:           -0.4015\n",
      "dR b1 b2:      -0.3401\n",
      "pT j1:         -0.2870\n",
      "MT b4 l MET:   -0.2643\n",
      "dR b1 b4:      -0.2638\n",
      "MT l MET:      -0.1739\n",
      "dR b2 b4:      -0.1570\n",
      "M b3 b4:       +0.1453\n",
      "pT b4:         +0.1407\n",
      "dR b1 b3:      -0.1382\n",
      "MT b3 l MET:   -0.1376\n",
      "dR j1 j2:      +0.0937\n",
      "dR b2 b3:      -0.0893\n",
      "dR b3 l:       -0.0663\n",
      "dR b4 l:       -0.0556\n",
      "dR b2 l:       -0.0361\n",
      "dR b1 l:       +0.0125\n",
      "sdEta b1 b3:   -0.0114\n",
      "sdPhi b2 b4:   -0.0103\n",
      "sdPhi b2 l:    -0.0091\n",
      "sdPhi b1 b2:   +0.0089\n",
      "sdEta b2 b3:   -0.0076\n",
      "dR b3 b4:      +0.0073\n",
      "sdEta b3 b4:   +0.0071\n",
      "sdPhi b3 b4:   -0.0061\n",
      "sdPhi b1 b3:   +0.0057\n",
      "sdPhi b3 l:    -0.0050\n",
      "sdPhi b2 b3:   -0.0043\n",
      "sdEta b1 b2:   -0.0032\n",
      "sdEta b1 b4:   -0.0032\n",
      "sdPhi b1 l:    +0.0013\n",
      "sdPhi b4 l:    +0.0012\n",
      "sdPhi b1 b4:   +0.0002\n",
      "sdEta b2 b4:   -0.0002\n"
     ]
    }
   ],
   "source": [
    "indices = np.argsort(-np.abs(log_reg_4Tm.model[1].coef_[0]))\n",
    "coef_sort = [[DA.cols[i], log_reg_4Tm.model[1].coef_[0,i]] for i in indices]\n",
    "max_col = max([len(name) for name in DA.cols])\n",
    "for name, val in coef_sort:\n",
    "    sign = '+' if val >= 0 else '-'\n",
    "    print('{0:{1}} {3}{2:.4f}'.format(name + ':', max_col + 3, np.abs(val), sign))"
   ]
  },
  {
   "cell_type": "markdown",
   "metadata": {},
   "source": [
    "# Noised Data"
   ]
  },
  {
   "cell_type": "code",
   "execution_count": 1121,
   "metadata": {},
   "outputs": [],
   "source": [
    "perturb = 0.1"
   ]
  },
  {
   "cell_type": "code",
   "execution_count": 1122,
   "metadata": {
    "collapsed": true,
    "jupyter": {
     "outputs_hidden": true
    }
   },
   "outputs": [
    {
     "name": "stdout",
     "output_type": "stream",
     "text": [
      "0/1499999\n",
      "75000/1499999\n",
      "150000/1499999\n",
      "225000/1499999\n",
      "300000/1499999\n",
      "375000/1499999\n",
      "450000/1499999\n",
      "525000/1499999\n",
      "600000/1499999\n",
      "675000/1499999\n",
      "750000/1499999\n",
      "825000/1499999\n",
      "900000/1499999\n",
      "975000/1499999\n",
      "1050000/1499999\n",
      "1125000/1499999\n",
      "1200000/1499999\n",
      "1275000/1499999\n",
      "1350000/1499999\n",
      "1425000/1499999\n",
      "0/500000\n",
      "75000/500000\n",
      "150000/500000\n",
      "225000/500000\n",
      "300000/500000\n",
      "375000/500000\n",
      "450000/500000\n"
     ]
    }
   ],
   "source": [
    "data50_350Gm_train, data50_350Gm_test = DA.gettraintest(0)\n",
    "\n",
    "data50_350Gm_train_noise = []\n",
    "data50_350Gm_test_noise = []\n",
    "\n",
    "for i, row in enumerate(data50_350Gm_train):\n",
    "    if i % 75000 == 0:\n",
    "        print('{}/{}'.format(i, len(data50_350Gm_train)))\n",
    "    data50_350Gm_train_noise.append(np.random.multivariate_normal(row[:-1], np.diag(np.abs(perturb * row[:-1]))))\n",
    "    \n",
    "for i, row in enumerate(data50_350Gm_test):\n",
    "    if i % 75000 == 0:\n",
    "        print('{}/{}'.format(i, len(data50_350Gm_test)))\n",
    "    data50_350Gm_test_noise.append(np.random.multivariate_normal(row[:-1], np.diag(np.abs(perturb * row[:-1]))))"
   ]
  },
  {
   "cell_type": "code",
   "execution_count": 1123,
   "metadata": {},
   "outputs": [],
   "source": [
    "data50_350Gm_train_noise = np.array(data50_350Gm_train_noise)\n",
    "data50_350Gm_test_noise = np.array(data50_350Gm_test_noise)\n",
    "data50_350Gm_train_noise = np.append(data50_350Gm_train_noise, np.reshape(data50_350Gm_train[:,-1], (-1, 1)), axis=1)\n",
    "data50_350Gm_test_noise = np.append(data50_350Gm_test_noise, np.reshape(data50_350Gm_test[:,-1], (-1, 1)), axis=1)"
   ]
  },
  {
   "cell_type": "code",
   "execution_count": 1124,
   "metadata": {
    "jupyter": {
     "source_hidden": true
    }
   },
   "outputs": [],
   "source": [
    "log_reg_350Gm_noise = sigbg_model(\n",
    "    make_pipeline(StandardScaler(), LogisticRegression()), data50_350Gm_train_noise, data50_350Gm_test_noise);\n",
    "log_reg_350Gm_noise.fit()"
   ]
  },
  {
   "cell_type": "code",
   "execution_count": 1125,
   "metadata": {
    "collapsed": true,
    "jupyter": {
     "outputs_hidden": true,
     "source_hidden": true
    }
   },
   "outputs": [
    {
     "name": "stdout",
     "output_type": "stream",
     "text": [
      "TPR: 0.858; FPR: 0.1495372\n",
      "Signal Significance @ L = 3000 fb^-1: 16.024\n",
      "Mass sensitivity maximum @ L = 3000 fb^-1: 535.55 GeV\n",
      "0.06783925638046397\n",
      "Maximal significance of 17.496 @ threshold = 0.7582240268212531\n",
      "(sig. maximized with tpr = 0.633, fpr = 0.0678393)\n",
      "(new mass sensitivity of 552.01 GeV)\n"
     ]
    }
   ],
   "source": [
    "results(log_reg_350Gm_noise, 350)"
   ]
  },
  {
   "cell_type": "code",
   "execution_count": null,
   "metadata": {
    "jupyter": {
     "source_hidden": true
    }
   },
   "outputs": [],
   "source": [
    "get_sig_bg_probs(model)"
   ]
  },
  {
   "cell_type": "code",
   "execution_count": 1127,
   "metadata": {},
   "outputs": [],
   "source": [
    "data50_500Gm_train, data50_500Gm_test = DA.gettraintest(1)\n",
    "data50_500Gm_train_noise = []\n",
    "data50_500Gm_test_noise = []\n",
    "for i, row in enumerate(data50_500Gm_train):\n",
    "    data50_500Gm_train_noise.append(np.random.multivariate_normal(row[:-1], np.diag(np.abs(perturb * row[:-1]))))\n",
    "for i, row in enumerate(data50_500Gm_test):\n",
    "    data50_500Gm_test_noise.append(np.random.multivariate_normal(row[:-1], np.diag(np.abs(perturb * row[:-1]))))\n",
    "data50_500Gm_train_noise = np.array(data50_500Gm_train_noise)\n",
    "data50_500Gm_test_noise = np.array(data50_500Gm_test_noise)\n",
    "data50_500Gm_train_noise = np.append(data50_500Gm_train_noise, np.reshape(data50_500Gm_train[:,-1], (-1, 1)), axis=1)\n",
    "data50_500Gm_test_noise = np.append(data50_500Gm_test_noise, np.reshape(data50_500Gm_test[:,-1], (-1, 1)), axis=1)"
   ]
  },
  {
   "cell_type": "code",
   "execution_count": 1128,
   "metadata": {},
   "outputs": [],
   "source": [
    "data50_1Tm_train, data50_1Tm_test = DA.gettraintest(2)\n",
    "data50_1Tm_train_noise = []\n",
    "data50_1Tm_test_noise = []\n",
    "for i, row in enumerate(data50_1Tm_train):\n",
    "    data50_1Tm_train_noise.append(np.random.multivariate_normal(row[:-1], np.diag(np.abs(perturb * row[:-1]))))\n",
    "for i, row in enumerate(data50_1Tm_test):\n",
    "    data50_1Tm_test_noise.append(np.random.multivariate_normal(row[:-1], np.diag(np.abs(perturb * row[:-1]))))\n",
    "data50_1Tm_train_noise = np.array(data50_1Tm_train_noise)\n",
    "data50_1Tm_test_noise = np.array(data50_1Tm_test_noise)\n",
    "data50_1Tm_train_noise = np.append(data50_1Tm_train_noise, np.reshape(data50_1Tm_train[:,-1], (-1, 1)), axis=1)\n",
    "data50_1Tm_test_noise = np.append(data50_1Tm_test_noise, np.reshape(data50_1Tm_test[:,-1], (-1, 1)), axis=1)"
   ]
  },
  {
   "cell_type": "code",
   "execution_count": 1130,
   "metadata": {},
   "outputs": [],
   "source": [
    "data50_2Tm_train, data50_2Tm_test = DA.gettraintest(3)\n",
    "data50_2Tm_train_noise = []\n",
    "data50_2Tm_test_noise = []\n",
    "for i, row in enumerate(data50_2Tm_train):\n",
    "    data50_2Tm_train_noise.append(np.random.multivariate_normal(row[:-1], np.diag(np.abs(perturb * row[:-1]))))\n",
    "for i, row in enumerate(data50_2Tm_test):\n",
    "    data50_2Tm_test_noise.append(np.random.multivariate_normal(row[:-1], np.diag(np.abs(perturb * row[:-1]))))\n",
    "data50_2Tm_train_noise = np.array(data50_2Tm_train_noise)\n",
    "data50_2Tm_test_noise = np.array(data50_2Tm_test_noise)\n",
    "data50_2Tm_train_noise = np.append(data50_2Tm_train_noise, np.reshape(data50_2Tm_train[:,-1], (-1, 1)), axis=1)\n",
    "data50_2Tm_test_noise = np.append(data50_2Tm_test_noise, np.reshape(data50_2Tm_test[:,-1], (-1, 1)), axis=1)"
   ]
  },
  {
   "cell_type": "code",
   "execution_count": 1133,
   "metadata": {},
   "outputs": [],
   "source": [
    "data50_4Tm_train, data50_4Tm_test = DA.gettraintest(4)\n",
    "data50_4Tm_train_noise = []\n",
    "data50_4Tm_test_noise = []\n",
    "for i, row in enumerate(data50_4Tm_train):\n",
    "    data50_4Tm_train_noise.append(np.random.multivariate_normal(row[:-1], np.diag(np.abs(perturb * row[:-1]))))\n",
    "for i, row in enumerate(data50_4Tm_test):\n",
    "    data50_4Tm_test_noise.append(np.random.multivariate_normal(row[:-1], np.diag(np.abs(perturb * row[:-1]))))\n",
    "data50_4Tm_train_noise = np.array(data50_4Tm_train_noise)\n",
    "data50_4Tm_test_noise = np.array(data50_4Tm_test_noise)\n",
    "data50_4Tm_train_noise = np.append(data50_4Tm_train_noise, np.reshape(data50_4Tm_train[:,-1], (-1, 1)), axis=1)\n",
    "data50_4Tm_test_noise = np.append(data50_4Tm_test_noise, np.reshape(data50_4Tm_test[:,-1], (-1, 1)), axis=1)"
   ]
  },
  {
   "cell_type": "code",
   "execution_count": 1134,
   "metadata": {},
   "outputs": [],
   "source": [
    "log_reg_350Gm_noise = sigbg_model(\n",
    "    make_pipeline(StandardScaler(), LogisticRegression()), data50_350Gm_train_noise, data50_350Gm_test_noise);\n",
    "log_reg_350Gm_noise.fit()"
   ]
  },
  {
   "cell_type": "code",
   "execution_count": 1135,
   "metadata": {},
   "outputs": [
    {
     "name": "stdout",
     "output_type": "stream",
     "text": [
      "TPR: 0.858; FPR: 0.1495372\n",
      "Signal Significance @ L = 3000 fb^-1: 16.024\n",
      "Mass sensitivity maximum @ L = 3000 fb^-1: 535.55 GeV\n",
      "0.06783925638046397\n",
      "Maximal significance of 17.496 @ threshold = 0.7582240268212531\n",
      "(sig. maximized with tpr = 0.633, fpr = 0.0678393)\n",
      "(new mass sensitivity of 552.01 GeV)\n"
     ]
    }
   ],
   "source": [
    "results(log_reg_350Gm_noise, 350)"
   ]
  },
  {
   "cell_type": "code",
   "execution_count": 1136,
   "metadata": {},
   "outputs": [],
   "source": [
    "log_reg_500Gm_noise = sigbg_model(\n",
    "    make_pipeline(StandardScaler(), LogisticRegression()), data50_500Gm_train_noise, data50_500Gm_test_noise);\n",
    "log_reg_500Gm_noise.fit()"
   ]
  },
  {
   "cell_type": "code",
   "execution_count": 1137,
   "metadata": {},
   "outputs": [
    {
     "name": "stdout",
     "output_type": "stream",
     "text": [
      "TPR: 0.926; FPR: 0.0918707\n",
      "Signal Significance @ L = 3000 fb^-1: 8.402\n",
      "Mass sensitivity maximum @ L = 3000 fb^-1: 595.2 GeV\n",
      "0.03793020553708081\n",
      "Maximal significance of 10.122 @ threshold = 0.8479885793697\n",
      "(sig. maximized with tpr = 0.719, fpr = 0.0379302)\n",
      "(new mass sensitivity of 632.28 GeV)\n"
     ]
    }
   ],
   "source": [
    "results(log_reg_500Gm_noise, 500)"
   ]
  },
  {
   "cell_type": "code",
   "execution_count": 1146,
   "metadata": {},
   "outputs": [],
   "source": [
    "log_reg_1Tm_noise = sigbg_model(\n",
    "    make_pipeline(StandardScaler(), LogisticRegression()), data50_1Tm_train_noise, data50_1Tm_test_noise);\n",
    "log_reg_1Tm_noise.fit()"
   ]
  },
  {
   "cell_type": "code",
   "execution_count": 1147,
   "metadata": {},
   "outputs": [
    {
     "name": "stdout",
     "output_type": "stream",
     "text": [
      "TPR: 0.987; FPR: 0.0201651\n",
      "Signal Significance @ L = 3000 fb^-1: 1.981\n",
      "Mass sensitivity maximum @ L = 3000 fb^-1: 767.79 GeV\n",
      "0.003453664008974718\n",
      "Maximal significance of 3.584 @ threshold = 0.988283599227492\n",
      "(sig. maximized with tpr = 0.743, fpr = 0.0034537)\n",
      "(new mass sensitivity of 911.25 GeV)\n"
     ]
    }
   ],
   "source": [
    "results(log_reg_1Tm_noise, 1000)"
   ]
  },
  {
   "cell_type": "code",
   "execution_count": 1148,
   "metadata": {},
   "outputs": [],
   "source": [
    "log_reg_2Tm_noise = sigbg_model(\n",
    "    make_pipeline(StandardScaler(), LogisticRegression()), data50_2Tm_train_noise, data50_2Tm_test_noise);\n",
    "log_reg_2Tm_noise.fit()"
   ]
  },
  {
   "cell_type": "code",
   "execution_count": 1149,
   "metadata": {},
   "outputs": [
    {
     "name": "stdout",
     "output_type": "stream",
     "text": [
      "TPR: 0.996; FPR: 0.0030128\n",
      "Signal Significance @ L = 3000 fb^-1: 0.268\n",
      "Mass sensitivity maximum @ L = 3000 fb^-1: 1006.67 GeV\n",
      "2.4038461538461542e-05\n",
      "Maximal significance of 1.92 @ threshold = 0.9998221005410745\n",
      "(sig. maximized with tpr = 0.669, fpr = 2.4e-05)\n",
      "(new mass sensitivity of 1611.63 GeV)\n"
     ]
    }
   ],
   "source": [
    "results(log_reg_2Tm_noise, 2000)"
   ]
  },
  {
   "cell_type": "code",
   "execution_count": 1150,
   "metadata": {},
   "outputs": [
    {
     "name": "stderr",
     "output_type": "stream",
     "text": [
      "/Users/elijahsheridan/opt/anaconda3/lib/python3.7/site-packages/sklearn/linear_model/_logistic.py:764: ConvergenceWarning: lbfgs failed to converge (status=1):\n",
      "STOP: TOTAL NO. of ITERATIONS REACHED LIMIT.\n",
      "\n",
      "Increase the number of iterations (max_iter) or scale the data as shown in:\n",
      "    https://scikit-learn.org/stable/modules/preprocessing.html\n",
      "Please also refer to the documentation for alternative solver options:\n",
      "    https://scikit-learn.org/stable/modules/linear_model.html#logistic-regression\n",
      "  extra_warning_msg=_LOGISTIC_SOLVER_CONVERGENCE_MSG)\n"
     ]
    }
   ],
   "source": [
    "log_reg_4Tm_noise = sigbg_model(\n",
    "    make_pipeline(StandardScaler(), LogisticRegression()), data50_4Tm_train_noise, data50_4Tm_test_noise);\n",
    "log_reg_4Tm_noise.fit()"
   ]
  },
  {
   "cell_type": "code",
   "execution_count": 1151,
   "metadata": {},
   "outputs": [
    {
     "name": "stdout",
     "output_type": "stream",
     "text": [
      "TPR: 0.992; FPR: 0.0021515\n",
      "Signal Significance @ L = 3000 fb^-1: 0.006\n",
      "Mass sensitivity maximum @ L = 3000 fb^-1: 1051.84 GeV\n",
      "9.215112784967345e-05\n",
      "Maximal significance of 0.027 @ threshold = 0.9894230646509026\n",
      "(sig. maximized with tpr = 0.984, fpr = 9.22e-05)\n",
      "(new mass sensitivity of 1531.91 GeV)\n"
     ]
    }
   ],
   "source": [
    "results(log_reg_4Tm_noise, 4000)"
   ]
  },
  {
   "cell_type": "code",
   "execution_count": null,
   "metadata": {},
   "outputs": [],
   "source": []
  }
 ],
 "metadata": {
  "kernelspec": {
   "display_name": "Python 3",
   "language": "python",
   "name": "python3"
  },
  "language_info": {
   "codemirror_mode": {
    "name": "ipython",
    "version": 3
   },
   "file_extension": ".py",
   "mimetype": "text/x-python",
   "name": "python",
   "nbconvert_exporter": "python",
   "pygments_lexer": "ipython3",
   "version": "3.7.4"
  }
 },
 "nbformat": 4,
 "nbformat_minor": 4
}
