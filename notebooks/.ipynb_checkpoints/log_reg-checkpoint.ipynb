{
 "cells": [
  {
   "cell_type": "code",
   "execution_count": 159,
   "metadata": {},
   "outputs": [],
   "source": [
    "from sklearn.linear_model import LogisticRegression\n",
    "from sklearn.pipeline import make_pipeline\n",
    "from sklearn.preprocessing import StandardScaler"
   ]
  },
  {
   "cell_type": "code",
   "execution_count": 80,
   "metadata": {},
   "outputs": [
    {
     "name": "stdout",
     "output_type": "stream",
     "text": [
      "Accuracy: 82.94%\n"
     ]
    }
   ],
   "source": [
    "log_reg_init_350Gm = sigbg_model(make_pipeline(StandardScaler(), LogisticRegression()), init_350Gm_train, init_350Gm_test);\n",
    "log_reg_init_350Gm.fit()\n",
    "log_reg_init_350Gm.accuracy()"
   ]
  },
  {
   "cell_type": "code",
   "execution_count": 81,
   "metadata": {},
   "outputs": [
    {
     "name": "stdout",
     "output_type": "stream",
     "text": [
      "Accuracy: 96.75%\n"
     ]
    }
   ],
   "source": [
    "log_reg_init_1Tm = sigbg_model(make_pipeline(StandardScaler(), LogisticRegression()), init_1Tm_train, init_1Tm_test);\n",
    "log_reg_init_1Tm.fit()\n",
    "log_reg_init_1Tm.accuracy()"
   ]
  },
  {
   "cell_type": "code",
   "execution_count": 82,
   "metadata": {},
   "outputs": [
    {
     "name": "stdout",
     "output_type": "stream",
     "text": [
      "Accuracy: 70.39%\n"
     ]
    }
   ],
   "source": [
    "log_reg_f350Gm = sigbg_model(make_pipeline(StandardScaler(), LogisticRegression()), f350Gm_data_train, f350Gm_data_test);\n",
    "log_reg_f350Gm.fit()\n",
    "log_reg_f350Gm.accuracy()"
   ]
  },
  {
   "cell_type": "code",
   "execution_count": 83,
   "metadata": {},
   "outputs": [
    {
     "name": "stdout",
     "output_type": "stream",
     "text": [
      "Accuracy: 94.54%\n"
     ]
    }
   ],
   "source": [
    "log_reg_f1Tm = sigbg_model(make_pipeline(StandardScaler(), LogisticRegression()), f1Tm_data_train, f1Tm_data_test);\n",
    "log_reg_f1Tm.fit()\n",
    "log_reg_f1Tm.accuracy()"
   ]
  },
  {
   "cell_type": "code",
   "execution_count": 84,
   "metadata": {},
   "outputs": [
    {
     "name": "stdout",
     "output_type": "stream",
     "text": [
      "Accuracy: 98.05%\n"
     ]
    }
   ],
   "source": [
    "log_reg_f1p5Tm = sigbg_model(make_pipeline(StandardScaler(), LogisticRegression()), f1p5Tm_data_train, f1p5Tm_data_test);\n",
    "log_reg_f1p5Tm.fit()\n",
    "log_reg_f1p5Tm.accuracy()"
   ]
  },
  {
   "cell_type": "code",
   "execution_count": 85,
   "metadata": {},
   "outputs": [
    {
     "name": "stdout",
     "output_type": "stream",
     "text": [
      "Accuracy: 99.11%\n"
     ]
    }
   ],
   "source": [
    "log_reg_f2Tm = sigbg_model(make_pipeline(StandardScaler(), LogisticRegression()), f2Tm_data_train, f2Tm_data_test);\n",
    "log_reg_f2Tm.fit()\n",
    "log_reg_f2Tm.accuracy()"
   ]
  },
  {
   "cell_type": "code",
   "execution_count": 155,
   "metadata": {},
   "outputs": [],
   "source": [
    "log_reg_init_350Gm = refresh_model(log_reg_init_350Gm)\n",
    "log_reg_init_1Tm = refresh_model(log_reg_init_1Tm)\n",
    "log_reg_f350Gm = refresh_model(log_reg_f350Gm)\n",
    "log_reg_f1Tm = refresh_model(log_reg_f1Tm)\n",
    "log_reg_f1p5Tm = refresh_model(log_reg_f1p5Tm)\n",
    "log_reg_f2Tm = refresh_model(log_reg_f2Tm)"
   ]
  },
  {
   "cell_type": "code",
   "execution_count": 154,
   "metadata": {
    "collapsed": true,
    "jupyter": {
     "outputs_hidden": true
    }
   },
   "outputs": [
    {
     "name": "stdout",
     "output_type": "stream",
     "text": [
      "[[41.3976  8.5444]\n",
      " [ 8.5204 41.5376]]\n",
      "[[48.5582  1.8916]\n",
      " [ 1.3598 48.1904]]\n",
      "[[37.6792 17.374 ]\n",
      " [12.2388 32.708 ]]\n",
      "[[46.1394  1.6764]\n",
      " [ 3.7786 48.4056]]\n",
      "[[48.5644  0.5924]\n",
      " [ 1.3536 49.4896]]\n",
      "[[49.3748  0.3458]\n",
      " [ 0.5432 49.7362]]\n"
     ]
    }
   ],
   "source": [
    "for model in [log_reg_init_350Gm, \n",
    "              log_reg_init_1Tm,\n",
    "              log_reg_f350Gm,\n",
    "              log_reg_f1Tm,\n",
    "              log_reg_f1p5Tm,\n",
    "              log_reg_f2Tm]:\n",
    "    print(model.confusion_matrix())"
   ]
  },
  {
   "cell_type": "code",
   "execution_count": 135,
   "metadata": {},
   "outputs": [],
   "source": [
    "path = '../models/log_reg/'\n",
    "for name, model in zip([path + name for name in \n",
    "                        ['log_reg_init_350Gm', \n",
    "                        'log_reg_init_1Tm',\n",
    "                        'log_reg_f350Gm',\n",
    "                        'log_reg_f1Tm',\n",
    "                        'log_reg_f1p5Tm',\n",
    "                        'log_reg_f2Tm']],\n",
    "                       [log_reg_init_350Gm, \n",
    "                        log_reg_init_1Tm,\n",
    "                        log_reg_f350Gm,\n",
    "                        log_reg_f1Tm,\n",
    "                        log_reg_f1p5Tm,\n",
    "                        log_reg_f2Tm]):\n",
    "    model.save_model(name)"
   ]
  },
  {
   "cell_type": "code",
   "execution_count": null,
   "metadata": {},
   "outputs": [],
   "source": []
  }
 ],
 "metadata": {
  "kernelspec": {
   "display_name": "Python 3",
   "language": "python",
   "name": "python3"
  },
  "language_info": {
   "codemirror_mode": {
    "name": "ipython",
    "version": 3
   },
   "file_extension": ".py",
   "mimetype": "text/x-python",
   "name": "python",
   "nbconvert_exporter": "python",
   "pygments_lexer": "ipython3",
   "version": "3.7.4"
  }
 },
 "nbformat": 4,
 "nbformat_minor": 5
}
