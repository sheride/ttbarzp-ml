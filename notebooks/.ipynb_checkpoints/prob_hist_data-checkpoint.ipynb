{
 "cells": [
  {
   "cell_type": "code",
   "execution_count": 77,
   "metadata": {},
   "outputs": [],
   "source": [
    "def get_sig_bg_probs(model):\n",
    "    sig_test = model.test_pred[(model.test_label == 1)]\n",
    "    bg_test = model.test_pred[(model.test_label == 0)]\n",
    "    return [model.model.predict_proba(sig_test)[:,1], \n",
    "            model.model.predict_proba(bg_test)[:,1]]"
   ]
  },
  {
   "cell_type": "code",
   "execution_count": 75,
   "metadata": {},
   "outputs": [],
   "source": [
    "logreg_models = [log_reg_350Gm, log_reg_500Gm, log_reg_1Tm, log_reg_2Tm, log_reg_4Tm]\n",
    "randforest_models = [randforest_350Gm, randforest_500Gm, randforest_1Tm, randforest_2Tm, randforest_4Tm]\n",
    "gradboost_models = [xgradboost_350Gm, xgradboost_500Gm, xgradboost_1Tm, xgradboost_2Tm, xgradboost_4Tm]\n",
    "logreg_noise_models = [\n",
    "    log_reg_350Gm_noise, log_reg_500Gm_noise, log_reg_1Tm_noise, log_reg_2Tm_noise, log_reg_4Tm_noise]\n",
    "gradboost_noise_models = [\n",
    "    xgradboost_350Gm_noise, xgradboost_500Gm_noise, xgradboost_1Tm_noise, xgradboost_2Tm_noise, xgradboost_4Tm_noise]"
   ]
  },
  {
   "cell_type": "code",
   "execution_count": 78,
   "metadata": {
    "collapsed": true,
    "jupyter": {
     "outputs_hidden": true
    }
   },
   "outputs": [
    {
     "ename": "NameError",
     "evalue": "name 'logreg_models_noise' is not defined",
     "output_type": "error",
     "traceback": [
      "\u001b[0;31m---------------------------------------------------------------------------\u001b[0m",
      "\u001b[0;31mNameError\u001b[0m                                 Traceback (most recent call last)",
      "\u001b[0;32m<ipython-input-78-02adf5141b45>\u001b[0m in \u001b[0;36m<module>\u001b[0;34m\u001b[0m\n\u001b[1;32m      2\u001b[0m \u001b[0mrandforest_sig_bg_probs\u001b[0m \u001b[0;34m=\u001b[0m \u001b[0;34m[\u001b[0m\u001b[0mget_sig_bg_probs\u001b[0m\u001b[0;34m(\u001b[0m\u001b[0mmodel\u001b[0m\u001b[0;34m)\u001b[0m \u001b[0;32mfor\u001b[0m \u001b[0mmodel\u001b[0m \u001b[0;32min\u001b[0m \u001b[0mrandforest_models\u001b[0m\u001b[0;34m]\u001b[0m\u001b[0;34m\u001b[0m\u001b[0;34m\u001b[0m\u001b[0m\n\u001b[1;32m      3\u001b[0m \u001b[0mgradboost_sig_bg_probs\u001b[0m \u001b[0;34m=\u001b[0m \u001b[0;34m[\u001b[0m\u001b[0mget_sig_bg_probs\u001b[0m\u001b[0;34m(\u001b[0m\u001b[0mmodel\u001b[0m\u001b[0;34m)\u001b[0m \u001b[0;32mfor\u001b[0m \u001b[0mmodel\u001b[0m \u001b[0;32min\u001b[0m \u001b[0mgradboost_models\u001b[0m\u001b[0;34m]\u001b[0m\u001b[0;34m\u001b[0m\u001b[0;34m\u001b[0m\u001b[0m\n\u001b[0;32m----> 4\u001b[0;31m \u001b[0mlogreg_noise_sig_bg_probs\u001b[0m \u001b[0;34m=\u001b[0m \u001b[0;34m[\u001b[0m\u001b[0mget_sig_bg_probs\u001b[0m\u001b[0;34m(\u001b[0m\u001b[0mmodel\u001b[0m\u001b[0;34m)\u001b[0m \u001b[0;32mfor\u001b[0m \u001b[0mmodel\u001b[0m \u001b[0;32min\u001b[0m \u001b[0mlogreg_models_noise\u001b[0m\u001b[0;34m]\u001b[0m\u001b[0;34m\u001b[0m\u001b[0;34m\u001b[0m\u001b[0m\n\u001b[0m\u001b[1;32m      5\u001b[0m \u001b[0mgradboost_noise_sig_bg_probs\u001b[0m \u001b[0;34m=\u001b[0m \u001b[0;34m[\u001b[0m\u001b[0mget_sig_bg_probs\u001b[0m\u001b[0;34m(\u001b[0m\u001b[0mmodel\u001b[0m\u001b[0;34m)\u001b[0m \u001b[0;32mfor\u001b[0m \u001b[0mmodel\u001b[0m \u001b[0;32min\u001b[0m \u001b[0mgradboost_noise_models\u001b[0m\u001b[0;34m]\u001b[0m\u001b[0;34m\u001b[0m\u001b[0;34m\u001b[0m\u001b[0m\n",
      "\u001b[0;31mNameError\u001b[0m: name 'logreg_models_noise' is not defined"
     ]
    }
   ],
   "source": [
    "logreg_sig_bg_probs = [get_sig_bg_probs(model) for model in logreg_models]\n",
    "randforest_sig_bg_probs = [get_sig_bg_probs(model) for model in randforest_models]\n",
    "gradboost_sig_bg_probs = [get_sig_bg_probs(model) for model in gradboost_models]"
   ]
  },
  {
   "cell_type": "code",
   "execution_count": 80,
   "metadata": {},
   "outputs": [],
   "source": [
    "logreg_noise_sig_bg_probs = [get_sig_bg_probs(model) for model in logreg_noise_models]\n",
    "gradboost_noise_sig_bg_probs = [get_sig_bg_probs(model) for model in gradboost_noise_models]"
   ]
  },
  {
   "cell_type": "code",
   "execution_count": 87,
   "metadata": {},
   "outputs": [],
   "source": [
    "masses = [350, 500, 1000, 2000, 4000]\n",
    "labels = ['Signal', 'Background']\n",
    "all_sig_bg_probs = logreg_sig_bg_probs + randforest_sig_bg_probs + gradboost_sig_bg_probs \\\n",
    "    + logreg_noise_sig_bg_probs + gradboost_noise_sig_bg_probs\n",
    "all_names = [\"Logistic Regression (m_Z' = {}) - {}\".format(m, label) for m in masses for label in labels] + \\\n",
    "    [\"Random Forest (m_Z' = {})\".format(m) for m in masses for label in labels] + \\\n",
    "    [\"Gradient Boosting (m_Z' = {})\".format(m) for m in masses for label in labels] + \\\n",
    "    [\"Logistic Regression (m_Z' = {}, smeared data)\".format(m) for m in masses for label in labels] + \\\n",
    "    [\"Gradient Boosting (m_Z' = {}, smeared data)\".format(m) for m in masses for label in labels]"
   ]
  },
  {
   "cell_type": "code",
   "execution_count": 85,
   "metadata": {},
   "outputs": [
    {
     "name": "stdout",
     "output_type": "stream",
     "text": [
      "25 25\n"
     ]
    }
   ],
   "source": [
    "print(len(all_sig_bg_probs), len(all_names))"
   ]
  },
  {
   "cell_type": "code",
   "execution_count": 86,
   "metadata": {},
   "outputs": [],
   "source": [
    "import pandas as pd"
   ]
  },
  {
   "cell_type": "code",
   "execution_count": null,
   "metadata": {},
   "outputs": [],
   "source": [
    "num_binss = [50, 100, 200]\n",
    "dfs = [pd.DataFrame(columns=all_names) for n in num_binss]\n",
    "bin_edges = []\n",
    "\n",
    "for num_bins, df in zip(num_binss, dfs):\n",
    "    for i, (sig, bg), name in enumerate(all_sig_bg_probs):\n",
    "        df[all_names[i*2]] = np.histogram(sig, bins=num_bins) * sig_cs[]\n",
    "        df[all_names[i*2+1]] = np.histogram(sig, bins=num_bins) * \n",
    "    df.to_csv('./csvs/hist_data_{}bins'.format(num_bins))"
   ]
  }
 ],
 "metadata": {
  "kernelspec": {
   "display_name": "Python 3",
   "language": "python",
   "name": "python3"
  },
  "language_info": {
   "codemirror_mode": {
    "name": "ipython",
    "version": 3
   },
   "file_extension": ".py",
   "mimetype": "text/x-python",
   "name": "python",
   "nbconvert_exporter": "python",
   "pygments_lexer": "ipython3",
   "version": "3.7.4"
  }
 },
 "nbformat": 4,
 "nbformat_minor": 4
}
