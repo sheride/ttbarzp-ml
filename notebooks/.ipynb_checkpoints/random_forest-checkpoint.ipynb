{
 "cells": [
  {
   "cell_type": "code",
   "execution_count": 50,
   "metadata": {},
   "outputs": [],
   "source": [
    "from sklearn.ensemble import RandomForestClassifier"
   ]
  },
  {
   "cell_type": "code",
   "execution_count": 890,
   "metadata": {},
   "outputs": [],
   "source": [
    "randforest_350Gm = refresh_model(randforest_350Gm)\n",
    "randforest_500Gm = refresh_model(randforest_500Gm)\n",
    "randforest_1Tm = refresh_model(randforest_1Tm)\n",
    "randforest_2Tm = refresh_model(randforest_2Tm)\n",
    "randforest_4Tm = refresh_model(randforest_4Tm)\n",
    "randforest_models = [randforest_350Gm, randforest_500Gm, randforest_1Tm, randforest_2Tm, randforest_4Tm]"
   ]
  },
  {
   "cell_type": "markdown",
   "metadata": {},
   "source": [
    "# Unedited 47-dim data "
   ]
  },
  {
   "cell_type": "markdown",
   "metadata": {},
   "source": [
    "## $m_{Z'} = 350$ GeV"
   ]
  },
  {
   "cell_type": "code",
   "execution_count": null,
   "metadata": {},
   "outputs": [],
   "source": [
    "data50_350Gm_train, data50_350Gm_test = DA.gettraintest(0)\n",
    "randforest_350Gm = sigbg_model(\n",
    "    make_pipeline(StandardScaler(), RandomForestClassifier(n_jobs=-1)), data50_350Gm_train, data50_350Gm_test);\n",
    "randforest_350Gm.fit()"
   ]
  },
  {
   "cell_type": "code",
   "execution_count": 884,
   "metadata": {
    "collapsed": true,
    "jupyter": {
     "outputs_hidden": true
    }
   },
   "outputs": [
    {
     "name": "stderr",
     "output_type": "stream",
     "text": [
      "[Parallel(n_jobs=4)]: Using backend ThreadingBackend with 4 concurrent workers.\n",
      "[Parallel(n_jobs=4)]: Done  42 tasks      | elapsed:    4.5s\n",
      "[Parallel(n_jobs=4)]: Done 100 out of 100 | elapsed:   10.5s finished\n",
      "[Parallel(n_jobs=4)]: Using backend ThreadingBackend with 4 concurrent workers.\n",
      "[Parallel(n_jobs=4)]: Done  42 tasks      | elapsed:    4.2s\n",
      "[Parallel(n_jobs=4)]: Done 100 out of 100 | elapsed:    8.8s finished\n"
     ]
    },
    {
     "name": "stdout",
     "output_type": "stream",
     "text": [
      "TPR: 0.963; FPR: 0.0662406\n"
     ]
    },
    {
     "name": "stderr",
     "output_type": "stream",
     "text": [
      "[Parallel(n_jobs=4)]: Using backend ThreadingBackend with 4 concurrent workers.\n",
      "[Parallel(n_jobs=4)]: Done  42 tasks      | elapsed:    3.2s\n",
      "[Parallel(n_jobs=4)]: Done 100 out of 100 | elapsed:    8.4s finished\n",
      "[Parallel(n_jobs=4)]: Using backend ThreadingBackend with 4 concurrent workers.\n",
      "[Parallel(n_jobs=4)]: Done  42 tasks      | elapsed:    3.7s\n",
      "[Parallel(n_jobs=4)]: Done 100 out of 100 | elapsed:    8.9s finished\n",
      "[Parallel(n_jobs=4)]: Using backend ThreadingBackend with 4 concurrent workers.\n",
      "[Parallel(n_jobs=4)]: Done  42 tasks      | elapsed:    3.2s\n",
      "[Parallel(n_jobs=4)]: Done 100 out of 100 | elapsed:    7.9s finished\n"
     ]
    },
    {
     "name": "stdout",
     "output_type": "stream",
     "text": [
      "Signal Significance @ L = 3000 fb^-1: 26.809\n"
     ]
    },
    {
     "name": "stderr",
     "output_type": "stream",
     "text": [
      "[Parallel(n_jobs=4)]: Using backend ThreadingBackend with 4 concurrent workers.\n",
      "[Parallel(n_jobs=4)]: Done  42 tasks      | elapsed:    3.8s\n",
      "[Parallel(n_jobs=4)]: Done 100 out of 100 | elapsed:    7.6s finished\n",
      "[Parallel(n_jobs=4)]: Using backend ThreadingBackend with 4 concurrent workers.\n",
      "[Parallel(n_jobs=4)]: Done  42 tasks      | elapsed:    3.1s\n",
      "[Parallel(n_jobs=4)]: Done 100 out of 100 | elapsed:    8.5s finished\n"
     ]
    },
    {
     "name": "stdout",
     "output_type": "stream",
     "text": [
      "3000 5.6977 0.9631324627610718 0.06624063464081092\n",
      "Mass sensitivity maximum @ L = 3000 fb^-1: 635.15 GeV\n"
     ]
    },
    {
     "name": "stderr",
     "output_type": "stream",
     "text": [
      "[Parallel(n_jobs=4)]: Using backend ThreadingBackend with 4 concurrent workers.\n",
      "[Parallel(n_jobs=4)]: Done  42 tasks      | elapsed:    3.8s\n",
      "[Parallel(n_jobs=4)]: Done 100 out of 100 | elapsed:    8.3s finished\n"
     ]
    },
    {
     "name": "stdout",
     "output_type": "stream",
     "text": [
      "0.0019952722464842343\n",
      "Maximal significance of 60.179 @ threshold = 0.9570508148330872\n",
      "(sig. maximized with tpr = 0.436, fpr = 0.0019953)\n",
      "3000 5.6977 0.4357893055389162 0.0019952722464842343\n",
      "(new mass sensitivity of 845.67 GeV)\n"
     ]
    }
   ],
   "source": [
    "results(randforest_350Gm, 350)"
   ]
  },
  {
   "cell_type": "code",
   "execution_count": 268,
   "metadata": {
    "collapsed": true,
    "jupyter": {
     "outputs_hidden": true
    }
   },
   "outputs": [
    {
     "name": "stdout",
     "output_type": "stream",
     "text": [
      "M b1 b2:       0.1546\n",
      "M j1 j2:       0.1022\n",
      "pT b1:         0.0878\n",
      "M b1 b3:       0.0672\n",
      "pT b2:         0.0643\n",
      "M b1 b4:       0.0599\n",
      "pT b3:         0.0368\n",
      "M b2 b4:       0.0327\n",
      "M b2 b3:       0.0316\n",
      "pT j2:         0.0283\n",
      "M b3 b4:       0.0276\n",
      "pT b4:         0.0262\n",
      "MT b1 l MET:   0.0250\n",
      "MT l MET:      0.0214\n",
      "dR j1 j2:      0.0186\n",
      "dR b1 b2:      0.0166\n",
      "MT b4 l MET:   0.0135\n",
      "dR b1 b3:      0.0111\n",
      "MT b2 l MET:   0.0109\n",
      "MT b3 l MET:   0.0100\n",
      "dR b1 b4:      0.0096\n",
      "sdEta b1 b2:   0.0083\n",
      "pT j1:         0.0081\n",
      "dR b2 b3:      0.0079\n",
      "dR b2 b4:      0.0072\n",
      "sdEta b1 b3:   0.0072\n",
      "dR b4 l:       0.0069\n",
      "dR b1 l:       0.0068\n",
      "dR b3 b4:      0.0066\n",
      "sdEta b1 b4:   0.0059\n",
      "sdEta b2 b3:   0.0055\n",
      "dR b2 l:       0.0055\n",
      "MET:           0.0054\n",
      "pT l:          0.0053\n",
      "sdEta b2 b4:   0.0053\n",
      "dR b3 l:       0.0052\n",
      "sdEta b3 b4:   0.0050\n",
      "sdPhi b1 b2:   0.0043\n",
      "sdPhi b1 b4:   0.0043\n",
      "sdPhi b1 b3:   0.0043\n",
      "sdPhi b1 l:    0.0042\n",
      "sdPhi b2 b4:   0.0042\n",
      "sdPhi b2 b3:   0.0042\n",
      "sdPhi b3 b4:   0.0042\n",
      "sdPhi b2 l:    0.0042\n",
      "sdPhi b3 l:    0.0041\n",
      "sdPhi b4 l:    0.0041\n"
     ]
    }
   ],
   "source": [
    "indices = np.argsort(-np.abs(randforest_350Gm.model[1].feature_importances_))\n",
    "coef_sort = [[DA.cols[i], randforest_350Gm.model[1].feature_importances_[i]] for i in indices]\n",
    "max_col = max([len(name) for name in DA.cols])\n",
    "for name, val in coef_sort:\n",
    "    sign = '+' if val >= 0 else '-'\n",
    "    print('{0:{1}} {2:.4f}'.format(name + ':', max_col + 3, val))"
   ]
  },
  {
   "cell_type": "markdown",
   "metadata": {},
   "source": [
    "## $m_{Z'} = 500$ GeV"
   ]
  },
  {
   "cell_type": "code",
   "execution_count": null,
   "metadata": {},
   "outputs": [],
   "source": [
    "data50_500Gm_train, data50_500Gm_test = DA.gettraintest(1)\n",
    "randforest_500Gm = sigbg_model(\n",
    "    make_pipeline(StandardScaler(), RandomForestClassifier(n_jobs=-1)), data50_500Gm_train, data50_500Gm_test);\n",
    "randforest_500Gm.fit()"
   ]
  },
  {
   "cell_type": "code",
   "execution_count": 886,
   "metadata": {
    "collapsed": true,
    "jupyter": {
     "outputs_hidden": true
    }
   },
   "outputs": [
    {
     "name": "stderr",
     "output_type": "stream",
     "text": [
      "[Parallel(n_jobs=4)]: Using backend ThreadingBackend with 4 concurrent workers.\n",
      "[Parallel(n_jobs=4)]: Done  42 tasks      | elapsed:    3.3s\n",
      "[Parallel(n_jobs=4)]: Done 100 out of 100 | elapsed:    7.3s finished\n",
      "[Parallel(n_jobs=4)]: Using backend ThreadingBackend with 4 concurrent workers.\n",
      "[Parallel(n_jobs=4)]: Done  42 tasks      | elapsed:    2.5s\n",
      "[Parallel(n_jobs=4)]: Done 100 out of 100 | elapsed:    5.8s finished\n"
     ]
    },
    {
     "name": "stdout",
     "output_type": "stream",
     "text": [
      "TPR: 0.979; FPR: 0.0403101\n"
     ]
    },
    {
     "name": "stderr",
     "output_type": "stream",
     "text": [
      "[Parallel(n_jobs=4)]: Using backend ThreadingBackend with 4 concurrent workers.\n",
      "[Parallel(n_jobs=4)]: Done  42 tasks      | elapsed:    2.4s\n",
      "[Parallel(n_jobs=4)]: Done 100 out of 100 | elapsed:    6.8s finished\n",
      "[Parallel(n_jobs=4)]: Using backend ThreadingBackend with 4 concurrent workers.\n",
      "[Parallel(n_jobs=4)]: Done  42 tasks      | elapsed:    2.8s\n",
      "[Parallel(n_jobs=4)]: Done 100 out of 100 | elapsed:    7.1s finished\n",
      "[Parallel(n_jobs=4)]: Using backend ThreadingBackend with 4 concurrent workers.\n",
      "[Parallel(n_jobs=4)]: Done  42 tasks      | elapsed:    2.9s\n",
      "[Parallel(n_jobs=4)]: Done 100 out of 100 | elapsed:    7.1s finished\n"
     ]
    },
    {
     "name": "stdout",
     "output_type": "stream",
     "text": [
      "Signal Significance @ L = 3000 fb^-1: 13.345\n"
     ]
    },
    {
     "name": "stderr",
     "output_type": "stream",
     "text": [
      "[Parallel(n_jobs=4)]: Using backend ThreadingBackend with 4 concurrent workers.\n",
      "[Parallel(n_jobs=4)]: Done  42 tasks      | elapsed:    3.1s\n",
      "[Parallel(n_jobs=4)]: Done 100 out of 100 | elapsed:    6.6s finished\n",
      "[Parallel(n_jobs=4)]: Using backend ThreadingBackend with 4 concurrent workers.\n",
      "[Parallel(n_jobs=4)]: Done  42 tasks      | elapsed:    3.5s\n",
      "[Parallel(n_jobs=4)]: Done 100 out of 100 | elapsed:    7.6s finished\n"
     ]
    },
    {
     "name": "stdout",
     "output_type": "stream",
     "text": [
      "3000 5.6977 0.9790303901601375 0.040310108578068035\n",
      "Mass sensitivity maximum @ L = 3000 fb^-1: 689.89 GeV\n"
     ]
    },
    {
     "name": "stderr",
     "output_type": "stream",
     "text": [
      "[Parallel(n_jobs=4)]: Using backend ThreadingBackend with 4 concurrent workers.\n",
      "[Parallel(n_jobs=4)]: Done  42 tasks      | elapsed:    3.0s\n",
      "[Parallel(n_jobs=4)]: Done 100 out of 100 | elapsed:    7.0s finished\n"
     ]
    },
    {
     "name": "stdout",
     "output_type": "stream",
     "text": [
      "0.00135021435153652\n",
      "Maximal significance of 39.44 @ threshold = 0.9626114558389219\n",
      "(sig. maximized with tpr = 0.598, fpr = 0.0013502)\n",
      "3000 5.6977 0.5979034383610878 0.00135021435153652\n",
      "(new mass sensitivity of 975.77 GeV)\n"
     ]
    }
   ],
   "source": [
    "results(randforest_500Gm, 500)"
   ]
  },
  {
   "cell_type": "code",
   "execution_count": 269,
   "metadata": {
    "collapsed": true,
    "jupyter": {
     "outputs_hidden": true
    }
   },
   "outputs": [
    {
     "name": "stdout",
     "output_type": "stream",
     "text": [
      "M b1 b2:       0.1929\n",
      "pT b1:         0.1232\n",
      "pT b2:         0.1111\n",
      "M b1 b3:       0.0971\n",
      "M j1 j2:       0.0765\n",
      "M b1 b4:       0.0470\n",
      "M b2 b3:       0.0374\n",
      "pT b3:         0.0318\n",
      "MT b1 l MET:   0.0269\n",
      "M b2 b4:       0.0235\n",
      "pT j2:         0.0205\n",
      "M b3 b4:       0.0181\n",
      "pT b4:         0.0159\n",
      "dR b1 b2:      0.0151\n",
      "MT l MET:      0.0150\n",
      "dR j1 j2:      0.0130\n",
      "MT b2 l MET:   0.0116\n",
      "dR b1 b3:      0.0085\n",
      "MT b4 l MET:   0.0085\n",
      "sdEta b1 b2:   0.0074\n",
      "MT b3 l MET:   0.0070\n",
      "dR b1 b4:      0.0059\n",
      "dR b2 b3:      0.0056\n",
      "sdEta b1 b3:   0.0053\n",
      "pT j1:         0.0051\n",
      "dR b2 b4:      0.0050\n",
      "dR b1 l:       0.0048\n",
      "dR b3 b4:      0.0042\n",
      "dR b4 l:       0.0041\n",
      "sdEta b1 b4:   0.0039\n",
      "sdEta b2 b3:   0.0037\n",
      "dR b2 l:       0.0036\n",
      "dR b3 l:       0.0033\n",
      "pT l:          0.0033\n",
      "MET:           0.0033\n",
      "sdEta b2 b4:   0.0033\n",
      "sdEta b3 b4:   0.0030\n",
      "sdPhi b1 b2:   0.0026\n",
      "sdPhi b2 b3:   0.0026\n",
      "sdPhi b1 b4:   0.0025\n",
      "sdPhi b1 b3:   0.0025\n",
      "sdPhi b1 l:    0.0025\n",
      "sdPhi b2 l:    0.0024\n",
      "sdPhi b2 b4:   0.0024\n",
      "sdPhi b3 b4:   0.0024\n",
      "sdPhi b4 l:    0.0024\n",
      "sdPhi b3 l:    0.0024\n"
     ]
    }
   ],
   "source": [
    "indices = np.argsort(-np.abs(randforest_500Gm.model[1].feature_importances_))\n",
    "coef_sort = [[DA.cols[i], randforest_500Gm.model[1].feature_importances_[i]] for i in indices]\n",
    "max_col = max([len(name) for name in DA.cols])\n",
    "for name, val in coef_sort:\n",
    "    sign = '+' if val >= 0 else '-'\n",
    "    print('{0:{1}} {2:.4f}'.format(name + ':', max_col + 3, val))"
   ]
  },
  {
   "cell_type": "markdown",
   "metadata": {},
   "source": [
    "## $m_{Z'} = 1$ TeV"
   ]
  },
  {
   "cell_type": "code",
   "execution_count": null,
   "metadata": {},
   "outputs": [],
   "source": [
    "data50_1Tm_train, data50_1Tm_test = DA.gettraintest(2)\n",
    "randforest_1Tm = sigbg_model(\n",
    "    make_pipeline(StandardScaler(), RandomForestClassifier(n_jobs=-1)), data50_1Tm_train, data50_1Tm_test);\n",
    "randforest_1Tm.fit()"
   ]
  },
  {
   "cell_type": "code",
   "execution_count": 891,
   "metadata": {
    "collapsed": true,
    "jupyter": {
     "outputs_hidden": true
    }
   },
   "outputs": [
    {
     "name": "stderr",
     "output_type": "stream",
     "text": [
      "[Parallel(n_jobs=4)]: Using backend ThreadingBackend with 4 concurrent workers.\n",
      "[Parallel(n_jobs=4)]: Done  42 tasks      | elapsed:    1.7s\n",
      "[Parallel(n_jobs=4)]: Done 100 out of 100 | elapsed:    4.3s finished\n",
      "[Parallel(n_jobs=4)]: Using backend ThreadingBackend with 4 concurrent workers.\n",
      "[Parallel(n_jobs=4)]: Done  42 tasks      | elapsed:    2.1s\n",
      "[Parallel(n_jobs=4)]: Done 100 out of 100 | elapsed:    4.8s finished\n"
     ]
    },
    {
     "name": "stdout",
     "output_type": "stream",
     "text": [
      "TPR: 0.994; FPR: 0.0087704\n"
     ]
    },
    {
     "name": "stderr",
     "output_type": "stream",
     "text": [
      "[Parallel(n_jobs=4)]: Using backend ThreadingBackend with 4 concurrent workers.\n",
      "[Parallel(n_jobs=4)]: Done  42 tasks      | elapsed:    1.9s\n",
      "[Parallel(n_jobs=4)]: Done 100 out of 100 | elapsed:    4.4s finished\n",
      "[Parallel(n_jobs=4)]: Using backend ThreadingBackend with 4 concurrent workers.\n",
      "[Parallel(n_jobs=4)]: Done  42 tasks      | elapsed:    2.0s\n",
      "[Parallel(n_jobs=4)]: Done 100 out of 100 | elapsed:    4.5s finished\n",
      "[Parallel(n_jobs=4)]: Using backend ThreadingBackend with 4 concurrent workers.\n",
      "[Parallel(n_jobs=4)]: Done  42 tasks      | elapsed:    1.7s\n",
      "[Parallel(n_jobs=4)]: Done 100 out of 100 | elapsed:    3.9s finished\n"
     ]
    },
    {
     "name": "stdout",
     "output_type": "stream",
     "text": [
      "Signal Significance @ L = 3000 fb^-1: 3.019\n"
     ]
    },
    {
     "name": "stderr",
     "output_type": "stream",
     "text": [
      "[Parallel(n_jobs=4)]: Using backend ThreadingBackend with 4 concurrent workers.\n",
      "[Parallel(n_jobs=4)]: Done  42 tasks      | elapsed:    1.7s\n",
      "[Parallel(n_jobs=4)]: Done 100 out of 100 | elapsed:    3.9s finished\n",
      "[Parallel(n_jobs=4)]: Using backend ThreadingBackend with 4 concurrent workers.\n",
      "[Parallel(n_jobs=4)]: Done  42 tasks      | elapsed:    1.7s\n",
      "[Parallel(n_jobs=4)]: Done 100 out of 100 | elapsed:    3.7s finished\n"
     ]
    },
    {
     "name": "stdout",
     "output_type": "stream",
     "text": [
      "Mass sensitivity maximum @ L = 3000 fb^-1: 868.08 GeV\n"
     ]
    },
    {
     "name": "stderr",
     "output_type": "stream",
     "text": [
      "[Parallel(n_jobs=4)]: Using backend ThreadingBackend with 4 concurrent workers.\n",
      "[Parallel(n_jobs=4)]: Done  42 tasks      | elapsed:    1.9s\n",
      "[Parallel(n_jobs=4)]: Done 100 out of 100 | elapsed:    4.0s finished\n"
     ]
    },
    {
     "name": "stdout",
     "output_type": "stream",
     "text": [
      "0.00014423654793861934\n",
      "Maximal significance of 14.359 @ threshold = 0.9940878713351462\n",
      "(sig. maximized with tpr = 0.697, fpr = 0.0001442)\n",
      "(new mass sensitivity of 1344.47 GeV)\n"
     ]
    }
   ],
   "source": [
    "results(randforest_1Tm, 1000)"
   ]
  },
  {
   "cell_type": "code",
   "execution_count": 270,
   "metadata": {
    "collapsed": true,
    "jupyter": {
     "outputs_hidden": true
    }
   },
   "outputs": [
    {
     "name": "stdout",
     "output_type": "stream",
     "text": [
      "M b1 b2:       0.2356\n",
      "pT b1:         0.1890\n",
      "pT b2:         0.1274\n",
      "M b1 b3:       0.0781\n",
      "pT b3:         0.0504\n",
      "MT b1 l MET:   0.0479\n",
      "M b1 b4:       0.0441\n",
      "M b2 b3:       0.0431\n",
      "M j1 j2:       0.0388\n",
      "M b2 b4:       0.0279\n",
      "MT b2 l MET:   0.0173\n",
      "dR b1 b2:      0.0114\n",
      "pT b4:         0.0110\n",
      "M b3 b4:       0.0103\n",
      "MT l MET:      0.0056\n",
      "dR b1 b3:      0.0056\n",
      "pT j2:         0.0056\n",
      "sdEta b1 b2:   0.0050\n",
      "MT b4 l MET:   0.0043\n",
      "dR j1 j2:      0.0037\n",
      "dR b2 b3:      0.0034\n",
      "MT b3 l MET:   0.0033\n",
      "dR b1 b4:      0.0032\n",
      "sdEta b1 b3:   0.0028\n",
      "dR b4 l:       0.0020\n",
      "dR b2 b4:      0.0020\n",
      "dR b1 l:       0.0019\n",
      "sdEta b2 b3:   0.0016\n",
      "sdEta b1 b4:   0.0016\n",
      "pT j1:         0.0015\n",
      "dR b3 b4:      0.0013\n",
      "dR b2 l:       0.0013\n",
      "sdEta b2 b4:   0.0013\n",
      "dR b3 l:       0.0011\n",
      "sdEta b3 b4:   0.0011\n",
      "sdPhi b1 b2:   0.0010\n",
      "pT l:          0.0009\n",
      "MET:           0.0009\n",
      "sdPhi b2 b3:   0.0007\n",
      "sdPhi b1 b3:   0.0007\n",
      "sdPhi b1 l:    0.0007\n",
      "sdPhi b2 l:    0.0007\n",
      "sdPhi b1 b4:   0.0007\n",
      "sdPhi b2 b4:   0.0007\n",
      "sdPhi b3 b4:   0.0007\n",
      "sdPhi b3 l:    0.0007\n",
      "sdPhi b4 l:    0.0007\n"
     ]
    }
   ],
   "source": [
    "indices = np.argsort(-np.abs(randforest_1Tm.model[1].feature_importances_))\n",
    "coef_sort = [[DA.cols[i], randforest_1Tm.model[1].feature_importances_[i]] for i in indices]\n",
    "max_col = max([len(name) for name in DA.cols])\n",
    "for name, val in coef_sort:\n",
    "    sign = '+' if val >= 0 else '-'\n",
    "    print('{0:{1}} {2:.4f}'.format(name + ':', max_col + 3, val))"
   ]
  },
  {
   "cell_type": "markdown",
   "metadata": {},
   "source": [
    "## $m_{Z'} = 2$ TeV"
   ]
  },
  {
   "cell_type": "code",
   "execution_count": null,
   "metadata": {},
   "outputs": [],
   "source": [
    "data50_2Tm_train, data50_2Tm_test = DA.gettraintest(3)\n",
    "randforest_2Tm = sigbg_model(\n",
    "    make_pipeline(StandardScaler(), RandomForestClassifier(n_jobs=-1)), data50_2Tm_train, data50_2Tm_test);\n",
    "randforest_2Tm.fit()"
   ]
  },
  {
   "cell_type": "code",
   "execution_count": 892,
   "metadata": {
    "collapsed": true,
    "jupyter": {
     "outputs_hidden": true
    }
   },
   "outputs": [
    {
     "name": "stderr",
     "output_type": "stream",
     "text": [
      "[Parallel(n_jobs=4)]: Using backend ThreadingBackend with 4 concurrent workers.\n",
      "[Parallel(n_jobs=4)]: Done  42 tasks      | elapsed:    1.4s\n",
      "[Parallel(n_jobs=4)]: Done 100 out of 100 | elapsed:    3.1s finished\n",
      "[Parallel(n_jobs=4)]: Using backend ThreadingBackend with 4 concurrent workers.\n",
      "[Parallel(n_jobs=4)]: Done  42 tasks      | elapsed:    1.2s\n",
      "[Parallel(n_jobs=4)]: Done 100 out of 100 | elapsed:    2.7s finished\n"
     ]
    },
    {
     "name": "stdout",
     "output_type": "stream",
     "text": [
      "TPR: 0.996; FPR: 0.0015865\n"
     ]
    },
    {
     "name": "stderr",
     "output_type": "stream",
     "text": [
      "[Parallel(n_jobs=4)]: Using backend ThreadingBackend with 4 concurrent workers.\n",
      "[Parallel(n_jobs=4)]: Done  42 tasks      | elapsed:    1.3s\n",
      "[Parallel(n_jobs=4)]: Done 100 out of 100 | elapsed:    3.1s finished\n",
      "[Parallel(n_jobs=4)]: Using backend ThreadingBackend with 4 concurrent workers.\n",
      "[Parallel(n_jobs=4)]: Done  42 tasks      | elapsed:    1.2s\n",
      "[Parallel(n_jobs=4)]: Done 100 out of 100 | elapsed:    2.7s finished\n",
      "[Parallel(n_jobs=4)]: Using backend ThreadingBackend with 4 concurrent workers.\n",
      "[Parallel(n_jobs=4)]: Done  42 tasks      | elapsed:    1.2s\n",
      "[Parallel(n_jobs=4)]: Done 100 out of 100 | elapsed:    2.8s finished\n"
     ]
    },
    {
     "name": "stdout",
     "output_type": "stream",
     "text": [
      "Signal Significance @ L = 3000 fb^-1: 0.369\n"
     ]
    },
    {
     "name": "stderr",
     "output_type": "stream",
     "text": [
      "[Parallel(n_jobs=4)]: Using backend ThreadingBackend with 4 concurrent workers.\n",
      "[Parallel(n_jobs=4)]: Done  42 tasks      | elapsed:    1.2s\n",
      "[Parallel(n_jobs=4)]: Done 100 out of 100 | elapsed:    2.8s finished\n",
      "[Parallel(n_jobs=4)]: Using backend ThreadingBackend with 4 concurrent workers.\n",
      "[Parallel(n_jobs=4)]: Done  42 tasks      | elapsed:    1.3s\n",
      "[Parallel(n_jobs=4)]: Done 100 out of 100 | elapsed:    3.4s finished\n"
     ]
    },
    {
     "name": "stdout",
     "output_type": "stream",
     "text": [
      "Mass sensitivity maximum @ L = 3000 fb^-1: 1095.94 GeV\n"
     ]
    },
    {
     "name": "stderr",
     "output_type": "stream",
     "text": [
      "[Parallel(n_jobs=4)]: Using backend ThreadingBackend with 4 concurrent workers.\n",
      "[Parallel(n_jobs=4)]: Done  42 tasks      | elapsed:    1.6s\n",
      "[Parallel(n_jobs=4)]: Done 100 out of 100 | elapsed:    3.5s finished\n"
     ]
    },
    {
     "name": "stdout",
     "output_type": "stream",
     "text": [
      "2.0032051282051282e-05\n",
      "Maximal significance of 2.755 @ threshold = 0.9940878713968947\n",
      "(sig. maximized with tpr = 0.9, fpr = 2e-05)\n",
      "(new mass sensitivity of 1748.82 GeV)\n"
     ]
    }
   ],
   "source": [
    "results(randforest_2Tm, 2000)"
   ]
  },
  {
   "cell_type": "code",
   "execution_count": 271,
   "metadata": {
    "collapsed": true,
    "jupyter": {
     "outputs_hidden": true
    }
   },
   "outputs": [
    {
     "name": "stdout",
     "output_type": "stream",
     "text": [
      "M b1 b2:       0.2874\n",
      "pT b1:         0.1434\n",
      "pT b2:         0.1415\n",
      "M b1 b3:       0.1006\n",
      "MT b1 l MET:   0.0653\n",
      "M b2 b4:       0.0480\n",
      "M b2 b3:       0.0388\n",
      "MT b2 l MET:   0.0385\n",
      "M b1 b4:       0.0332\n",
      "pT b3:         0.0244\n",
      "dR b1 b2:      0.0192\n",
      "M j1 j2:       0.0173\n",
      "M b3 b4:       0.0046\n",
      "pT b4:         0.0040\n",
      "dR b1 b3:      0.0032\n",
      "dR b2 b3:      0.0031\n",
      "sdEta b1 b2:   0.0023\n",
      "MT b4 l MET:   0.0022\n",
      "dR b3 l:       0.0022\n",
      "dR b2 b4:      0.0021\n",
      "dR j1 j2:      0.0017\n",
      "MT l MET:      0.0017\n",
      "dR b1 b4:      0.0016\n",
      "sdEta b1 b3:   0.0012\n",
      "pT j2:         0.0012\n",
      "MT b3 l MET:   0.0010\n",
      "dR b4 l:       0.0010\n",
      "dR b3 b4:      0.0008\n",
      "sdEta b2 b3:   0.0008\n",
      "dR b2 l:       0.0008\n",
      "dR b1 l:       0.0007\n",
      "sdPhi b1 b2:   0.0007\n",
      "sdEta b1 b4:   0.0006\n",
      "pT l:          0.0006\n",
      "sdEta b2 b4:   0.0005\n",
      "MET:           0.0005\n",
      "pT j1:         0.0005\n",
      "sdEta b3 b4:   0.0004\n",
      "sdPhi b2 b3:   0.0004\n",
      "sdPhi b1 b3:   0.0003\n",
      "sdPhi b1 l:    0.0002\n",
      "sdPhi b2 l:    0.0002\n",
      "sdPhi b3 b4:   0.0002\n",
      "sdPhi b2 b4:   0.0002\n",
      "sdPhi b1 b4:   0.0002\n",
      "sdPhi b4 l:    0.0002\n",
      "sdPhi b3 l:    0.0002\n"
     ]
    }
   ],
   "source": [
    "indices = np.argsort(-np.abs(randforest_2Tm.model[1].feature_importances_))\n",
    "coef_sort = [[DA.cols[i], randforest_2Tm.model[1].feature_importances_[i]] for i in indices]\n",
    "max_col = max([len(name) for name in DA.cols])\n",
    "for name, val in coef_sort:\n",
    "    sign = '+' if val >= 0 else '-'\n",
    "    print('{0:{1}} {2:.4f}'.format(name + ':', max_col + 3, val))"
   ]
  },
  {
   "cell_type": "markdown",
   "metadata": {},
   "source": [
    "## $m_{Z'} = 4$ TeV"
   ]
  },
  {
   "cell_type": "code",
   "execution_count": null,
   "metadata": {},
   "outputs": [],
   "source": [
    "data50_4Tm_train, data50_4Tm_test = DA.gettraintest(4)\n",
    "randforest_4Tm = sigbg_model(\n",
    "    make_pipeline(StandardScaler(), RandomForestClassifier(n_jobs=-1)), data50_4Tm_train, data50_4Tm_test);\n",
    "randforest_4Tm.fit()"
   ]
  },
  {
   "cell_type": "code",
   "execution_count": 893,
   "metadata": {
    "collapsed": true,
    "jupyter": {
     "outputs_hidden": true
    }
   },
   "outputs": [
    {
     "name": "stderr",
     "output_type": "stream",
     "text": [
      "[Parallel(n_jobs=4)]: Using backend ThreadingBackend with 4 concurrent workers.\n",
      "[Parallel(n_jobs=4)]: Done  42 tasks      | elapsed:    1.4s\n",
      "[Parallel(n_jobs=4)]: Done 100 out of 100 | elapsed:    3.0s finished\n",
      "[Parallel(n_jobs=4)]: Using backend ThreadingBackend with 4 concurrent workers.\n",
      "[Parallel(n_jobs=4)]: Done  42 tasks      | elapsed:    1.4s\n",
      "[Parallel(n_jobs=4)]: Done 100 out of 100 | elapsed:    3.0s finished\n"
     ]
    },
    {
     "name": "stdout",
     "output_type": "stream",
     "text": [
      "TPR: 0.992; FPR: 0.0011779\n"
     ]
    },
    {
     "name": "stderr",
     "output_type": "stream",
     "text": [
      "[Parallel(n_jobs=4)]: Using backend ThreadingBackend with 4 concurrent workers.\n",
      "[Parallel(n_jobs=4)]: Done  42 tasks      | elapsed:    1.4s\n",
      "[Parallel(n_jobs=4)]: Done 100 out of 100 | elapsed:    3.2s finished\n",
      "[Parallel(n_jobs=4)]: Using backend ThreadingBackend with 4 concurrent workers.\n",
      "[Parallel(n_jobs=4)]: Done  42 tasks      | elapsed:    1.2s\n",
      "[Parallel(n_jobs=4)]: Done 100 out of 100 | elapsed:    3.5s finished\n",
      "[Parallel(n_jobs=4)]: Using backend ThreadingBackend with 4 concurrent workers.\n",
      "[Parallel(n_jobs=4)]: Done  42 tasks      | elapsed:    1.5s\n",
      "[Parallel(n_jobs=4)]: Done 100 out of 100 | elapsed:    3.0s finished\n"
     ]
    },
    {
     "name": "stdout",
     "output_type": "stream",
     "text": [
      "Signal Significance @ L = 3000 fb^-1: 0.008\n"
     ]
    },
    {
     "name": "stderr",
     "output_type": "stream",
     "text": [
      "[Parallel(n_jobs=4)]: Using backend ThreadingBackend with 4 concurrent workers.\n",
      "[Parallel(n_jobs=4)]: Done  42 tasks      | elapsed:    1.1s\n",
      "[Parallel(n_jobs=4)]: Done 100 out of 100 | elapsed:    2.6s finished\n",
      "[Parallel(n_jobs=4)]: Using backend ThreadingBackend with 4 concurrent workers.\n",
      "[Parallel(n_jobs=4)]: Done  42 tasks      | elapsed:    1.1s\n",
      "[Parallel(n_jobs=4)]: Done 100 out of 100 | elapsed:    2.8s finished\n"
     ]
    },
    {
     "name": "stdout",
     "output_type": "stream",
     "text": [
      "Mass sensitivity maximum @ L = 3000 fb^-1: 1137.67 GeV\n"
     ]
    },
    {
     "name": "stderr",
     "output_type": "stream",
     "text": [
      "[Parallel(n_jobs=4)]: Using backend ThreadingBackend with 4 concurrent workers.\n",
      "[Parallel(n_jobs=4)]: Done  42 tasks      | elapsed:    1.4s\n",
      "[Parallel(n_jobs=4)]: Done 100 out of 100 | elapsed:    3.0s finished\n"
     ]
    },
    {
     "name": "stdout",
     "output_type": "stream",
     "text": [
      "8.01314155214552e-06\n",
      "Maximal significance of 0.087 @ threshold = 0.994087880530138\n",
      "(sig. maximized with tpr = 0.949, fpr = 8e-06)\n",
      "(new mass sensitivity of 1913.1 GeV)\n"
     ]
    }
   ],
   "source": [
    "results(randforest_4Tm, 4000)"
   ]
  },
  {
   "cell_type": "code",
   "execution_count": 272,
   "metadata": {
    "collapsed": true,
    "jupyter": {
     "outputs_hidden": true
    }
   },
   "outputs": [
    {
     "name": "stdout",
     "output_type": "stream",
     "text": [
      "M b1 b2:       0.2184\n",
      "pT b1:         0.1413\n",
      "pT b2:         0.1352\n",
      "M b1 b3:       0.1219\n",
      "M b2 b3:       0.0886\n",
      "MT b1 l MET:   0.0736\n",
      "M b2 b4:       0.0532\n",
      "MT b2 l MET:   0.0370\n",
      "M b1 b4:       0.0359\n",
      "pT b3:         0.0329\n",
      "dR b1 b2:      0.0129\n",
      "M j1 j2:       0.0105\n",
      "pT b4:         0.0065\n",
      "dR b2 b3:      0.0031\n",
      "M b3 b4:       0.0024\n",
      "dR b1 b3:      0.0024\n",
      "sdPhi b1 b2:   0.0022\n",
      "MT l MET:      0.0014\n",
      "dR b1 b4:      0.0014\n",
      "dR j1 j2:      0.0013\n",
      "dR b3 l:       0.0012\n",
      "sdEta b1 b2:   0.0012\n",
      "pT j2:         0.0011\n",
      "dR b4 l:       0.0011\n",
      "pT j1:         0.0010\n",
      "dR b2 b4:      0.0010\n",
      "sdPhi b1 b3:   0.0010\n",
      "MT b3 l MET:   0.0009\n",
      "pT l:          0.0008\n",
      "dR b1 l:       0.0008\n",
      "dR b3 b4:      0.0008\n",
      "MT b4 l MET:   0.0008\n",
      "dR b2 l:       0.0007\n",
      "sdEta b1 b3:   0.0006\n",
      "sdEta b2 b4:   0.0006\n",
      "sdEta b2 b3:   0.0005\n",
      "sdEta b1 b4:   0.0004\n",
      "MET:           0.0004\n",
      "sdEta b3 b4:   0.0004\n",
      "sdPhi b1 l:    0.0003\n",
      "sdPhi b2 l:    0.0003\n",
      "sdPhi b2 b3:   0.0003\n",
      "sdPhi b1 b4:   0.0003\n",
      "sdPhi b3 l:    0.0003\n",
      "sdPhi b4 l:    0.0003\n",
      "sdPhi b2 b4:   0.0003\n",
      "sdPhi b3 b4:   0.0003\n"
     ]
    }
   ],
   "source": [
    "indices = np.argsort(-np.abs(randforest_4Tm.model[1].feature_importances_))\n",
    "coef_sort = [[DA.cols[i], randforest_4Tm.model[1].feature_importances_[i]] for i in indices]\n",
    "max_col = max([len(name) for name in DA.cols])\n",
    "for name, val in coef_sort:\n",
    "    sign = '+' if val >= 0 else '-'\n",
    "    print('{0:{1}} {2:.4f}'.format(name + ':', max_col + 3, val))"
   ]
  },
  {
   "cell_type": "code",
   "execution_count": null,
   "metadata": {},
   "outputs": [],
   "source": []
  }
 ],
 "metadata": {
  "kernelspec": {
   "display_name": "Python 3",
   "language": "python",
   "name": "python3"
  },
  "language_info": {
   "codemirror_mode": {
    "name": "ipython",
    "version": 3
   },
   "file_extension": ".py",
   "mimetype": "text/x-python",
   "name": "python",
   "nbconvert_exporter": "python",
   "pygments_lexer": "ipython3",
   "version": "3.7.4"
  }
 },
 "nbformat": 4,
 "nbformat_minor": 4
}
