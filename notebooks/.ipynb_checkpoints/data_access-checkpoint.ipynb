{
 "cells": [
  {
   "cell_type": "code",
   "execution_count": 98,
   "metadata": {},
   "outputs": [],
   "source": [
    "import numpy as np\n",
    "\n",
    "def binary_append(data, isSig, bgType=None):\n",
    "    \"\"\"\n",
    "    takes in N x m array of predictors (N points in R^m) and appends binary \n",
    "    label to each row (1 if signal, 0 if background) to prepare for training\n",
    "    \"\"\"\n",
    "    \n",
    "    append_val = 1 if isSig else (bgType if bgType else 0)\n",
    "    return np.concatenate((data, np.ones((len(data),1)) * append_val), axis=1)"
   ]
  },
  {
   "cell_type": "code",
   "execution_count": 112,
   "metadata": {},
   "outputs": [],
   "source": [
    "from sklearn.model_selection import train_test_split\n",
    "\n",
    "class DataAccess:\n",
    "    def __init__(self):\n",
    "        self.datpath = '../data/dat/data50/'\n",
    "        self.npypath = '../data/npy/data50/'\n",
    "        self.names = ['sig350G', 'sig500G', 'sig1T', 'sig2T', 'sig4T', 'bgh', 'bg4t', 'bgnoh']\n",
    "        self.cols = [\n",
    "            'pT b1', 'pT b2', 'pT b3', 'pT b4',\n",
    "            'sdEta b1 b2', 'sdEta b1 b3', 'sdEta b1 b4', 'sdEta b2 b3', 'sdEta b2 b4', 'sdEta b3 b4',\n",
    "            'sdPhi b1 b2', 'sdPhi b1 b3', 'sdPhi b1 b4', 'sdPhi b2 b3', 'sdPhi b2 b4', 'sdPhi b3 b4',\n",
    "            'dR b1 b2', 'dR b1 b3', 'dR b1 b4', 'dR b2 b3', 'dR b2 b4', 'dR b3 b4',\n",
    "            'MET', 'pT l', 'MT l MET', \n",
    "            'M b1 b2', 'M b1 b3', 'M b1 b4', 'M b2 b3', 'M b2 b4', 'M b3 b4',\n",
    "            'MT b1 l MET', 'MT b2 l MET', 'MT b3 l MET', 'MT b4 l MET',\n",
    "            'M j1 j2', 'pT j1', 'pT j2', 'dR j1 j2', \n",
    "            'dR b1 l', 'dR b2 l', 'dR b3 l', 'dR b4 l',\n",
    "            'sdPhi b1 l', 'sdPhi b2 l', 'sdPhi b3 l', 'sdPhi b4 l']\n",
    "    \n",
    "    def dat2npy(self):\n",
    "        for name in self.names:\n",
    "            print('beginning read of', name + '.npy')\n",
    "            data = np.loadtxt(self.datpath + name + '.dat')\n",
    "            print('finished read, now saving')\n",
    "            data = np.reshape(data, (-1, 47))\n",
    "            np.save(self.npypath + name, data)\n",
    "            print('finished saving')\n",
    "            print()\n",
    "    \n",
    "    def getnpy(self, index):\n",
    "        return np.load(self.npypath + self.names[index] + '.npy')\n",
    "    \n",
    "    def getbg(self, amt=1000000):\n",
    "        return np.concatenate([np.load(self.npypath + name + '.npy')[:int(amt/3)] for name in self.names[-3:]])\n",
    "    \n",
    "    def getidbg(self, amt=1000000):\n",
    "        return np.concatenate(\n",
    "            [binary_append(np.load(self.npypath + name + '.npy')[:int(amt/3)], isSig=False, bgType=-(i+1)) for i, name in enumerate(self.names[-3:])])\n",
    "    \n",
    "    def gettraintest(self, index, test_size=0.25, random_state=0):\n",
    "        return train_test_split(\n",
    "            np.concatenate([binary_append(self.getnpy(index), True), binary_append(self.getbg(), False)]),\n",
    "            test_size=test_size,\n",
    "            random_state=random_state)\n",
    "    \n",
    "    def getidtraintest(self, index, test_size=0.25, random_state=0):\n",
    "        return train_test_split(\n",
    "            np.concatenate([binary_append(self.getnpy(index), True), self.getidbg()]),\n",
    "            test_size=test_size,\n",
    "            random_state=random_state)"
   ]
  },
  {
   "cell_type": "code",
   "execution_count": 113,
   "metadata": {},
   "outputs": [],
   "source": [
    "DA = DataAccess()"
   ]
  },
  {
   "cell_type": "code",
   "execution_count": 5,
   "metadata": {},
   "outputs": [
    {
     "name": "stdout",
     "output_type": "stream",
     "text": [
      "47\n"
     ]
    }
   ],
   "source": [
    "print(len(DA.cols))"
   ]
  },
  {
   "cell_type": "code",
   "execution_count": 60,
   "metadata": {},
   "outputs": [
    {
     "name": "stdout",
     "output_type": "stream",
     "text": [
      "beginning read of sig350G.npy\n",
      "finished read, now saving\n",
      "finished saving\n",
      "\n",
      "beginning read of sig500G.npy\n",
      "finished read, now saving\n",
      "finished saving\n",
      "\n",
      "beginning read of sig1T.npy\n",
      "finished read, now saving\n",
      "finished saving\n",
      "\n",
      "beginning read of sig2T.npy\n",
      "finished read, now saving\n",
      "finished saving\n",
      "\n",
      "beginning read of sig4T.npy\n",
      "finished read, now saving\n",
      "finished saving\n",
      "\n",
      "beginning read of bgh.npy\n",
      "finished read, now saving\n",
      "finished saving\n",
      "\n",
      "beginning read of bg4t.npy\n",
      "finished read, now saving\n",
      "finished saving\n",
      "\n",
      "beginning read of bgnoh.npy\n",
      "finished read, now saving\n",
      "finished saving\n",
      "\n"
     ]
    }
   ],
   "source": [
    "DA.dat2npy()"
   ]
  },
  {
   "cell_type": "code",
   "execution_count": 114,
   "metadata": {},
   "outputs": [],
   "source": [
    "train, test = DA.gettraintest(0)\n",
    "idtrain, idtest = DA.getidtraintest(0)"
   ]
  },
  {
   "cell_type": "code",
   "execution_count": 115,
   "metadata": {},
   "outputs": [
    {
     "name": "stdout",
     "output_type": "stream",
     "text": [
      "[1. 1. 0. 1. 1. 1. 0. 0. 1. 0. 0. 1. 0. 0. 1. 0. 1. 0. 1. 1. 0. 0. 0. 1.\n",
      " 0. 1. 1. 0. 0. 0. 0. 1. 1. 0. 1. 0. 1. 0. 1. 0. 0. 1. 1. 0. 0. 1. 0. 0.\n",
      " 1. 0.]\n",
      "[ 1.  1. -2.  1.  1.  1. -2. -3.  1. -2. -1.  1. -2. -3.  1. -3.  1. -2.\n",
      "  1.  1. -2. -2. -1.  1. -1.  1.  1. -2. -1. -3. -1.  1.  1. -1.  1. -2.\n",
      "  1. -1.  1. -1. -2.  1.  1. -3. -1.  1. -1. -3.  1. -3.]\n"
     ]
    }
   ],
   "source": [
    "print(train[:50,-1])\n",
    "print(idtrain[:50,-1])"
   ]
  },
  {
   "cell_type": "code",
   "execution_count": null,
   "metadata": {},
   "outputs": [],
   "source": []
  }
 ],
 "metadata": {
  "kernelspec": {
   "display_name": "Python 3",
   "language": "python",
   "name": "python3"
  },
  "language_info": {
   "codemirror_mode": {
    "name": "ipython",
    "version": 3
   },
   "file_extension": ".py",
   "mimetype": "text/x-python",
   "name": "python",
   "nbconvert_exporter": "python",
   "pygments_lexer": "ipython3",
   "version": "3.7.4"
  }
 },
 "nbformat": 4,
 "nbformat_minor": 4
}
