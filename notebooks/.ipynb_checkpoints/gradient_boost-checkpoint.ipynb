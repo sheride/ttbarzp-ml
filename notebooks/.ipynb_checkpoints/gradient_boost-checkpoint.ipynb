{
 "cells": [
  {
   "cell_type": "code",
   "execution_count": 115,
   "metadata": {},
   "outputs": [],
   "source": [
    "from sklearn.ensemble import GradientBoostingRegressor"
   ]
  },
  {
   "cell_type": "code",
   "execution_count": 118,
   "metadata": {},
   "outputs": [
    {
     "name": "stdout",
     "output_type": "stream",
     "text": [
      "      Iter       Train Loss   Remaining Time \n",
      "         1           0.1104            2.26m\n",
      "         2           0.1049            1.95m\n",
      "         3           0.1030            1.84m\n",
      "         4           0.1014            1.72m\n",
      "         5           0.1005            1.55m\n",
      "         6           0.0999            1.41m\n",
      "         7           0.0994            1.27m\n",
      "         8           0.0992            1.11m\n",
      "         9           0.0988           55.93s\n",
      "        10           0.0984           46.70s\n",
      "Accuracy: 86.98%\n"
     ]
    }
   ],
   "source": [
    "gradboost_init_350Gm = sigbg_model(GradientBoostingRegressor(max_depth=5,\n",
    "                                                             n_estimators=15,\n",
    "                                                             learning_rate=1,\n",
    "                                                             verbose=1), \n",
    "                                   init_350Gm_train, init_350Gm_test);\n",
    "gradboost_init_350Gm.fit()\n",
    "gradboost_init_350Gm.evaluate()"
   ]
  },
  {
   "cell_type": "code",
   "execution_count": 119,
   "metadata": {},
   "outputs": [
    {
     "name": "stdout",
     "output_type": "stream",
     "text": [
      "      Iter       Train Loss   Remaining Time \n",
      "         1           0.1656            9.27m\n",
      "         2           0.1422            8.38m\n",
      "         3           0.1353            7.59m\n",
      "         4           0.1303            7.05m\n",
      "         5           0.1275            6.42m\n",
      "         6           0.1260            5.72m\n",
      "         7           0.1243            5.07m\n",
      "         8           0.1226            4.42m\n",
      "         9           0.1215            3.79m\n",
      "        10           0.1203            3.13m\n",
      "Accuracy: 84.41%\n"
     ]
    }
   ],
   "source": [
    "gradboost_f350Gm = sigbg_model(GradientBoostingRegressor(max_depth=5,\n",
    "                                                         n_estimators=15,\n",
    "                                                         learning_rate=1,\n",
    "                                                         verbose=1), \n",
    "                               f350Gm_data_train, f350Gm_data_test);\n",
    "gradboost_f350Gm.fit()\n",
    "gradboost_f350Gm.evaluate()"
   ]
  },
  {
   "cell_type": "code",
   "execution_count": 120,
   "metadata": {},
   "outputs": [
    {
     "name": "stdout",
     "output_type": "stream",
     "text": [
      "      Iter       Train Loss   Remaining Time \n",
      "         1           0.0082            8.85m\n",
      "         2           0.0075            8.01m\n",
      "         3           0.0072            7.54m\n",
      "         4           0.0069            6.89m\n",
      "         5           0.0065            6.22m\n",
      "         6           0.0063            5.65m\n",
      "         7           0.0062            5.05m\n",
      "         8           0.0061            4.40m\n",
      "         9           0.0060            3.73m\n",
      "        10           0.0060            3.08m\n",
      "Accuracy: 99.33%\n"
     ]
    }
   ],
   "source": [
    "gradboost_f2Tm = sigbg_model(GradientBoostingRegressor(max_depth=5,\n",
    "                                                       n_estimators=15,\n",
    "                                                       learning_rate=1,\n",
    "                                                       verbose=1), \n",
    "                               f2Tm_data_train, f2Tm_data_test);\n",
    "gradboost_f2Tm.fit()\n",
    "gradboost_f2Tm.evaluate()"
   ]
  },
  {
   "cell_type": "code",
   "execution_count": null,
   "metadata": {},
   "outputs": [
    {
     "name": "stdout",
     "output_type": "stream",
     "text": [
      "Commencing fitting: n_estimators = 5, max_depth = 2\n",
      "      Iter       Train Loss   Remaining Time \n",
      "         1           0.1903           40.32s\n",
      "         2           0.1784           30.62s\n",
      "         3           0.1729           20.56s\n",
      "         4           0.1675           10.35s\n",
      "         5           0.1609            0.00s\n",
      "Accuracy: 76.52%\n",
      "Commencing fitting: n_estimators = 5, max_depth = 5\n",
      "      Iter       Train Loss   Remaining Time \n",
      "         1           0.1656            2.54m\n",
      "         2           0.1422            1.91m\n",
      "         3           0.1353            1.27m\n",
      "         4           0.1303           38.62s\n",
      "         5           0.1275            0.00s\n",
      "Accuracy: 82.49%\n",
      "Commencing fitting: n_estimators = 10, max_depth = 2\n",
      "      Iter       Train Loss   Remaining Time \n",
      "         1           0.1903            1.35m\n",
      "         2           0.1784            1.26m\n",
      "         3           0.1729            1.13m\n",
      "         4           0.1675           59.18s\n",
      "         5           0.1609           51.23s\n",
      "         6           0.1571           40.67s\n",
      "         7           0.1550           30.58s\n",
      "         8           0.1538           20.48s\n",
      "         9           0.1516           10.25s\n",
      "        10           0.1500            0.00s\n",
      "Accuracy: 79.41%\n",
      "Commencing fitting: n_estimators = 10, max_depth = 5\n",
      "      Iter       Train Loss   Remaining Time \n",
      "         1           0.1656            5.96m\n",
      "         2           0.1422            5.19m\n",
      "         3           0.1353            4.52m\n",
      "         4           0.1303            3.92m\n",
      "         5           0.1275            3.32m\n",
      "         6           0.1260            2.67m\n",
      "         7           0.1243            2.01m\n",
      "         8           0.1226            1.33m\n",
      "         9           0.1215           40.00s\n",
      "        10           0.1203            0.00s\n",
      "Accuracy: 83.78%\n",
      "Commencing fitting: n_estimators = 15, max_depth = 2\n",
      "      Iter       Train Loss   Remaining Time \n",
      "         1           0.1903            2.49m\n",
      "         2           0.1784            2.34m\n",
      "         3           0.1729            2.17m\n",
      "         4           0.1675            1.98m\n",
      "         5           0.1609            1.77m\n",
      "         6           0.1571            1.57m\n",
      "         7           0.1550            1.40m\n",
      "         8           0.1538            1.22m\n",
      "         9           0.1516            1.04m\n",
      "        10           0.1500           51.95s\n",
      "Accuracy: 80.31%\n",
      "Commencing fitting: n_estimators = 15, max_depth = 5\n",
      "      Iter       Train Loss   Remaining Time \n",
      "         1           0.1656            9.32m\n",
      "         2           0.1422            8.35m\n",
      "         3           0.1353            7.79m\n",
      "         4           0.1303            7.12m\n",
      "         5           0.1275            6.52m\n",
      "         6           0.1260            5.87m\n",
      "         7           0.1243            5.23m\n",
      "         8           0.1226            4.59m\n",
      "         9           0.1215            3.95m\n"
     ]
    }
   ],
   "source": [
    "n_estimators = [5, 10, 15]\n",
    "max_depth = [2, 5]\n",
    "\n",
    "model_array = [\n",
    "    [sigbg_model(GradientBoostingRegressor(max_depth=m, n_estimators=n, learning_rate=1, verbose=1), \n",
    "                 f350Gm_data_train, f350Gm_data_test) for m in max_depth] for n in n_estimators]\n",
    "\n",
    "for n, row in zip(n_estimators, model_array):\n",
    "    for m, model in zip(max_depth, row):\n",
    "        print('Commencing fitting: n_estimators = {}, max_depth = {}'.format(n, m))\n",
    "        model.fit_eval()"
   ]
  },
  {
   "cell_type": "code",
   "execution_count": null,
   "metadata": {},
   "outputs": [],
   "source": [
    "accuracy = [[76.52, 82.49],\n",
    "            [79.41, 83.78],\n",
    "            [80.31, ]];\n",
    "accuracy = np.array(accuracy);\n",
    "interp2D(n_estimators, max_depth, (accuracy - 69.52)/100, 'n_estimators', 'max_depth', 'increase in % accuracy')\n",
    "#         [0.07, 0.08, 0.09], ['7%', '8%', '9%'], manual=[(400, 8), (450, 12), (500, 18)]);\n",
    "# colorbar = plt.gca().images[-1].colorbar\n",
    "# colorbar.set_ticks([0.06, 0.07, 0.08, 0.09]);\n",
    "# colorbar.ax.set_yticklabels(['6%', '7%', '8%', '9%']);"
   ]
  },
  {
   "cell_type": "markdown",
   "metadata": {},
   "source": [
    "# Legacy"
   ]
  },
  {
   "cell_type": "code",
   "execution_count": 120,
   "metadata": {},
   "outputs": [
    {
     "name": "stdout",
     "output_type": "stream",
     "text": [
      "      Iter       Train Loss   Remaining Time \n",
      "         1           0.1432           40.75s\n",
      "         2           0.1347           36.46s\n",
      "         3           0.1280           31.62s\n",
      "         4           0.1231           27.20s\n",
      "         5           0.1195           22.80s\n",
      "         6           0.1158           18.34s\n",
      "         7           0.1144           13.72s\n",
      "         8           0.1137            9.15s\n",
      "         9           0.1118            4.57s\n",
      "        10           0.1108            0.00s\n",
      "Accuracy: 85.72%\n"
     ]
    }
   ],
   "source": [
    "# depth = 2, n = 10\n",
    "gradient_boost = sigbg_gradientboost_reg(train, test)"
   ]
  },
  {
   "cell_type": "code",
   "execution_count": 123,
   "metadata": {},
   "outputs": [
    {
     "name": "stdout",
     "output_type": "stream",
     "text": [
      "      Iter       Train Loss   Remaining Time \n",
      "         1           0.1109            2.71m\n",
      "         2           0.1056            2.51m\n",
      "         3           0.1044            2.31m\n",
      "         4           0.1029            2.11m\n",
      "         5           0.1011            1.90m\n",
      "         6           0.0999            1.72m\n",
      "         7           0.0993            1.52m\n",
      "         8           0.0991            1.33m\n",
      "         9           0.0987            1.14m\n",
      "        10           0.0982           57.20s\n",
      "Accuracy: 87.17%\n"
     ]
    }
   ],
   "source": [
    "# depth = 5, n = 15\n",
    "gradient_boost2 = sigbg_gradientboost_reg(train, test)"
   ]
  },
  {
   "cell_type": "code",
   "execution_count": 18,
   "metadata": {
    "collapsed": true,
    "jupyter": {
     "outputs_hidden": true
    }
   },
   "outputs": [
    {
     "name": "stdout",
     "output_type": "stream",
     "text": [
      "      Iter       Train Loss   Remaining Time \n",
      "         1           0.1658            8.75m\n",
      "         2           0.1428            8.10m\n",
      "         3           0.1361            7.51m\n",
      "         4           0.1311            6.88m\n",
      "         5           0.1268            6.12m\n",
      "         6           0.1241            5.51m\n",
      "         7           0.1228            4.85m\n",
      "         8           0.1210            4.26m\n",
      "         9           0.1197            3.61m\n",
      "        10           0.1188            2.99m\n"
     ]
    },
    {
     "ename": "KeyboardInterrupt",
     "evalue": "",
     "output_type": "error",
     "traceback": [
      "\u001b[0;31m---------------------------------------------------------------------------\u001b[0m",
      "\u001b[0;31mKeyboardInterrupt\u001b[0m                         Traceback (most recent call last)",
      "\u001b[0;32m<ipython-input-18-50dee8912486>\u001b[0m in \u001b[0;36m<module>\u001b[0;34m\u001b[0m\n\u001b[1;32m      1\u001b[0m \u001b[0;31m# depth = 5, n = 15\u001b[0m\u001b[0;34m\u001b[0m\u001b[0;34m\u001b[0m\u001b[0;34m\u001b[0m\u001b[0m\n\u001b[0;32m----> 2\u001b[0;31m \u001b[0mgrad_boost_full_350Gm_more\u001b[0m \u001b[0;34m=\u001b[0m \u001b[0msigbg_gradientboost_reg\u001b[0m\u001b[0;34m(\u001b[0m\u001b[0mtrain_f350Gm\u001b[0m\u001b[0;34m,\u001b[0m \u001b[0mtest_f350Gm\u001b[0m\u001b[0;34m)\u001b[0m\u001b[0;34m\u001b[0m\u001b[0;34m\u001b[0m\u001b[0m\n\u001b[0m",
      "\u001b[0;32m<ipython-input-17-27c137489cb5>\u001b[0m in \u001b[0;36msigbg_gradientboost_reg\u001b[0;34m(train, test)\u001b[0m\n\u001b[1;32m      4\u001b[0m     \u001b[0mpredictors\u001b[0m\u001b[0;34m,\u001b[0m \u001b[0mlabels\u001b[0m \u001b[0;34m=\u001b[0m \u001b[0;34m[\u001b[0m\u001b[0mtrain\u001b[0m\u001b[0;34m[\u001b[0m\u001b[0;34m:\u001b[0m\u001b[0;34m,\u001b[0m\u001b[0;34m:\u001b[0m\u001b[0;34m-\u001b[0m\u001b[0;36m1\u001b[0m\u001b[0;34m]\u001b[0m\u001b[0;34m,\u001b[0m \u001b[0mtrain\u001b[0m\u001b[0;34m[\u001b[0m\u001b[0;34m:\u001b[0m\u001b[0;34m,\u001b[0m\u001b[0;34m-\u001b[0m\u001b[0;36m1\u001b[0m\u001b[0;34m]\u001b[0m\u001b[0;34m]\u001b[0m\u001b[0;34m\u001b[0m\u001b[0;34m\u001b[0m\u001b[0m\n\u001b[1;32m      5\u001b[0m     \u001b[0mgradient_boost\u001b[0m \u001b[0;34m=\u001b[0m \u001b[0mGradientBoostingRegressor\u001b[0m\u001b[0;34m(\u001b[0m\u001b[0mmax_depth\u001b[0m\u001b[0;34m=\u001b[0m\u001b[0;36m5\u001b[0m\u001b[0;34m,\u001b[0m \u001b[0mn_estimators\u001b[0m\u001b[0;34m=\u001b[0m\u001b[0;36m15\u001b[0m\u001b[0;34m,\u001b[0m \u001b[0mlearning_rate\u001b[0m\u001b[0;34m=\u001b[0m\u001b[0;36m1.0\u001b[0m\u001b[0;34m,\u001b[0m \u001b[0mverbose\u001b[0m\u001b[0;34m=\u001b[0m\u001b[0;36m1\u001b[0m\u001b[0;34m)\u001b[0m\u001b[0;34m\u001b[0m\u001b[0;34m\u001b[0m\u001b[0m\n\u001b[0;32m----> 6\u001b[0;31m     \u001b[0mgradient_boost\u001b[0m\u001b[0;34m.\u001b[0m\u001b[0mfit\u001b[0m\u001b[0;34m(\u001b[0m\u001b[0mpredictors\u001b[0m\u001b[0;34m,\u001b[0m \u001b[0mlabels\u001b[0m\u001b[0;34m)\u001b[0m\u001b[0;34m\u001b[0m\u001b[0;34m\u001b[0m\u001b[0m\n\u001b[0m\u001b[1;32m      7\u001b[0m     \u001b[0msigbg_eval\u001b[0m\u001b[0;34m(\u001b[0m\u001b[0mgradient_boost\u001b[0m\u001b[0;34m,\u001b[0m \u001b[0mtest\u001b[0m\u001b[0;34m)\u001b[0m\u001b[0;34m\u001b[0m\u001b[0;34m\u001b[0m\u001b[0m\n\u001b[1;32m      8\u001b[0m     \u001b[0;32mreturn\u001b[0m \u001b[0mgradient_boost\u001b[0m\u001b[0;34m;\u001b[0m\u001b[0;34m\u001b[0m\u001b[0;34m\u001b[0m\u001b[0m\n",
      "\u001b[0;32m~/opt/anaconda3/lib/python3.7/site-packages/sklearn/ensemble/gradient_boosting.py\u001b[0m in \u001b[0;36mfit\u001b[0;34m(self, X, y, sample_weight, monitor)\u001b[0m\n\u001b[1;32m   1544\u001b[0m         n_stages = self._fit_stages(\n\u001b[1;32m   1545\u001b[0m             \u001b[0mX\u001b[0m\u001b[0;34m,\u001b[0m \u001b[0my\u001b[0m\u001b[0;34m,\u001b[0m \u001b[0mraw_predictions\u001b[0m\u001b[0;34m,\u001b[0m \u001b[0msample_weight\u001b[0m\u001b[0;34m,\u001b[0m \u001b[0mself\u001b[0m\u001b[0;34m.\u001b[0m\u001b[0m_rng\u001b[0m\u001b[0;34m,\u001b[0m \u001b[0mX_val\u001b[0m\u001b[0;34m,\u001b[0m \u001b[0my_val\u001b[0m\u001b[0;34m,\u001b[0m\u001b[0;34m\u001b[0m\u001b[0;34m\u001b[0m\u001b[0m\n\u001b[0;32m-> 1546\u001b[0;31m             sample_weight_val, begin_at_stage, monitor, X_idx_sorted)\n\u001b[0m\u001b[1;32m   1547\u001b[0m \u001b[0;34m\u001b[0m\u001b[0m\n\u001b[1;32m   1548\u001b[0m         \u001b[0;31m# change shape of arrays after fit (early-stopping or additional ests)\u001b[0m\u001b[0;34m\u001b[0m\u001b[0;34m\u001b[0m\u001b[0;34m\u001b[0m\u001b[0m\n",
      "\u001b[0;32m~/opt/anaconda3/lib/python3.7/site-packages/sklearn/ensemble/gradient_boosting.py\u001b[0m in \u001b[0;36m_fit_stages\u001b[0;34m(self, X, y, raw_predictions, sample_weight, random_state, X_val, y_val, sample_weight_val, begin_at_stage, monitor, X_idx_sorted)\u001b[0m\n\u001b[1;32m   1608\u001b[0m             raw_predictions = self._fit_stage(\n\u001b[1;32m   1609\u001b[0m                 \u001b[0mi\u001b[0m\u001b[0;34m,\u001b[0m \u001b[0mX\u001b[0m\u001b[0;34m,\u001b[0m \u001b[0my\u001b[0m\u001b[0;34m,\u001b[0m \u001b[0mraw_predictions\u001b[0m\u001b[0;34m,\u001b[0m \u001b[0msample_weight\u001b[0m\u001b[0;34m,\u001b[0m \u001b[0msample_mask\u001b[0m\u001b[0;34m,\u001b[0m\u001b[0;34m\u001b[0m\u001b[0;34m\u001b[0m\u001b[0m\n\u001b[0;32m-> 1610\u001b[0;31m                 random_state, X_idx_sorted, X_csc, X_csr)\n\u001b[0m\u001b[1;32m   1611\u001b[0m \u001b[0;34m\u001b[0m\u001b[0m\n\u001b[1;32m   1612\u001b[0m             \u001b[0;31m# track deviance (= loss)\u001b[0m\u001b[0;34m\u001b[0m\u001b[0;34m\u001b[0m\u001b[0;34m\u001b[0m\u001b[0m\n",
      "\u001b[0;32m~/opt/anaconda3/lib/python3.7/site-packages/sklearn/ensemble/gradient_boosting.py\u001b[0m in \u001b[0;36m_fit_stage\u001b[0;34m(self, i, X, y, raw_predictions, sample_weight, sample_mask, random_state, X_idx_sorted, X_csc, X_csr)\u001b[0m\n\u001b[1;32m   1242\u001b[0m             \u001b[0mX\u001b[0m \u001b[0;34m=\u001b[0m \u001b[0mX_csr\u001b[0m \u001b[0;32mif\u001b[0m \u001b[0mX_csr\u001b[0m \u001b[0;32mis\u001b[0m \u001b[0;32mnot\u001b[0m \u001b[0;32mNone\u001b[0m \u001b[0;32melse\u001b[0m \u001b[0mX\u001b[0m\u001b[0;34m\u001b[0m\u001b[0;34m\u001b[0m\u001b[0m\n\u001b[1;32m   1243\u001b[0m             tree.fit(X, residual, sample_weight=sample_weight,\n\u001b[0;32m-> 1244\u001b[0;31m                      check_input=False, X_idx_sorted=X_idx_sorted)\n\u001b[0m\u001b[1;32m   1245\u001b[0m \u001b[0;34m\u001b[0m\u001b[0m\n\u001b[1;32m   1246\u001b[0m             \u001b[0;31m# update tree leaves\u001b[0m\u001b[0;34m\u001b[0m\u001b[0;34m\u001b[0m\u001b[0;34m\u001b[0m\u001b[0m\n",
      "\u001b[0;32m~/opt/anaconda3/lib/python3.7/site-packages/sklearn/tree/tree.py\u001b[0m in \u001b[0;36mfit\u001b[0;34m(self, X, y, sample_weight, check_input, X_idx_sorted)\u001b[0m\n\u001b[1;32m   1155\u001b[0m             \u001b[0msample_weight\u001b[0m\u001b[0;34m=\u001b[0m\u001b[0msample_weight\u001b[0m\u001b[0;34m,\u001b[0m\u001b[0;34m\u001b[0m\u001b[0;34m\u001b[0m\u001b[0m\n\u001b[1;32m   1156\u001b[0m             \u001b[0mcheck_input\u001b[0m\u001b[0;34m=\u001b[0m\u001b[0mcheck_input\u001b[0m\u001b[0;34m,\u001b[0m\u001b[0;34m\u001b[0m\u001b[0;34m\u001b[0m\u001b[0m\n\u001b[0;32m-> 1157\u001b[0;31m             X_idx_sorted=X_idx_sorted)\n\u001b[0m\u001b[1;32m   1158\u001b[0m         \u001b[0;32mreturn\u001b[0m \u001b[0mself\u001b[0m\u001b[0;34m\u001b[0m\u001b[0;34m\u001b[0m\u001b[0m\n\u001b[1;32m   1159\u001b[0m \u001b[0;34m\u001b[0m\u001b[0m\n",
      "\u001b[0;32m~/opt/anaconda3/lib/python3.7/site-packages/sklearn/tree/tree.py\u001b[0m in \u001b[0;36mfit\u001b[0;34m(self, X, y, sample_weight, check_input, X_idx_sorted)\u001b[0m\n\u001b[1;32m    378\u001b[0m                                            min_impurity_split)\n\u001b[1;32m    379\u001b[0m \u001b[0;34m\u001b[0m\u001b[0m\n\u001b[0;32m--> 380\u001b[0;31m         \u001b[0mbuilder\u001b[0m\u001b[0;34m.\u001b[0m\u001b[0mbuild\u001b[0m\u001b[0;34m(\u001b[0m\u001b[0mself\u001b[0m\u001b[0;34m.\u001b[0m\u001b[0mtree_\u001b[0m\u001b[0;34m,\u001b[0m \u001b[0mX\u001b[0m\u001b[0;34m,\u001b[0m \u001b[0my\u001b[0m\u001b[0;34m,\u001b[0m \u001b[0msample_weight\u001b[0m\u001b[0;34m,\u001b[0m \u001b[0mX_idx_sorted\u001b[0m\u001b[0;34m)\u001b[0m\u001b[0;34m\u001b[0m\u001b[0;34m\u001b[0m\u001b[0m\n\u001b[0m\u001b[1;32m    381\u001b[0m \u001b[0;34m\u001b[0m\u001b[0m\n\u001b[1;32m    382\u001b[0m         \u001b[0;32mif\u001b[0m \u001b[0mself\u001b[0m\u001b[0;34m.\u001b[0m\u001b[0mn_outputs_\u001b[0m \u001b[0;34m==\u001b[0m \u001b[0;36m1\u001b[0m\u001b[0;34m:\u001b[0m\u001b[0;34m\u001b[0m\u001b[0;34m\u001b[0m\u001b[0m\n",
      "\u001b[0;31mKeyboardInterrupt\u001b[0m: "
     ]
    }
   ],
   "source": [
    "# depth = 5, n = 15\n",
    "grad_boost_full_350Gm_more = sigbg_gradientboost_reg(train_f350Gm, test_f350Gm)"
   ]
  },
  {
   "cell_type": "code",
   "execution_count": null,
   "metadata": {},
   "outputs": [],
   "source": []
  }
 ],
 "metadata": {
  "kernelspec": {
   "display_name": "Python 3",
   "language": "python",
   "name": "python3"
  },
  "language_info": {
   "codemirror_mode": {
    "name": "ipython",
    "version": 3
   },
   "file_extension": ".py",
   "mimetype": "text/x-python",
   "name": "python",
   "nbconvert_exporter": "python",
   "pygments_lexer": "ipython3",
   "version": "3.7.4"
  }
 },
 "nbformat": 4,
 "nbformat_minor": 5
}
