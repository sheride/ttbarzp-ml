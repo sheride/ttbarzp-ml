{
 "cells": [
  {
   "cell_type": "code",
   "execution_count": 111,
   "id": "a8c31525",
   "metadata": {},
   "outputs": [],
   "source": [
    "from sklearn.linear_model import LogisticRegression\n",
    "\n",
    "def sigbg_log_reg(train, test):\n",
    "    predictors, labels = [train[:,:-1], train[:,-1]]\n",
    "    log_reg = LogisticRegression(max_iter=500)\n",
    "    log_reg.fit(predictors, labels)\n",
    "    sigbg_eval(lin_reg, test)\n",
    "    return log_reg;"
   ]
  },
  {
   "cell_type": "code",
   "execution_count": 110,
   "id": "73c184a6",
   "metadata": {},
   "outputs": [
    {
     "name": "stdout",
     "output_type": "stream",
     "text": [
      "Accuracy: 82.28%\n"
     ]
    }
   ],
   "source": [
    "log_reg = sigbg_log_reg(train, test);"
   ]
  },
  {
   "cell_type": "code",
   "execution_count": null,
   "id": "612100ea",
   "metadata": {},
   "outputs": [],
   "source": []
  }
 ],
 "metadata": {
  "kernelspec": {
   "display_name": "Python 3",
   "language": "python",
   "name": "python3"
  },
  "language_info": {
   "codemirror_mode": {
    "name": "ipython",
    "version": 3
   },
   "file_extension": ".py",
   "mimetype": "text/x-python",
   "name": "python",
   "nbconvert_exporter": "python",
   "pygments_lexer": "ipython3",
   "version": "3.9.5"
  }
 },
 "nbformat": 4,
 "nbformat_minor": 5
}
