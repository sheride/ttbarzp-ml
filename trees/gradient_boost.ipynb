{
 "cells": [
  {
   "cell_type": "code",
   "execution_count": 122,
   "id": "0426e508",
   "metadata": {},
   "outputs": [],
   "source": [
    "from sklearn.ensemble import GradientBoostingRegressor\n",
    "\n",
    "def sigbg_gradientboost_reg(train, test):\n",
    "    predictors, labels = [train[:,:-1], train[:,-1]]\n",
    "    gradient_boost = GradientBoostingRegressor(max_depth=5, n_estimators=15, learning_rate=1.0, verbose=1)\n",
    "    gradient_boost.fit(predictors, labels)\n",
    "    sigbg_eval(gradient_boost, test)\n",
    "    return gradient_boost;"
   ]
  },
  {
   "cell_type": "code",
   "execution_count": 120,
   "id": "4712eff9",
   "metadata": {},
   "outputs": [
    {
     "name": "stdout",
     "output_type": "stream",
     "text": [
      "      Iter       Train Loss   Remaining Time \n",
      "         1           0.1432           40.75s\n",
      "         2           0.1347           36.46s\n",
      "         3           0.1280           31.62s\n",
      "         4           0.1231           27.20s\n",
      "         5           0.1195           22.80s\n",
      "         6           0.1158           18.34s\n",
      "         7           0.1144           13.72s\n",
      "         8           0.1137            9.15s\n",
      "         9           0.1118            4.57s\n",
      "        10           0.1108            0.00s\n",
      "Accuracy: 85.72%\n"
     ]
    }
   ],
   "source": [
    "# depth = 2, n = 10\n",
    "gradient_boost = sigbg_gradientboost_reg(train, test)"
   ]
  },
  {
   "cell_type": "code",
   "execution_count": 123,
   "id": "181d3183",
   "metadata": {},
   "outputs": [
    {
     "name": "stdout",
     "output_type": "stream",
     "text": [
      "      Iter       Train Loss   Remaining Time \n",
      "         1           0.1109            2.71m\n",
      "         2           0.1056            2.51m\n",
      "         3           0.1044            2.31m\n",
      "         4           0.1029            2.11m\n",
      "         5           0.1011            1.90m\n",
      "         6           0.0999            1.72m\n",
      "         7           0.0993            1.52m\n",
      "         8           0.0991            1.33m\n",
      "         9           0.0987            1.14m\n",
      "        10           0.0982           57.20s\n",
      "Accuracy: 87.17%\n"
     ]
    }
   ],
   "source": [
    "# depth = 5, n = 15\n",
    "gradient_boost2 = sigbg_gradientboost_reg(train, test)"
   ]
  },
  {
   "cell_type": "code",
   "execution_count": null,
   "id": "36f210af",
   "metadata": {},
   "outputs": [],
   "source": []
  }
 ],
 "metadata": {
  "kernelspec": {
   "display_name": "Python 3",
   "language": "python",
   "name": "python3"
  },
  "language_info": {
   "codemirror_mode": {
    "name": "ipython",
    "version": 3
   },
   "file_extension": ".py",
   "mimetype": "text/x-python",
   "name": "python",
   "nbconvert_exporter": "python",
   "pygments_lexer": "ipython3",
   "version": "3.9.5"
  }
 },
 "nbformat": 4,
 "nbformat_minor": 5
}
