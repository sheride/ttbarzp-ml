{
 "cells": [
  {
   "cell_type": "code",
   "execution_count": 105,
   "id": "04dc412a",
   "metadata": {},
   "outputs": [],
   "source": [
    "from sklearn.linear_model import LinearRegression\n",
    "\n",
    "def sigbg_eval(model, test):\n",
    "    model_predictions = model.predict(test[:,:-1])\n",
    "    model_predictions_binary = np.where(model_predictions > 0.5, \n",
    "                                        np.ones_like(model_predictions), \n",
    "                                        np.zeros_like(model_predictions))\n",
    "    print('Accuracy: {}%'.format(\n",
    "        round((len(test) - np.sum(np.abs(model_predictions_binary - test[:,-1])))/len(test),4) * 100))\n",
    "\n",
    "def sigbg_lin_reg(train, test):\n",
    "    predictors, labels = [train[:,:-1], train[:,-1]]\n",
    "    lin_reg = LinearRegression()\n",
    "    lin_reg.fit(predictors, labels)\n",
    "    model_predictions = lin_reg.predict(test[:,:-1])\n",
    "    sigbg_eval(lin_reg, test)\n",
    "    return lin_reg;"
   ]
  },
  {
   "cell_type": "code",
   "execution_count": 106,
   "id": "15aebc11",
   "metadata": {},
   "outputs": [
    {
     "name": "stdout",
     "output_type": "stream",
     "text": [
      "Accuracy: 82.28%\n"
     ]
    }
   ],
   "source": [
    "lin_reg = sigbg_lin_reg(train, test);"
   ]
  },
  {
   "cell_type": "code",
   "execution_count": 107,
   "id": "ec0c200d",
   "metadata": {},
   "outputs": [
    {
     "name": "stdout",
     "output_type": "stream",
     "text": [
      "Accuracy: 11.95%\n"
     ]
    }
   ],
   "source": [
    "sigbg_lin_reg(train_stand, test_stand);"
   ]
  },
  {
   "cell_type": "code",
   "execution_count": 108,
   "id": "a9d753a1",
   "metadata": {},
   "outputs": [
    {
     "name": "stdout",
     "output_type": "stream",
     "text": [
      "Accuracy: 82.28%\n"
     ]
    }
   ],
   "source": [
    "sigbg_lin_reg(train_minmax, test_minmax);"
   ]
  },
  {
   "cell_type": "code",
   "execution_count": 90,
   "id": "f8b0cf41",
   "metadata": {},
   "outputs": [],
   "source": [
    "import matplotlib.pyplot as plt\n",
    "\n",
    "def sigbg_ROC_plot(model, test):\n",
    "    samples = np.linspace(0, 1, 30)\n",
    "    num_sig, num_bg = [np.sum(test[:,-1]), len(test) - np.sum(test[:,-1])]\n",
    "    print(num_sig, num_bg, num_sig + num_bg)\n",
    "    model_predictions = model.predict(test[:,:-1])\n",
    "    model_predictions_binaries = [np.where(model_predictions > val, \n",
    "                                           np.ones_like(model_predictions), \n",
    "                                           np.zeros_like(model_predictions)) \n",
    "                                  for val in samples]\n",
    "    true_pos = [np.sum(np.logical_and(row == np.ones_like(row), row == test[:,-1]))/num_sig for row in model_predictions_binaries]\n",
    "    false_pos = [np.sum(np.logical_and(row == np.ones_like(row), row != test[:,-1]))/num_bg for row in model_predictions_binaries]\n",
    "    plt.scatter(false_pos, true_pos)"
   ]
  },
  {
   "cell_type": "code",
   "execution_count": 91,
   "id": "7e7c9a76",
   "metadata": {},
   "outputs": [
    {
     "name": "stdout",
     "output_type": "stream",
     "text": [
      "199814.0 200186.0 400000.0\n"
     ]
    },
    {
     "data": {
      "image/png": "[encoded data removed]",
      "text/plain": [
       "<Figure size 432x288 with 1 Axes>"
      ]
     },
     "metadata": {
      "needs_background": "light"
     },
     "output_type": "display_data"
    }
   ],
   "source": [
    "sigbg_ROC_plot(lin_reg, test)"
   ]
  },
  {
   "cell_type": "code",
   "execution_count": null,
   "id": "2f779957",
   "metadata": {},
   "outputs": [],
   "source": []
  }
 ],
 "metadata": {
  "kernelspec": {
   "display_name": "Python 3",
   "language": "python",
   "name": "python3"
  },
  "language_info": {
   "codemirror_mode": {
    "name": "ipython",
    "version": 3
   },
   "file_extension": ".py",
   "mimetype": "text/x-python",
   "name": "python",
   "nbconvert_exporter": "python",
   "pygments_lexer": "ipython3",
   "version": "3.9.5"
  }
 },
 "nbformat": 4,
 "nbformat_minor": 5
}
