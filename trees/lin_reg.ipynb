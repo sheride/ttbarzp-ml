{
 "cells": [
  {
   "cell_type": "code",
   "execution_count": 62,
   "metadata": {},
   "outputs": [],
   "source": [
    "from sklearn.linear_model import LinearRegression"
   ]
  },
  {
   "cell_type": "code",
   "execution_count": 106,
   "metadata": {},
   "outputs": [
    {
     "name": "stdout",
     "output_type": "stream",
     "text": [
      "Accuracy: 82.28%\n"
     ]
    }
   ],
   "source": [
    "lin_reg = sigbg_lin_reg(train, test);"
   ]
  },
  {
   "cell_type": "code",
   "execution_count": 107,
   "metadata": {},
   "outputs": [
    {
     "name": "stdout",
     "output_type": "stream",
     "text": [
      "Accuracy: 11.95%\n"
     ]
    }
   ],
   "source": [
    "sigbg_lin_reg(train_stand, test_stand);"
   ]
  },
  {
   "cell_type": "code",
   "execution_count": 108,
   "metadata": {},
   "outputs": [
    {
     "name": "stdout",
     "output_type": "stream",
     "text": [
      "Accuracy: 82.28%\n"
     ]
    }
   ],
   "source": [
    "sigbg_lin_reg(train_minmax, test_minmax);"
   ]
  },
  {
   "cell_type": "code",
   "execution_count": 8,
   "metadata": {},
   "outputs": [],
   "source": [
    "import matplotlib.pyplot as plt\n",
    "\n",
    "def sigbg_ROC_plot(model, test):\n",
    "    samples = np.linspace(0, 1, 30)\n",
    "    num_sig, num_bg = [np.sum(test[:,-1]), len(test) - np.sum(test[:,-1])]\n",
    "    print(num_sig, num_bg, num_sig + num_bg)\n",
    "    model_predictions = model.predict(test[:,:-1])\n",
    "    model_predictions_binaries = [np.where(model_predictions > val, \n",
    "                                           np.ones_like(model_predictions), \n",
    "                                           np.zeros_like(model_predictions)) \n",
    "                                  for val in samples]\n",
    "    true_pos = [np.sum(np.logical_and(row == np.ones_like(row), row == test[:,-1]))/num_sig for row in model_predictions_binaries]\n",
    "    false_pos = [np.sum(np.logical_and(row == np.ones_like(row), row != test[:,-1]))/num_bg for row in model_predictions_binaries]\n",
    "    plt.scatter(false_pos, true_pos)"
   ]
  },
  {
   "cell_type": "code",
   "execution_count": 91,
   "metadata": {},
   "outputs": [
    {
     "name": "stdout",
     "output_type": "stream",
     "text": [
      "199814.0 200186.0 400000.0\n"
     ]
    },
    {
     "data": {
      "image/png": "[encoded data removed]",
      "text/plain": [
       "<Figure size 432x288 with 1 Axes>"
      ]
     },
     "metadata": {
      "needs_background": "light"
     },
     "output_type": "display_data"
    }
   ],
   "source": [
    "sigbg_ROC_plot(lin_reg, test)"
   ]
  },
  {
   "cell_type": "markdown",
   "metadata": {},
   "source": [
    "# Full 33 Component Data"
   ]
  },
  {
   "cell_type": "code",
   "execution_count": 70,
   "metadata": {},
   "outputs": [
    {
     "name": "stdout",
     "output_type": "stream",
     "text": [
      "Accuracy: 69.57%\n"
     ]
    }
   ],
   "source": [
    "lin_reg_full_350Gm = sigbg_model(LinearRegression(), train_f350Gm, test_f350Gm);\n",
    "lin_reg_full_350Gm.fit_eval()"
   ]
  },
  {
   "cell_type": "code",
   "execution_count": 12,
   "metadata": {},
   "outputs": [
    {
     "name": "stdout",
     "output_type": "stream",
     "text": [
      "Accuracy: 94.45%\n"
     ]
    }
   ],
   "source": [
    "lin_reg_full_1Tm = sigbg_model(LinearRegression(), train_f1Tm, test_f1Tm);"
   ]
  },
  {
   "cell_type": "code",
   "execution_count": 13,
   "metadata": {},
   "outputs": [
    {
     "name": "stdout",
     "output_type": "stream",
     "text": [
      "Accuracy: 97.89%\n"
     ]
    }
   ],
   "source": [
    "lin_reg_full_1p5Tm = sigbg_lin_reg(train_f1p5Tm, test_f1p5Tm);"
   ]
  },
  {
   "cell_type": "code",
   "execution_count": 14,
   "metadata": {},
   "outputs": [
    {
     "name": "stdout",
     "output_type": "stream",
     "text": [
      "Accuracy: 98.92%\n"
     ]
    }
   ],
   "source": [
    "lin_reg_full_2Tm = sigbg_lin_reg(train_f2Tm, test_f2Tm);"
   ]
  },
  {
   "cell_type": "code",
   "execution_count": 21,
   "metadata": {},
   "outputs": [
    {
     "name": "stdout",
     "output_type": "stream",
     "text": [
      "[ 5.84353622e-04 -1.31223597e-06  6.88680865e-06  3.58469295e-07\n",
      "  6.32975998e-04 -3.24311064e-06  3.64690373e-06  7.79808590e-07\n",
      "  3.54216910e-04 -1.85734477e-06  6.18309778e-06 -1.66387282e-06\n",
      "  1.73024043e-04 -1.37220735e-07  4.46554832e-07  5.56687124e-07\n",
      " -1.12805329e-04  1.90807376e-06  8.74939345e-06 -1.87515134e-08\n",
      " -3.88851047e-04  1.37529559e-06  3.77310689e-06  1.25679003e-06\n",
      " -1.53246189e-04  7.57775630e-06  6.60646083e-06  9.13912670e-07\n",
      " -8.18601533e-05 -5.88034828e-06  6.25664700e-06 -1.51958595e-07\n",
      "  4.53307342e-02]\n"
     ]
    }
   ],
   "source": [
    "print(lin_reg_full_1Tm.coef_)"
   ]
  },
  {
   "cell_type": "code",
   "execution_count": 30,
   "metadata": {},
   "outputs": [
    {
     "name": "stdout",
     "output_type": "stream",
     "text": [
      "Accuracy: 98.95%\n"
     ]
    }
   ],
   "source": [
    "lin_reg_full_2Tm = sigbg_lin_reg(train_f2tm_minmax, test_f2Tm_minmax);"
   ]
  },
  {
   "cell_type": "code",
   "execution_count": 31,
   "metadata": {},
   "outputs": [
    {
     "name": "stdout",
     "output_type": "stream",
     "text": [
      "[ 2.45410454e+00  1.29052781e-03  3.90747502e-02  2.78820669e-03\n",
      "  2.33285320e+00  2.33968010e-03  2.70850020e-02  4.96529292e-03\n",
      "  1.03712969e+00 -3.28543821e-03  1.65451457e-02 -1.02445311e-02\n",
      "  3.94512848e-01 -2.99812826e-03  1.12863758e-02 -8.95770412e-04\n",
      " -2.53249989e-01  6.99854359e-03  2.57796790e-02  1.76812666e-03\n",
      " -6.73291485e-01  1.40535928e-04  8.53746895e-03  7.39498629e-03\n",
      " -3.11965549e-01  1.51698791e-02  1.85359528e-02  1.37845398e-03\n",
      " -1.79646022e-01 -1.13738099e-03  1.37030421e-02  4.56538232e-03\n",
      "  4.36701762e-02]\n"
     ]
    }
   ],
   "source": [
    "print(lin_reg_full_2Tm.coef_)"
   ]
  },
  {
   "cell_type": "code",
   "execution_count": 10,
   "metadata": {},
   "outputs": [],
   "source": [
    "import matplotlib.pyplot as plt\n",
    "\n",
    "masses = [3.5, 10, 15, 20]\n",
    "accs1   = [69.54, 94.42, 97.92, 98.93]\n",
    "accs2   = [88, 94.42, 97.92, 98.93]"
   ]
  },
  {
   "cell_type": "code",
   "execution_count": 11,
   "metadata": {},
   "outputs": [
    {
     "data": {
      "text/plain": [
       "<matplotlib.collections.PathCollection at 0x7ff4f7992d90>"
      ]
     },
     "execution_count": 11,
     "metadata": {},
     "output_type": "execute_result"
    },
    {
     "data": {
      "image/png": "[encoded data removed]",
      "text/plain": [
       "<Figure size 432x288 with 1 Axes>"
      ]
     },
     "metadata": {
      "needs_background": "light"
     },
     "output_type": "display_data"
    }
   ],
   "source": [
    "plt.scatter(masses, accs1)"
   ]
  },
  {
   "cell_type": "code",
   "execution_count": 12,
   "metadata": {},
   "outputs": [
    {
     "data": {
      "text/plain": [
       "<matplotlib.collections.PathCollection at 0x7ff4f80776d0>"
      ]
     },
     "execution_count": 12,
     "metadata": {},
     "output_type": "execute_result"
    },
    {
     "data": {
      "image/png": "[encoded data removed]",
      "text/plain": [
       "<Figure size 432x288 with 1 Axes>"
      ]
     },
     "metadata": {
      "needs_background": "light"
     },
     "output_type": "display_data"
    }
   ],
   "source": [
    "plt.scatter(masses, accs2)"
   ]
  },
  {
   "cell_type": "code",
   "execution_count": null,
   "metadata": {},
   "outputs": [],
   "source": []
  }
 ],
 "metadata": {
  "kernelspec": {
   "display_name": "Python 3",
   "language": "python",
   "name": "python3"
  },
  "language_info": {
   "codemirror_mode": {
    "name": "ipython",
    "version": 3
   },
   "file_extension": ".py",
   "mimetype": "text/x-python",
   "name": "python",
   "nbconvert_exporter": "python",
   "pygments_lexer": "ipython3",
   "version": "3.7.4"
  }
 },
 "nbformat": 4,
 "nbformat_minor": 5
}
