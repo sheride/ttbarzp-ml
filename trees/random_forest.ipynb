{
 "cells": [
  {
   "cell_type": "code",
   "execution_count": 114,
   "id": "2d4ad159",
   "metadata": {},
   "outputs": [],
   "source": [
    "from sklearn.ensemble import RandomForestClassifier\n",
    "\n",
    "def sigbg_randforest_reg(train, test):\n",
    "    predictors, labels = [train[:,:-1], train[:,-1]]\n",
    "    rand_forest = RandomForestClassifier(n_estimators=1000, max_leaf_nodes=16, n_jobs=-1, verbose=1)\n",
    "    rand_forest.fit(predictors, labels)\n",
    "    sigbg_eval(rand_forest, test)\n",
    "    return rand_forest;"
   ]
  },
  {
   "cell_type": "code",
   "execution_count": 113,
   "id": "3e27816e",
   "metadata": {},
   "outputs": [
    {
     "name": "stdout",
     "output_type": "stream",
     "text": [
      "Accuracy: 85.61%\n"
     ]
    }
   ],
   "source": [
    "# 500 estimators, 16 max leaf nodes, n_jobs = 1\n",
    "rand_forest = sigbg_randforest_reg(train, test)"
   ]
  },
  {
   "cell_type": "code",
   "execution_count": 115,
   "id": "187c4c78",
   "metadata": {},
   "outputs": [
    {
     "name": "stderr",
     "output_type": "stream",
     "text": [
      "[Parallel(n_jobs=-1)]: Using backend ThreadingBackend with 4 concurrent workers.\n",
      "[Parallel(n_jobs=-1)]: Done  42 tasks      | elapsed:   58.7s\n",
      "[Parallel(n_jobs=-1)]: Done 192 tasks      | elapsed:  4.0min\n",
      "[Parallel(n_jobs=-1)]: Done 442 tasks      | elapsed:  9.2min\n",
      "[Parallel(n_jobs=-1)]: Done 792 tasks      | elapsed: 16.9min\n",
      "[Parallel(n_jobs=-1)]: Done 1000 out of 1000 | elapsed: 22.5min finished\n",
      "[Parallel(n_jobs=4)]: Using backend ThreadingBackend with 4 concurrent workers.\n",
      "[Parallel(n_jobs=4)]: Done  42 tasks      | elapsed:    0.5s\n",
      "[Parallel(n_jobs=4)]: Done 192 tasks      | elapsed:    1.8s\n",
      "[Parallel(n_jobs=4)]: Done 442 tasks      | elapsed:    4.0s\n",
      "[Parallel(n_jobs=4)]: Done 792 tasks      | elapsed:    7.0s\n"
     ]
    },
    {
     "name": "stdout",
     "output_type": "stream",
     "text": [
      "Accuracy: 85.59%\n"
     ]
    },
    {
     "name": "stderr",
     "output_type": "stream",
     "text": [
      "[Parallel(n_jobs=4)]: Done 1000 out of 1000 | elapsed:    8.9s finished\n"
     ]
    }
   ],
   "source": [
    "# 1000 estimators\n",
    "# takes ~20 min\n",
    "rand_forest2 = sigbg_randforest_reg(train, test)"
   ]
  },
  {
   "cell_type": "code",
   "execution_count": null,
   "id": "3a50101e",
   "metadata": {},
   "outputs": [],
   "source": [
    "# try 1 TeV data\n",
    "# try extra trees\n"
   ]
  }
 ],
 "metadata": {
  "kernelspec": {
   "display_name": "Python 3",
   "language": "python",
   "name": "python3"
  },
  "language_info": {
   "codemirror_mode": {
    "name": "ipython",
    "version": 3
   },
   "file_extension": ".py",
   "mimetype": "text/x-python",
   "name": "python",
   "nbconvert_exporter": "python",
   "pygments_lexer": "ipython3",
   "version": "3.9.5"
  }
 },
 "nbformat": 4,
 "nbformat_minor": 5
}
