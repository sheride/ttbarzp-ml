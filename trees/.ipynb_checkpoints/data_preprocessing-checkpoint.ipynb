{
 "cells": [
  {
   "cell_type": "code",
   "execution_count": 1,
   "metadata": {},
   "outputs": [],
   "source": [
    "import numpy as np\n",
    "names = ['sig_m350GeV', 'sig_m1TeV', 'bg']\n",
    "data = [np.load('../raw_data/' + name + '.npy') for name in names]\n",
    "sig350G, sig1T, bg = data\n",
    "bg1, bg2, bg3 = [bg[0:1000000], bg[1000000:2000000], bg[2000000:3000000]]"
   ]
  },
  {
   "cell_type": "code",
   "execution_count": 2,
   "metadata": {},
   "outputs": [],
   "source": [
    "import sklearn\n",
    "assert sklearn.__version__ >= \"0.20\""
   ]
  },
  {
   "cell_type": "code",
   "execution_count": 92,
   "metadata": {},
   "outputs": [],
   "source": [
    "sig350G_labelled = np.concatenate((sig350G, np.ones((len(sig350G),1))), axis=1)\n",
    "\n",
    "bg_shuffle = bg\n",
    "np.random.shuffle(bg_shuffle)\n",
    "bg_shuffle_labelled = np.concatenate((bg_shuffle, np.zeros((len(bg_shuffle),1))), axis=1)\n",
    "\n",
    "m350G_data = np.concatenate((sig350G_labelled, bg_shuffle_labelled[:len(sig350G)]), axis=0)"
   ]
  },
  {
   "cell_type": "code",
   "execution_count": 12,
   "metadata": {},
   "outputs": [],
   "source": [
    "from sklearn.pipeline import Pipeline\n",
    "from sklearn.preprocessing import StandardScaler, MinMaxScaler\n",
    "\n",
    "stand_pipe = Pipeline([('std_scaler', StandardScaler())])\n",
    "minmax_pipe = Pipeline([('minmax_scaler', MinMaxScaler())])"
   ]
  },
  {
   "cell_type": "code",
   "execution_count": 13,
   "metadata": {},
   "outputs": [],
   "source": [
    "from sklearn.model_selection import train_test_split\n",
    "\n",
    "train, test = train_test_split(m350G_data, test_size=0.2, random_state=42)\n",
    "train_stand, test_stand = train_test_split(stand_pipe.fit_transform(m350G_data), test_size=0.2, random_state=42)\n",
    "train_minmax, test_minmax = train_test_split(minmax_pipe.fit_transform(m350G_data), test_size=0.2, random_state=42)"
   ]
  },
  {
   "cell_type": "code",
   "execution_count": null,
   "metadata": {},
   "outputs": [],
   "source": []
  }
 ],
 "metadata": {
  "kernelspec": {
   "display_name": "Python 3",
   "language": "python",
   "name": "python3"
  },
  "language_info": {
   "codemirror_mode": {
    "name": "ipython",
    "version": 3
   },
   "file_extension": ".py",
   "mimetype": "text/x-python",
   "name": "python",
   "nbconvert_exporter": "python",
   "pygments_lexer": "ipython3",
   "version": "3.9.5"
  }
 },
 "nbformat": 4,
 "nbformat_minor": 4
}
