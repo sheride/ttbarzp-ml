{
 "cells": [
  {
   "cell_type": "code",
   "execution_count": 68,
   "metadata": {},
   "outputs": [],
   "source": [
    "import numpy as np\n",
    "import matplotlib.pyplot as plt\n",
    "\n",
    "class sigbg_model:\n",
    "    threshold = 0.5\n",
    "    \n",
    "    def __init__(self, model, train, test):\n",
    "        self.model = model\n",
    "        self.train = train\n",
    "        self.test = test\n",
    "        self.train_pred = train[:,:-1]\n",
    "        self.train_label = train[:,-1]\n",
    "        self.test_pred = test[:,:-1]\n",
    "        self.test_label = test[:,-1]\n",
    "        \n",
    "    def get_model(self):\n",
    "        return self.model\n",
    "    \n",
    "    def get_data(self):\n",
    "        return [self.train, self.test]\n",
    "    \n",
    "    def fit(self):\n",
    "        self.model.fit(self.train_pred, self.train_label)\n",
    "    \n",
    "    def predict(self, data=None):\n",
    "        data = data or self.test_pred\n",
    "        predictions = self.model.predict(data)\n",
    "        predictions_binary = np.where(predictions > sigbg_model.threshold,\n",
    "                                      np.ones_like(predictions), \n",
    "                                      np.zeros_like(predictions))\n",
    "        return predictions_binary\n",
    "        \n",
    "    def evaluate(self):\n",
    "        predictions = self.predict()\n",
    "        print(\n",
    "            'Accuracy: {}%'.format(\n",
    "                round((len(self.test) - np.sum(np.abs(predictions - self.test_label)))\n",
    "                      /len(self.test), 4) * 100))\n",
    "        \n",
    "    def fit_eval(self):\n",
    "        self.fit()\n",
    "        self.evaluate()\n",
    "        \n",
    "    def ROC_plot(self):\n",
    "        samples = np.linspace(0, 1, 30)\n",
    "        num_bg = np.sum(self.test_label)\n",
    "        num_sig = len(self.test) - num_bg\n",
    "        temp = sigbg_model.threshold\n",
    "        predictions = []\n",
    "        for val in samples:\n",
    "            sigbg_model.threshold = val\n",
    "            predictions.append(self.predict())\n",
    "        true_pos = [np.sum(np.logical_and(row == np.ones_like(row), row == self.test_label))/num_sig for row in predictions]\n",
    "        false_pos = [np.sum(np.logical_and(row == np.ones_like(row), row != self.test_label))/num_bg for row in predictions]\n",
    "        plt.scatter(false_pos, true_pos)"
   ]
  },
  {
   "cell_type": "code",
   "execution_count": null,
   "metadata": {},
   "outputs": [],
   "source": []
  }
 ],
 "metadata": {
  "kernelspec": {
   "display_name": "Python 3",
   "language": "python",
   "name": "python3"
  },
  "language_info": {
   "codemirror_mode": {
    "name": "ipython",
    "version": 3
   },
   "file_extension": ".py",
   "mimetype": "text/x-python",
   "name": "python",
   "nbconvert_exporter": "python",
   "pygments_lexer": "ipython3",
   "version": "3.7.4"
  }
 },
 "nbformat": 4,
 "nbformat_minor": 4
}
